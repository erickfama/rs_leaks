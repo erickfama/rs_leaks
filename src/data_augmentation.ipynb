{
 "cells": [
  {
   "attachments": {},
   "cell_type": "markdown",
   "metadata": {},
   "source": [
    "# Data augmentation"
   ]
  },
  {
   "cell_type": "code",
   "execution_count": 1,
   "metadata": {},
   "outputs": [],
   "source": [
    "import glob\n",
    "from skimage.io import imread\n",
    "import numpy as np\n",
    "import albumentations as A"
   ]
  },
  {
   "cell_type": "code",
   "execution_count": 2,
   "metadata": {},
   "outputs": [],
   "source": [
    "# Path of images\n",
    "files_leak = glob.glob(\"../data/patches_clean/leak/*.tif\")\n",
    "files_nonleak = glob.glob(\"../data/patches_clean/non_leak/*.tif\")\n",
    "files = files_leak + files_nonleak"
   ]
  },
  {
   "cell_type": "code",
   "execution_count": 3,
   "metadata": {},
   "outputs": [],
   "source": [
    "# Define augmentation pipeline\n",
    "transform = A.Compose([\n",
    "    A.HorizontalFlip(0.5),\n",
    "    A.Flip(0.5),\n",
    "    A.RandomRotate90(0.5),\n",
    "    A.Transpose(0.5)\n",
    "])"
   ]
  },
  {
   "cell_type": "code",
   "execution_count": 4,
   "metadata": {},
   "outputs": [
    {
     "name": "stdout",
     "output_type": "stream",
     "text": [
      "Data without augmentation:  (984, 20, 20, 14)\n",
      "Data with augmentation: (1004, 20, 20, 14)\n",
      "Data with augmentation: (1025, 20, 20, 14)\n",
      "Data with augmentation: (1046, 20, 20, 14)\n",
      "Data with augmentation: (1067, 20, 20, 14)\n",
      "Data with augmentation: (1089, 20, 20, 14)\n",
      "Data with augmentation: (1111, 20, 20, 14)\n",
      "Data with augmentation: (1134, 20, 20, 14)\n",
      "Data with augmentation: (1157, 20, 20, 14)\n",
      "Data with augmentation: (1181, 20, 20, 14)\n",
      "Data with augmentation: (1205, 20, 20, 14)\n",
      "Data with augmentation: (1230, 20, 20, 14)\n",
      "Data with augmentation: (1255, 20, 20, 14)\n",
      "Data with augmentation: (1281, 20, 20, 14)\n",
      "Data with augmentation: (1307, 20, 20, 14)\n",
      "Data with augmentation: (1334, 20, 20, 14)\n",
      "Data with augmentation: (1361, 20, 20, 14)\n",
      "Data with augmentation: (1389, 20, 20, 14)\n",
      "Data with augmentation: (1417, 20, 20, 14)\n",
      "Data with augmentation: (1446, 20, 20, 14)\n",
      "Data with augmentation: (1475, 20, 20, 14)\n",
      "Data with augmentation: (1505, 20, 20, 14)\n",
      "Data with augmentation: (1536, 20, 20, 14)\n",
      "Data with augmentation: (1567, 20, 20, 14)\n",
      "Data with augmentation: (1599, 20, 20, 14)\n",
      "Data with augmentation: (1631, 20, 20, 14)\n",
      "Data with augmentation: (1664, 20, 20, 14)\n",
      "Data with augmentation: (1698, 20, 20, 14)\n",
      "Data with augmentation: (1732, 20, 20, 14)\n",
      "Data with augmentation: (1767, 20, 20, 14)\n",
      "Data with augmentation: (1803, 20, 20, 14)\n",
      "Data with augmentation: (1840, 20, 20, 14)\n",
      "Data with augmentation: (1877, 20, 20, 14)\n",
      "Data with augmentation: (1915, 20, 20, 14)\n",
      "Data with augmentation: (1954, 20, 20, 14)\n"
     ]
    }
   ],
   "source": [
    "# Read and perform augmentation\n",
    "X_leaks = []\n",
    "for file in files_leak:\n",
    "    image = imread(file)\n",
    "    if image.shape == (20, 20, 14):\n",
    "        X_leaks.append(image)\n",
    "    else: \n",
    "        next\n",
    "\n",
    "print(\"Data without augmentation: \", np.array(X_leaks).shape)\n",
    "\n",
    "# Augmentation\n",
    "for i in [j for j in range(0, 826, 25)]:\n",
    "    for img in range(0, len(X_leaks), 50):\n",
    "        image_tr = transform(image = X_leaks[img])[\"image\"]\n",
    "        X_leaks.append(image_tr)\n",
    "\n",
    "    X_leaks_raw = np.array(X_leaks)\n",
    "    print(\"Data with augmentation:\", X_leaks_raw.shape)"
   ]
  },
  {
   "cell_type": "code",
   "execution_count": 5,
   "metadata": {},
   "outputs": [
    {
     "name": "stdout",
     "output_type": "stream",
     "text": [
      "Data without augmentation:  (985, 20, 20, 14)\n",
      "Data with augmentation: (1005, 20, 20, 14)\n",
      "Data with augmentation: (1026, 20, 20, 14)\n",
      "Data with augmentation: (1047, 20, 20, 14)\n",
      "Data with augmentation: (1068, 20, 20, 14)\n",
      "Data with augmentation: (1090, 20, 20, 14)\n",
      "Data with augmentation: (1112, 20, 20, 14)\n",
      "Data with augmentation: (1135, 20, 20, 14)\n",
      "Data with augmentation: (1158, 20, 20, 14)\n",
      "Data with augmentation: (1182, 20, 20, 14)\n",
      "Data with augmentation: (1206, 20, 20, 14)\n",
      "Data with augmentation: (1231, 20, 20, 14)\n",
      "Data with augmentation: (1256, 20, 20, 14)\n",
      "Data with augmentation: (1282, 20, 20, 14)\n",
      "Data with augmentation: (1308, 20, 20, 14)\n",
      "Data with augmentation: (1335, 20, 20, 14)\n",
      "Data with augmentation: (1362, 20, 20, 14)\n",
      "Data with augmentation: (1390, 20, 20, 14)\n",
      "Data with augmentation: (1418, 20, 20, 14)\n",
      "Data with augmentation: (1447, 20, 20, 14)\n",
      "Data with augmentation: (1476, 20, 20, 14)\n",
      "Data with augmentation: (1506, 20, 20, 14)\n",
      "Data with augmentation: (1537, 20, 20, 14)\n",
      "Data with augmentation: (1568, 20, 20, 14)\n",
      "Data with augmentation: (1600, 20, 20, 14)\n",
      "Data with augmentation: (1632, 20, 20, 14)\n",
      "Data with augmentation: (1665, 20, 20, 14)\n",
      "Data with augmentation: (1699, 20, 20, 14)\n",
      "Data with augmentation: (1733, 20, 20, 14)\n",
      "Data with augmentation: (1768, 20, 20, 14)\n",
      "Data with augmentation: (1804, 20, 20, 14)\n",
      "Data with augmentation: (1841, 20, 20, 14)\n",
      "Data with augmentation: (1878, 20, 20, 14)\n",
      "Data with augmentation: (1916, 20, 20, 14)\n",
      "Data with augmentation: (1955, 20, 20, 14)\n"
     ]
    }
   ],
   "source": [
    "# Read and perform augmentation\n",
    "X_nonleaks = []\n",
    "for file in files_nonleak:\n",
    "    image = imread(file)\n",
    "    if image.shape == (20, 20, 14):\n",
    "        X_nonleaks.append(image)\n",
    "    else: \n",
    "        next\n",
    "\n",
    "print(\"Data without augmentation: \", np.array(X_nonleaks).shape)\n",
    "\n",
    "# Augmentation\n",
    "for i in [j for j in range(0, 826, 25)]:\n",
    "    for img in range(0, len(X_nonleaks), 50):\n",
    "        image_tr = transform(image = X_nonleaks[img])[\"image\"]\n",
    "        X_nonleaks.append(image_tr)\n",
    "\n",
    "    X_nonleaks_raw = np.array(X_nonleaks)\n",
    "    print(\"Data with augmentation:\", X_nonleaks_raw.shape)"
   ]
  },
  {
   "cell_type": "code",
   "execution_count": 6,
   "metadata": {},
   "outputs": [
    {
     "data": {
      "text/plain": [
       "(3909, 20, 20, 14)"
      ]
     },
     "execution_count": 6,
     "metadata": {},
     "output_type": "execute_result"
    }
   ],
   "source": [
    "X = np.vstack([X_leaks_raw, X_nonleaks_raw])\n",
    "X.shape"
   ]
  },
  {
   "cell_type": "code",
   "execution_count": 7,
   "metadata": {},
   "outputs": [
    {
     "data": {
      "text/plain": [
       "(3909, 1)"
      ]
     },
     "execution_count": 7,
     "metadata": {},
     "output_type": "execute_result"
    }
   ],
   "source": [
    "Y = [1 for i in range(0, int(X_leaks_raw.shape[0]))] + [0 for i in range(0, int(X_nonleaks_raw.shape[0]))]\n",
    "Y = np.array(Y).reshape(X.shape[0], 1)\n",
    "Y.shape"
   ]
  },
  {
   "cell_type": "code",
   "execution_count": 9,
   "metadata": {},
   "outputs": [],
   "source": [
    "# Write full sets\n",
    "np.save(\"../data/clean/X_full.npy\", X)\n",
    "np.save(\"../data/clean/Y_full.npy\", Y)"
   ]
  }
 ],
 "metadata": {
  "kernelspec": {
   "display_name": "Python 3",
   "language": "python",
   "name": "python3"
  },
  "language_info": {
   "codemirror_mode": {
    "name": "ipython",
    "version": 3
   },
   "file_extension": ".py",
   "mimetype": "text/x-python",
   "name": "python",
   "nbconvert_exporter": "python",
   "pygments_lexer": "ipython3",
   "version": "3.11.2"
  },
  "orig_nbformat": 4
 },
 "nbformat": 4,
 "nbformat_minor": 2
}
