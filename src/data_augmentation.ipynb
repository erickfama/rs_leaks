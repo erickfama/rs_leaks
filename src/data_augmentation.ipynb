{
 "cells": [
  {
   "cell_type": "markdown",
   "metadata": {},
   "source": [
    "# Data augmentation"
   ]
  },
  {
   "cell_type": "code",
   "execution_count": 1,
   "metadata": {},
   "outputs": [],
   "source": [
    "import glob\n",
    "from skimage.io import imread\n",
    "import numpy as np\n",
    "import albumentations as A"
   ]
  },
  {
   "cell_type": "code",
   "execution_count": 24,
   "metadata": {},
   "outputs": [],
   "source": [
    "# Path of images\n",
    "files_leak = glob.glob(\"../data/patches_clean/leak/*.tif\")\n",
    "files_nonleak = glob.glob(\"../data/patches_clean/non_leak/*.tif\")\n",
    "files = files_leak + files_nonleak"
   ]
  },
  {
   "cell_type": "code",
   "execution_count": 18,
   "metadata": {},
   "outputs": [],
   "source": [
    "# Define augmentation pipeline\n",
    "transform = A.Compose([\n",
    "    A.HorizontalFlip(0.5),\n",
    "    A.Flip(0.5),\n",
    "    A.RandomRotate90(0.5),\n",
    "    A.Transpose(0.5)\n",
    "])"
   ]
  },
  {
   "cell_type": "code",
   "execution_count": 19,
   "metadata": {},
   "outputs": [
    {
     "name": "stdout",
     "output_type": "stream",
     "text": [
      "Data without augmentation:  (825, 21, 21, 14)\n",
      "Data with augmentation: (842, 21, 21, 14)\n",
      "Data with augmentation: (859, 21, 21, 14)\n",
      "Data with augmentation: (877, 21, 21, 14)\n",
      "Data with augmentation: (895, 21, 21, 14)\n",
      "Data with augmentation: (913, 21, 21, 14)\n",
      "Data with augmentation: (932, 21, 21, 14)\n",
      "Data with augmentation: (951, 21, 21, 14)\n",
      "Data with augmentation: (971, 21, 21, 14)\n",
      "Data with augmentation: (991, 21, 21, 14)\n",
      "Data with augmentation: (1011, 21, 21, 14)\n",
      "Data with augmentation: (1032, 21, 21, 14)\n",
      "Data with augmentation: (1053, 21, 21, 14)\n",
      "Data with augmentation: (1075, 21, 21, 14)\n",
      "Data with augmentation: (1097, 21, 21, 14)\n",
      "Data with augmentation: (1119, 21, 21, 14)\n",
      "Data with augmentation: (1142, 21, 21, 14)\n",
      "Data with augmentation: (1165, 21, 21, 14)\n",
      "Data with augmentation: (1189, 21, 21, 14)\n",
      "Data with augmentation: (1213, 21, 21, 14)\n",
      "Data with augmentation: (1238, 21, 21, 14)\n",
      "Data with augmentation: (1263, 21, 21, 14)\n",
      "Data with augmentation: (1289, 21, 21, 14)\n",
      "Data with augmentation: (1315, 21, 21, 14)\n",
      "Data with augmentation: (1342, 21, 21, 14)\n",
      "Data with augmentation: (1369, 21, 21, 14)\n",
      "Data with augmentation: (1397, 21, 21, 14)\n",
      "Data with augmentation: (1425, 21, 21, 14)\n",
      "Data with augmentation: (1454, 21, 21, 14)\n",
      "Data with augmentation: (1484, 21, 21, 14)\n",
      "Data with augmentation: (1514, 21, 21, 14)\n",
      "Data with augmentation: (1545, 21, 21, 14)\n",
      "Data with augmentation: (1576, 21, 21, 14)\n",
      "Data with augmentation: (1608, 21, 21, 14)\n",
      "Data with augmentation: (1641, 21, 21, 14)\n"
     ]
    }
   ],
   "source": [
    "# Read and perform augmentation\n",
    "X_leaks = []\n",
    "for file in files_leak:\n",
    "    image = imread(file)\n",
    "    if image.shape == (21, 21, 14):\n",
    "        X_leaks.append(image)\n",
    "    else: \n",
    "        next\n",
    "\n",
    "print(\"Data without augmentation: \", np.array(X_leaks).shape)\n",
    "\n",
    "# Augmentation\n",
    "for i in [j for j in range(0, 826, 25)]:\n",
    "    for img in range(0, len(X_leaks), 50):\n",
    "        image_tr = transform(image = X_leaks[img])[\"image\"]\n",
    "        X_leaks.append(image_tr)\n",
    "\n",
    "    X_leaks_raw = np.array(X_leaks)\n",
    "    print(\"Data with augmentation:\", X_leaks_raw.shape)"
   ]
  },
  {
   "cell_type": "code",
   "execution_count": 26,
   "metadata": {},
   "outputs": [
    {
     "name": "stdout",
     "output_type": "stream",
     "text": [
      "Data without augmentation:  (825, 21, 21, 14)\n",
      "Data with augmentation: (842, 21, 21, 14)\n",
      "Data with augmentation: (859, 21, 21, 14)\n",
      "Data with augmentation: (877, 21, 21, 14)\n",
      "Data with augmentation: (895, 21, 21, 14)\n",
      "Data with augmentation: (913, 21, 21, 14)\n",
      "Data with augmentation: (932, 21, 21, 14)\n",
      "Data with augmentation: (951, 21, 21, 14)\n",
      "Data with augmentation: (971, 21, 21, 14)\n",
      "Data with augmentation: (991, 21, 21, 14)\n",
      "Data with augmentation: (1011, 21, 21, 14)\n",
      "Data with augmentation: (1032, 21, 21, 14)\n",
      "Data with augmentation: (1053, 21, 21, 14)\n",
      "Data with augmentation: (1075, 21, 21, 14)\n",
      "Data with augmentation: (1097, 21, 21, 14)\n",
      "Data with augmentation: (1119, 21, 21, 14)\n",
      "Data with augmentation: (1142, 21, 21, 14)\n",
      "Data with augmentation: (1165, 21, 21, 14)\n",
      "Data with augmentation: (1189, 21, 21, 14)\n",
      "Data with augmentation: (1213, 21, 21, 14)\n",
      "Data with augmentation: (1238, 21, 21, 14)\n",
      "Data with augmentation: (1263, 21, 21, 14)\n",
      "Data with augmentation: (1289, 21, 21, 14)\n",
      "Data with augmentation: (1315, 21, 21, 14)\n",
      "Data with augmentation: (1342, 21, 21, 14)\n",
      "Data with augmentation: (1369, 21, 21, 14)\n",
      "Data with augmentation: (1397, 21, 21, 14)\n",
      "Data with augmentation: (1425, 21, 21, 14)\n",
      "Data with augmentation: (1454, 21, 21, 14)\n",
      "Data with augmentation: (1484, 21, 21, 14)\n",
      "Data with augmentation: (1514, 21, 21, 14)\n",
      "Data with augmentation: (1545, 21, 21, 14)\n",
      "Data with augmentation: (1576, 21, 21, 14)\n",
      "Data with augmentation: (1608, 21, 21, 14)\n",
      "Data with augmentation: (1641, 21, 21, 14)\n"
     ]
    }
   ],
   "source": [
    "# Read and perform augmentation\n",
    "X_nonleaks = []\n",
    "for file in files_nonleak:\n",
    "    image = imread(file)\n",
    "    if image.shape == (21, 21, 14):\n",
    "        X_nonleaks.append(image)\n",
    "    else: \n",
    "        next\n",
    "\n",
    "print(\"Data without augmentation: \", np.array(X_nonleaks).shape)\n",
    "\n",
    "# Augmentation\n",
    "for i in [j for j in range(0, 826, 25)]:\n",
    "    for img in range(0, len(X_nonleaks), 50):\n",
    "        image_tr = transform(image = X_nonleaks[img])[\"image\"]\n",
    "        X_nonleaks.append(image_tr)\n",
    "\n",
    "    X_nonleaks_raw = np.array(X_nonleaks)\n",
    "    print(\"Data with augmentation:\", X_nonleaks_raw.shape)"
   ]
  },
  {
   "cell_type": "code",
   "execution_count": 31,
   "metadata": {},
   "outputs": [
    {
     "data": {
      "text/plain": [
       "(3282, 21, 21, 14)"
      ]
     },
     "execution_count": 31,
     "metadata": {},
     "output_type": "execute_result"
    }
   ],
   "source": [
    "X = np.vstack([X_leaks_raw, X_nonleaks_raw])\n",
    "X.shape"
   ]
  },
  {
   "cell_type": "code",
   "execution_count": 38,
   "metadata": {},
   "outputs": [],
   "source": [
    "Y = [1 for i in range(0, int(X.shape[0]/2))] + [0 for i in range(0, int(X.shape[0]/2))]\n",
    "Y = np.array(Y).reshape(3282, 1)"
   ]
  },
  {
   "cell_type": "code",
   "execution_count": 41,
   "metadata": {},
   "outputs": [],
   "source": [
    "# Write full sets\n",
    "np.save(\"../data/clean/X.npy\", X)\n",
    "np.save(\"../data/clean/Y.npy\", Y)"
   ]
  }
 ],
 "metadata": {
  "kernelspec": {
   "display_name": "Python 3",
   "language": "python",
   "name": "python3"
  },
  "language_info": {
   "codemirror_mode": {
    "name": "ipython",
    "version": 3
   },
   "file_extension": ".py",
   "mimetype": "text/x-python",
   "name": "python",
   "nbconvert_exporter": "python",
   "pygments_lexer": "ipython3",
   "version": "3.11.2"
  },
  "orig_nbformat": 4
 },
 "nbformat": 4,
 "nbformat_minor": 2
}
