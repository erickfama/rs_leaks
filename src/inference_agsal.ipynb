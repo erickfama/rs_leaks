{
  "cells": [
    {
      "cell_type": "markdown",
      "metadata": {
        "id": "6nrt5AcitA8M"
      },
      "source": [
        "# Classify Agsal images"
      ]
    },
    {
      "cell_type": "markdown",
      "metadata": {
        "vscode": {
          "languageId": "plaintext"
        },
        "id": "gNkVCOSPtA8O"
      },
      "source": [
        "## Modules"
      ]
    },
    {
      "cell_type": "code",
      "execution_count": 7,
      "metadata": {
        "id": "OXACyYVltA8O"
      },
      "outputs": [],
      "source": [
        "import numpy as np\n",
        "#from keras.models import load_model\n",
        "from tensorflow.keras.models import load_model\n",
        "from sklearn.metrics import classification_report, f1_score"
      ]
    },
    {
      "cell_type": "code",
      "source": [
        "from google.colab import drive\n",
        "drive.mount(\"/content/drive\")"
      ],
      "metadata": {
        "colab": {
          "base_uri": "https://localhost:8080/"
        },
        "id": "E9-jinAAtcM-",
        "outputId": "9cdb1c0b-0e8b-4115-87ee-8bbb556eff68"
      },
      "execution_count": 2,
      "outputs": [
        {
          "output_type": "stream",
          "name": "stdout",
          "text": [
            "Mounted at /content/drive\n"
          ]
        }
      ]
    },
    {
      "cell_type": "markdown",
      "metadata": {
        "id": "yjfDOd1itA8P"
      },
      "source": [
        "## Environmental variables"
      ]
    },
    {
      "cell_type": "code",
      "execution_count": null,
      "metadata": {
        "id": "6k0gwqK3tA8P"
      },
      "outputs": [],
      "source": [
        "MODEL_PATH = \"../models/model_81acc.keras\"\n",
        "IMAGES_ROOT_PATH = \"../data/clean\"\n"
      ]
    },
    {
      "cell_type": "markdown",
      "metadata": {
        "id": "s-DAZ-eqtA8P"
      },
      "source": [
        "### Load data and model"
      ]
    },
    {
      "cell_type": "code",
      "execution_count": 3,
      "metadata": {
        "id": "uy7p0dHotA8P"
      },
      "outputs": [],
      "source": [
        "# Read from google drive\n",
        "X = np.load(\"/content/drive/MyDrive/training/X_agsal.npy\")\n",
        "Y = np.load(\"/content/drive/MyDrive/training/Y_agsal.npy\")"
      ]
    },
    {
      "cell_type": "code",
      "execution_count": 4,
      "metadata": {
        "id": "tE9I51U4tA8Q"
      },
      "outputs": [],
      "source": [
        "model = load_model(\"/content/drive/MyDrive/models/model_81acc.keras\")"
      ]
    },
    {
      "cell_type": "code",
      "execution_count": 5,
      "metadata": {
        "colab": {
          "base_uri": "https://localhost:8080/"
        },
        "id": "HkckZncttA8Q",
        "outputId": "fe85b30e-c268-4f54-a591-d100a7492699"
      },
      "outputs": [
        {
          "output_type": "stream",
          "name": "stdout",
          "text": [
            "1/1 [==============================] - 0s 333ms/step\n"
          ]
        }
      ],
      "source": [
        "results = model.predict(X)"
      ]
    },
    {
      "cell_type": "code",
      "execution_count": 11,
      "metadata": {
        "colab": {
          "base_uri": "https://localhost:8080/"
        },
        "id": "KgasnwoltA8Q",
        "outputId": "0190ad13-1428-400d-b6ab-827a21fd15a1"
      },
      "outputs": [
        {
          "output_type": "execute_result",
          "data": {
            "text/plain": [
              "array([[0.56387   ],\n",
              "       [0.5641336 ],\n",
              "       [0.5639141 ],\n",
              "       [0.5506105 ],\n",
              "       [0.5500752 ],\n",
              "       [0.6022561 ],\n",
              "       [0.60207975],\n",
              "       [0.60214466],\n",
              "       [0.59539866],\n",
              "       [0.595373  ]], dtype=float32)"
            ]
          },
          "metadata": {},
          "execution_count": 11
        }
      ],
      "source": [
        "results"
      ]
    },
    {
      "cell_type": "code",
      "execution_count": 14,
      "metadata": {
        "colab": {
          "base_uri": "https://localhost:8080/"
        },
        "id": "KXh5jyNUtA8Q",
        "outputId": "aef85e71-9789-434d-a742-a2afd4804220"
      },
      "outputs": [
        {
          "output_type": "stream",
          "name": "stdout",
          "text": [
            "              precision    recall  f1-score   support\n",
            "\n",
            "           0       0.62      1.00      0.77         5\n",
            "           1       1.00      0.40      0.57         5\n",
            "\n",
            "    accuracy                           0.70        10\n",
            "   macro avg       0.81      0.70      0.67        10\n",
            "weighted avg       0.81      0.70      0.67        10\n",
            "\n"
          ]
        }
      ],
      "source": [
        "print(classification_report(Y, np.where(results < .56, 1, 0)))\n"
      ]
    },
    {
      "cell_type": "code",
      "source": [
        "print(classification_report(Y, np.where(results > .56, 1, 0)))"
      ],
      "metadata": {
        "colab": {
          "base_uri": "https://localhost:8080/"
        },
        "id": "xR3o2s3OuZ33",
        "outputId": "3ab3acbd-bc36-47e3-c421-2d2d2b5036fc"
      },
      "execution_count": 15,
      "outputs": [
        {
          "output_type": "stream",
          "name": "stdout",
          "text": [
            "              precision    recall  f1-score   support\n",
            "\n",
            "           0       0.00      0.00      0.00         5\n",
            "           1       0.38      0.60      0.46         5\n",
            "\n",
            "    accuracy                           0.30        10\n",
            "   macro avg       0.19      0.30      0.23        10\n",
            "weighted avg       0.19      0.30      0.23        10\n",
            "\n"
          ]
        }
      ]
    },
    {
      "cell_type": "code",
      "source": [],
      "metadata": {
        "id": "0657OwSAvWuP"
      },
      "execution_count": null,
      "outputs": []
    }
  ],
  "metadata": {
    "kernelspec": {
      "display_name": "rs_leaks_env",
      "language": "python",
      "name": "python3"
    },
    "language_info": {
      "codemirror_mode": {
        "name": "ipython",
        "version": 3
      },
      "file_extension": ".py",
      "mimetype": "text/x-python",
      "name": "python",
      "nbconvert_exporter": "python",
      "pygments_lexer": "ipython3",
      "version": "3.9.16"
    },
    "colab": {
      "provenance": []
    }
  },
  "nbformat": 4,
  "nbformat_minor": 0
}