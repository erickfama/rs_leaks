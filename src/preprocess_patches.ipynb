{
 "cells": [
  {
   "attachments": {},
   "cell_type": "markdown",
   "metadata": {},
   "source": [
    "# Patch preprocessing"
   ]
  },
  {
   "attachments": {},
   "cell_type": "markdown",
   "metadata": {},
   "source": [
    "This notebook contains the code to preprocess every patch file. The steps are the following:\n",
    "1. Unzip all the tiff files for every patch (one per band).\n",
    "2. Stack all bands together in order to create a unique image.\n",
    "3. Write the stacked tiff images in the folder patches_clean."
   ]
  },
  {
   "cell_type": "code",
   "execution_count": 1,
   "metadata": {},
   "outputs": [],
   "source": [
    "import os\n",
    "import zipfile\n",
    "from glob import glob\n",
    "import rasterio as rio\n",
    "import numpy as np\n",
    "import re\n",
    "import tifffile\n",
    "from skimage.io import imread"
   ]
  },
  {
   "attachments": {},
   "cell_type": "markdown",
   "metadata": {},
   "source": [
    "## Unzip files"
   ]
  },
  {
   "cell_type": "code",
   "execution_count": 2,
   "metadata": {},
   "outputs": [],
   "source": [
    "# Get names of all the zips\n",
    "zips_dirs = os.listdir(\"../data/patches_raw/leak/\")\n",
    "\n",
    "# Remove .zip extension from the name\n",
    "patch_dir_names = [re.search(\"S2_i\\d+d_\\d+-\\d+-\\d+_\\d+\", name).group() for name in zips_dirs]\n",
    "\n",
    "parent_dir = \"../data/patches_raw/leak/\"\n",
    "\n",
    "for dir, patch_dir in zip(zips_dirs, patch_dir_names):\n",
    "    path_zip = os.path.join(parent_dir, dir)\n",
    "    if zipfile.is_zipfile(path_zip):\n",
    "        with zipfile.ZipFile(path_zip) as item:\n",
    "            item.extractall(os.path.join(parent_dir, patch_dir))"
   ]
  },
  {
   "attachments": {},
   "cell_type": "markdown",
   "metadata": {},
   "source": [
    "## Stack bands"
   ]
  },
  {
   "cell_type": "code",
   "execution_count": null,
   "metadata": {},
   "outputs": [],
   "source": [
    "patches_bands = glob(\"../data/patches_raw/leak/S2_2020-01-06_3/*B*.tif\")\n",
    "\n",
    "def my_digit_sort(my_list):\n",
    "   return list(map(int, re.findall(r'(?<=.B)\\d+(?=A?.tif)', my_list)))[0]\n",
    "\n",
    "patches_bands.sort(key = my_digit_sort)\n",
    "patches_bands.append(glob(\"../data/patches_raw/leak/S2_2020-01-06_3/*WVP*.tif\")[0])\n",
    "patches_bands.append(glob(\"../data/patches_raw/leak/S2_2020-01-06_3/*LST*.tif\")[0])\n",
    "patches_bands"
   ]
  },
  {
   "cell_type": "code",
   "execution_count": null,
   "metadata": {},
   "outputs": [],
   "source": [
    "stacked_patches = []\n",
    "for patch in patches_bands:\n",
    "    with rio.open(patch, \"r\") as f:\n",
    "        stacked_patches.append(f.read(1))\n",
    "        print(f.profile)"
   ]
  },
  {
   "cell_type": "code",
   "execution_count": null,
   "metadata": {},
   "outputs": [],
   "source": [
    "# stack bands into an nd array\n",
    "stacked_patch = np.stack(stacked_patches)\n",
    "stacked_patch.shape"
   ]
  },
  {
   "cell_type": "code",
   "execution_count": null,
   "metadata": {},
   "outputs": [],
   "source": [
    "np.transpose(stacked_patch).shape"
   ]
  },
  {
   "cell_type": "code",
   "execution_count": null,
   "metadata": {},
   "outputs": [],
   "source": [
    "# Save stacked tif image\n",
    "image_name = re.search(r\"(?<=\\\\)(.*?)(?=.B)\", patches_bands[0]).group()\n",
    "tifffile.imwrite(\"../data/patches_clean/leak/\" + image_name + \".tif\", stacked_patch)\n",
    "stacked_image = tifffile.imread(\"../data/patches_clean/leak/\" + image_name + \".tif\")\n",
    "stacked_image.shape"
   ]
  },
  {
   "attachments": {},
   "cell_type": "markdown",
   "metadata": {},
   "source": [
    "### Generalize stacking for all images (leak)"
   ]
  },
  {
   "cell_type": "code",
   "execution_count": 4,
   "metadata": {},
   "outputs": [],
   "source": [
    "# Function to order tif files by their band name\n",
    "def my_digit_sort(my_list):\n",
    "   return list(map(int, re.findall(r'(?<=.B)\\d+(?=A?.tif)', my_list)))[0]"
   ]
  },
  {
   "cell_type": "code",
   "execution_count": 6,
   "metadata": {},
   "outputs": [],
   "source": [
    "# Get list of all patch directories\n",
    "image_directories = os.listdir(\"../data/patches_raw/leak/\")\n",
    "\n",
    "# Remove zip files from list\n",
    "pattern = re.compile(\"^S.*\\d$\")\n",
    "image_directories_nozips = list(filter(pattern.match, image_directories))\n",
    "\n",
    "# Get band path for each patch\n",
    "id = 0\n",
    "for image_dir in image_directories_nozips:\n",
    "    id_leak = re.search(r\"(?<=i)(.*?)(?=d)\", image_dir).group()\n",
    "    patches_bands = glob(\"../data/patches_raw/leak/\" + image_dir + \"/*B*.tif\")\n",
    "    patches_bands.sort(key = my_digit_sort)\n",
    "    patches_bands.append(glob(\"../data/patches_raw/leak/\" + image_dir + \"/*WVP*.tif\")[0])\n",
    "    patches_bands.append(glob(\"../data/patches_raw/leak/\" + image_dir + \"/*LST*.tif\")[0])\n",
    "\n",
    "    stacked_patches = []\n",
    "    for patch in patches_bands:\n",
    "        with rio.open(patch, \"r\") as f:\n",
    "            stacked_patches.append(f.read(1))\n",
    "    \n",
    "    stacked_patch = np.transpose(np.stack(stacked_patches))\n",
    "\n",
    "    # Crop patch\n",
    "    if stacked_patch.shape == (21, 21, 14):\n",
    "        stacked_patch = stacked_patch[1:21, 1:21, :]\n",
    "    if stacked_patch.shape == (20, 21, 14):\n",
    "        stacked_patch = stacked_patch[:, 1:21, :]\n",
    "    if stacked_patch.shape == (21, 20, 14):\n",
    "        stacked_patch = stacked_patch[1:21, :, :]\n",
    "    \n",
    "    image_name = re.search(r\"(?<=\\\\)(.*?)(?=.B)\", patches_bands[0]).group()\n",
    "    # Add id\n",
    "    image_name = image_name + \"_leak\" + str(id) + \"_idLeak_\" + id_leak\n",
    "\n",
    "    # Create stacked image save directory in patches_clean\n",
    "#    save_path = \"../data/patches_clean/leak/\" + image_dir\n",
    "\n",
    "#    if os.path.exists(save_path) == False:\n",
    "#        os.mkdir(save_path)\n",
    "\n",
    "    # Write stacked patch\n",
    "    tifffile.imwrite(\"../data/patches_clean/leak/\" + image_name + \".tif\", stacked_patch)\n",
    "    id += 1 "
   ]
  },
  {
   "attachments": {},
   "cell_type": "markdown",
   "metadata": {},
   "source": [
    "### Generalize for non leak images"
   ]
  },
  {
   "cell_type": "code",
   "execution_count": 7,
   "metadata": {},
   "outputs": [],
   "source": [
    "## Unzip\n",
    "\n",
    "# Get names of all the zips\n",
    "zips_dirs = os.listdir(\"../data/patches_raw/non_leak\")\n",
    "\n",
    "# Remove .zip extension from the name\n",
    "patch_dir_names = [re.search(\"S2_i\\d+d_\\d+-\\d+-\\d+_\\d+\", name).group() for name in zips_dirs]\n",
    "\n",
    "parent_dir = \"../data/patches_raw/non_leak/\"\n",
    "\n",
    "for dir, patch_dir in zip(zips_dirs, patch_dir_names):\n",
    "    path_zip = os.path.join(parent_dir, dir)\n",
    "    if zipfile.is_zipfile(path_zip):\n",
    "        with zipfile.ZipFile(path_zip) as item:\n",
    "            item.extractall(os.path.join(parent_dir, patch_dir))"
   ]
  },
  {
   "cell_type": "code",
   "execution_count": 8,
   "metadata": {},
   "outputs": [],
   "source": [
    "# Get list of all patch directories\n",
    "image_directories = os.listdir(\"../data/patches_raw/non_leak\")\n",
    "\n",
    "# Remove zip files from list\n",
    "pattern = re.compile(\"^S.*\\d$\")\n",
    "image_directories_nozips = list(filter(pattern.match, image_directories))\n",
    "\n",
    "# Get band path for each patch\n",
    "id = 0\n",
    "for image_dir in image_directories_nozips:\n",
    "\n",
    "    id_leak = re.search(r\"(?<=i)(.*?)(?=d)\", image_dir).group()\n",
    "    patches_bands = glob(\"../data/patches_raw/non_leak/\" + image_dir + \"/*B*.tif\")\n",
    "    patches_bands.sort(key = my_digit_sort)\n",
    "    patches_bands.append(glob(\"../data/patches_raw/non_leak/\" + image_dir + \"/*WVP*.tif\")[0])\n",
    "    patches_bands.append(glob(\"../data/patches_raw/non_leak/\" + image_dir + \"/*LST*.tif\")[0])\n",
    "\n",
    "    stacked_patches = []\n",
    "    for patch in patches_bands:\n",
    "        with rio.open(patch, \"r\") as f:\n",
    "            stacked_patches.append(f.read(1))\n",
    "    \n",
    "    stacked_patch = np.transpose(np.stack(stacked_patches))\n",
    "\n",
    "    # Crop patch\n",
    "    if stacked_patch.shape == (21, 21, 14):\n",
    "        stacked_patch = stacked_patch[1:21, 1:21, :]\n",
    "    if stacked_patch.shape == (20, 21, 14):\n",
    "        stacked_patch = stacked_patch[:, 1:21, :]\n",
    "    if stacked_patch.shape == (21, 20, 14):\n",
    "        stacked_patch = stacked_patch[1:21, :, :]\n",
    "\n",
    "    image_name = re.search(r\"(?<=\\\\)(.*?)(?=.B)\", patches_bands[0]).group()\n",
    "    # Add id\n",
    "    image_name = image_name + \"_nonleak\" + str(id) + \"_idLeak_\" + id_leak\n",
    "\n",
    "    # Create stacked image save directory in patches_clean\n",
    "    #save_path = \"../data/patches_clean/non_leak/\" + image_dir\n",
    "    #if os.path.exists(save_path) == False:\n",
    "    #    os.mkdir(save_path)\n",
    "\n",
    "    # Write stacked patch\n",
    "    tifffile.imwrite(\"../data/patches_clean/non_leak/\" + image_name + \".tif\", stacked_patch)\n",
    "    id += 1"
   ]
  }
 ],
 "metadata": {
  "kernelspec": {
   "display_name": "Python 3",
   "language": "python",
   "name": "python3"
  },
  "language_info": {
   "codemirror_mode": {
    "name": "ipython",
    "version": 3
   },
   "file_extension": ".py",
   "mimetype": "text/x-python",
   "name": "python",
   "nbconvert_exporter": "python",
   "pygments_lexer": "ipython3",
   "version": "3.11.2"
  },
  "orig_nbformat": 4
 },
 "nbformat": 4,
 "nbformat_minor": 2
}
