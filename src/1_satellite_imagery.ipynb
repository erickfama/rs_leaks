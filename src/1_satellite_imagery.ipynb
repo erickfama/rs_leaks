{
 "cells": [
  {
   "cell_type": "code",
   "execution_count": 62,
   "metadata": {},
   "outputs": [],
   "source": [
    "import numpy as np\n",
    "import pandas as pd\n",
    "from janitor import clean_names\n",
    "from datetime import timedelta\n",
    "import ee\n",
    "import pyproj\n",
    "import requests\n",
    "\n",
    "# Modules not needed\n",
    "import geopandas as gpd\n",
    "import polars as pl\n",
    "import matplotlib.pyplot as plt\n",
    "# import zipfile\n",
    "# import os\n",
    "# import request\n",
    "import rasterio\n",
    "# import geeS2downloader\n",
    "from IPython.display import Image"
   ]
  },
  {
   "cell_type": "code",
   "execution_count": 2,
   "metadata": {},
   "outputs": [
    {
     "data": {
      "text/html": [
       "<div>\n",
       "<style scoped>\n",
       "    .dataframe tbody tr th:only-of-type {\n",
       "        vertical-align: middle;\n",
       "    }\n",
       "\n",
       "    .dataframe tbody tr th {\n",
       "        vertical-align: top;\n",
       "    }\n",
       "\n",
       "    .dataframe thead th {\n",
       "        text-align: right;\n",
       "    }\n",
       "</style>\n",
       "<table border=\"1\" class=\"dataframe\">\n",
       "  <thead>\n",
       "    <tr style=\"text-align: right;\">\n",
       "      <th></th>\n",
       "      <th>Id</th>\n",
       "      <th>FECHA DE CREACIÓN</th>\n",
       "      <th>FECHA DE INICIO</th>\n",
       "      <th>FECHA FINAL</th>\n",
       "      <th>CODUNIDAD</th>\n",
       "      <th>FECHALEGALIZACION</th>\n",
       "      <th>NOMBREESTADO</th>\n",
       "      <th>NOMBRETRABAJO</th>\n",
       "      <th>CAUSAL</th>\n",
       "      <th>X</th>\n",
       "      <th>Y</th>\n",
       "    </tr>\n",
       "  </thead>\n",
       "  <tbody>\n",
       "    <tr>\n",
       "      <th>0</th>\n",
       "      <td>1</td>\n",
       "      <td>2021-10-14</td>\n",
       "      <td>2022-11-24</td>\n",
       "      <td>2022-12-07</td>\n",
       "      <td>757</td>\n",
       "      <td>2022-12-07</td>\n",
       "      <td>Cerrada</td>\n",
       "      <td>FTA - FUGA EN TOMA DE AGUA</td>\n",
       "      <td>SE CANCELA</td>\n",
       "      <td>781021.888082</td>\n",
       "      <td>2.428227e+06</td>\n",
       "    </tr>\n",
       "    <tr>\n",
       "      <th>1</th>\n",
       "      <td>2</td>\n",
       "      <td>2021-09-28</td>\n",
       "      <td>2022-11-24</td>\n",
       "      <td>2022-12-07</td>\n",
       "      <td>757</td>\n",
       "      <td>2022-12-07</td>\n",
       "      <td>Cerrada</td>\n",
       "      <td>FTA - FUGA EN TOMA DE AGUA</td>\n",
       "      <td>SE CANCELA</td>\n",
       "      <td>778394.890320</td>\n",
       "      <td>2.426703e+06</td>\n",
       "    </tr>\n",
       "    <tr>\n",
       "      <th>2</th>\n",
       "      <td>3</td>\n",
       "      <td>2022-03-30</td>\n",
       "      <td>2022-11-24</td>\n",
       "      <td>2022-11-26</td>\n",
       "      <td>757</td>\n",
       "      <td>2022-12-22</td>\n",
       "      <td>Cerrada</td>\n",
       "      <td>FTA - FUGA EN TOMA DE AGUA</td>\n",
       "      <td>SE CANCELA</td>\n",
       "      <td>786182.935000</td>\n",
       "      <td>2.421650e+06</td>\n",
       "    </tr>\n",
       "    <tr>\n",
       "      <th>3</th>\n",
       "      <td>4</td>\n",
       "      <td>2022-04-24</td>\n",
       "      <td>2022-11-25</td>\n",
       "      <td>2022-11-26</td>\n",
       "      <td>757</td>\n",
       "      <td>2022-12-22</td>\n",
       "      <td>Cerrada</td>\n",
       "      <td>FTA - FUGA EN TOMA DE AGUA</td>\n",
       "      <td>SE CANCELA</td>\n",
       "      <td>780261.739782</td>\n",
       "      <td>2.421571e+06</td>\n",
       "    </tr>\n",
       "    <tr>\n",
       "      <th>4</th>\n",
       "      <td>5</td>\n",
       "      <td>2022-06-07</td>\n",
       "      <td>2022-11-25</td>\n",
       "      <td>2022-11-26</td>\n",
       "      <td>757</td>\n",
       "      <td>2022-12-22</td>\n",
       "      <td>Cerrada</td>\n",
       "      <td>FTA - FUGA EN TOMA DE AGUA</td>\n",
       "      <td>SE CANCELA</td>\n",
       "      <td>781486.184276</td>\n",
       "      <td>2.430545e+06</td>\n",
       "    </tr>\n",
       "  </tbody>\n",
       "</table>\n",
       "</div>"
      ],
      "text/plain": [
       "   Id FECHA DE CREACIÓN FECHA DE INICIO FECHA FINAL  CODUNIDAD  \\\n",
       "0   1        2021-10-14      2022-11-24  2022-12-07        757   \n",
       "1   2        2021-09-28      2022-11-24  2022-12-07        757   \n",
       "2   3        2022-03-30      2022-11-24  2022-11-26        757   \n",
       "3   4        2022-04-24      2022-11-25  2022-11-26        757   \n",
       "4   5        2022-06-07      2022-11-25  2022-11-26        757   \n",
       "\n",
       "  FECHALEGALIZACION NOMBREESTADO               NOMBRETRABAJO      CAUSAL  \\\n",
       "0        2022-12-07      Cerrada  FTA - FUGA EN TOMA DE AGUA  SE CANCELA   \n",
       "1        2022-12-07      Cerrada  FTA - FUGA EN TOMA DE AGUA  SE CANCELA   \n",
       "2        2022-12-22      Cerrada  FTA - FUGA EN TOMA DE AGUA  SE CANCELA   \n",
       "3        2022-12-22      Cerrada  FTA - FUGA EN TOMA DE AGUA  SE CANCELA   \n",
       "4        2022-12-22      Cerrada  FTA - FUGA EN TOMA DE AGUA  SE CANCELA   \n",
       "\n",
       "               X             Y  \n",
       "0  781021.888082  2.428227e+06  \n",
       "1  778394.890320  2.426703e+06  \n",
       "2  786182.935000  2.421650e+06  \n",
       "3  780261.739782  2.421571e+06  \n",
       "4  781486.184276  2.430545e+06  "
      ]
     },
     "execution_count": 2,
     "metadata": {},
     "output_type": "execute_result"
    }
   ],
   "source": [
    "# Read leak df to get dates\n",
    "leaks_raw = pd.read_excel(\"../data/raw/Ordenes Fugas Ejecutadas Dic2022 XY.xlsx\")\n",
    "leaks_raw.head()"
   ]
  },
  {
   "cell_type": "code",
   "execution_count": 3,
   "metadata": {},
   "outputs": [
    {
     "data": {
      "text/plain": [
       "Index(['id', 'fecha_de_creacion', 'fecha_de_inicio', 'fecha_final',\n",
       "       'codunidad', 'fechalegalizacion', 'nombreestado', 'nombretrabajo',\n",
       "       'causal', 'x', 'y'],\n",
       "      dtype='object')"
      ]
     },
     "execution_count": 3,
     "metadata": {},
     "output_type": "execute_result"
    }
   ],
   "source": [
    "# Clean leaks data\n",
    "leaks_clean = clean_names(leaks_raw)\n",
    "leaks_clean.columns # The column of interest is fecha_de_inicio\n"
   ]
  },
  {
   "cell_type": "code",
   "execution_count": 4,
   "metadata": {},
   "outputs": [
    {
     "data": {
      "text/html": [
       "<div>\n",
       "<style scoped>\n",
       "    .dataframe tbody tr th:only-of-type {\n",
       "        vertical-align: middle;\n",
       "    }\n",
       "\n",
       "    .dataframe tbody tr th {\n",
       "        vertical-align: top;\n",
       "    }\n",
       "\n",
       "    .dataframe thead th {\n",
       "        text-align: right;\n",
       "    }\n",
       "</style>\n",
       "<table border=\"1\" class=\"dataframe\">\n",
       "  <thead>\n",
       "    <tr style=\"text-align: right;\">\n",
       "      <th></th>\n",
       "      <th>id</th>\n",
       "      <th>fecha_de_inicio</th>\n",
       "      <th>fecha_final</th>\n",
       "      <th>fechalegalizacion</th>\n",
       "      <th>causal</th>\n",
       "      <th>x</th>\n",
       "      <th>y</th>\n",
       "      <th>leak_type</th>\n",
       "    </tr>\n",
       "  </thead>\n",
       "  <tbody>\n",
       "    <tr>\n",
       "      <th>0</th>\n",
       "      <td>2366</td>\n",
       "      <td>2022-12-01</td>\n",
       "      <td>2022-12-01</td>\n",
       "      <td>2022-12-01</td>\n",
       "      <td>SE REPARA FTC, GENERA BA</td>\n",
       "      <td>781563.335110</td>\n",
       "      <td>2.419492e+06</td>\n",
       "      <td>FTC</td>\n",
       "    </tr>\n",
       "    <tr>\n",
       "      <th>1</th>\n",
       "      <td>2479</td>\n",
       "      <td>2022-12-01</td>\n",
       "      <td>2022-12-01</td>\n",
       "      <td>2022-12-01</td>\n",
       "      <td>SE REPARA FTC, GENERA BA</td>\n",
       "      <td>785033.684233</td>\n",
       "      <td>2.423310e+06</td>\n",
       "      <td>FTC</td>\n",
       "    </tr>\n",
       "    <tr>\n",
       "      <th>2</th>\n",
       "      <td>2443</td>\n",
       "      <td>2022-12-01</td>\n",
       "      <td>2022-12-01</td>\n",
       "      <td>2022-12-01</td>\n",
       "      <td>SE REPARA FTC, GENERA BA</td>\n",
       "      <td>781521.553633</td>\n",
       "      <td>2.419196e+06</td>\n",
       "      <td>FTC</td>\n",
       "    </tr>\n",
       "    <tr>\n",
       "      <th>3</th>\n",
       "      <td>2460</td>\n",
       "      <td>2022-12-02</td>\n",
       "      <td>2022-12-02</td>\n",
       "      <td>2022-12-02</td>\n",
       "      <td>SE REPARA FTC, GENERA BA</td>\n",
       "      <td>779658.087686</td>\n",
       "      <td>2.416386e+06</td>\n",
       "      <td>FTC</td>\n",
       "    </tr>\n",
       "    <tr>\n",
       "      <th>4</th>\n",
       "      <td>2409</td>\n",
       "      <td>2022-12-02</td>\n",
       "      <td>2022-12-02</td>\n",
       "      <td>2022-12-02</td>\n",
       "      <td>SE REPARA FTC, GENERA BA</td>\n",
       "      <td>781491.668852</td>\n",
       "      <td>2.419196e+06</td>\n",
       "      <td>FTC</td>\n",
       "    </tr>\n",
       "  </tbody>\n",
       "</table>\n",
       "</div>"
      ],
      "text/plain": [
       "     id fecha_de_inicio fecha_final fechalegalizacion  \\\n",
       "0  2366      2022-12-01  2022-12-01        2022-12-01   \n",
       "1  2479      2022-12-01  2022-12-01        2022-12-01   \n",
       "2  2443      2022-12-01  2022-12-01        2022-12-01   \n",
       "3  2460      2022-12-02  2022-12-02        2022-12-02   \n",
       "4  2409      2022-12-02  2022-12-02        2022-12-02   \n",
       "\n",
       "                     causal              x             y leak_type  \n",
       "0  SE REPARA FTC, GENERA BA  781563.335110  2.419492e+06       FTC  \n",
       "1  SE REPARA FTC, GENERA BA  785033.684233  2.423310e+06       FTC  \n",
       "2  SE REPARA FTC, GENERA BA  781521.553633  2.419196e+06       FTC  \n",
       "3  SE REPARA FTC, GENERA BA  779658.087686  2.416386e+06       FTC  \n",
       "4  SE REPARA FTC, GENERA BA  781491.668852  2.419196e+06       FTC  "
      ]
     },
     "execution_count": 4,
     "metadata": {},
     "output_type": "execute_result"
    }
   ],
   "source": [
    "# First we need to filter leaks that are detected in the main pipe. Code in column nombretrabajo: FTC\n",
    "\n",
    "# Column with codes\n",
    "leaks_clean[\"leak_type\"] = leaks_clean.nombretrabajo.str.extract(r\"([A-Z]+)\", expand = False)\n",
    "\n",
    "# Filter\n",
    "leaks_clean = leaks_clean.query(\"leak_type == 'FTC'\")\n",
    "\n",
    "# Second, we need to filter to causal == \"SE REPARA FTC, GENERA BA\"\n",
    "leaks_clean = leaks_clean.query(\"causal == 'SE REPARA FTC, GENERA BA'\")\n",
    "\n",
    "# Drop irrelevant columns\n",
    "leaks_clean = leaks_clean.drop([\"codunidad\", \"nombreestado\", \"nombretrabajo\", \"fecha_de_creacion\"], axis = 1)\n",
    "\n",
    "# Sort df by fecha_de_inicio\n",
    "leaks_clean = leaks_clean.sort_values(by = \"fecha_de_inicio\").reset_index(drop = True)\n",
    "\n",
    "# Show clean df \n",
    "leaks_clean.head() # This df is going to be necessary to define the date of each image to be downloaded"
   ]
  },
  {
   "cell_type": "code",
   "execution_count": 5,
   "metadata": {},
   "outputs": [],
   "source": [
    "# Initialize GEE API\n",
    "ee.Initialize()"
   ]
  },
  {
   "cell_type": "code",
   "execution_count": 6,
   "metadata": {},
   "outputs": [
    {
     "name": "stdout",
     "output_type": "stream",
     "text": [
      "inicio: 2022-11-23 00:00:00 \n",
      "final: 2022-11-30 00:00:00\n"
     ]
    }
   ],
   "source": [
    "# Parameters for collection\n",
    "\n",
    "# Point of interest (Center of Aguascalientes City) EPGS: \n",
    "lat = 21.8833333\n",
    "lon = -102.3\n",
    "poi = ee.Geometry.Point(lon, lat)  \n",
    "\n",
    "# Area of interest\n",
    "aoi = ee.Geometry.LinearRing([ \n",
    "    [-102.3695755, 21.9745687],\n",
    "    [-102.211993, 21.9745687],\n",
    "    [-102.211993, 21.8085958],\n",
    "    [-102.3695755, 21.8085958],\n",
    "    [-102.3695755, 21.9745687]\n",
    "    ])\n",
    "\n",
    "# Dates\n",
    "end_date = leaks_clean.fechalegalizacion[0] - timedelta(days = 1)\n",
    "start_date = end_date - timedelta(days = 7)\n",
    "\n",
    "print(\"inicio:\", start_date, \"\\nfinal:\", end_date)"
   ]
  },
  {
   "cell_type": "code",
   "execution_count": 17,
   "metadata": {},
   "outputs": [
    {
     "name": "stdout",
     "output_type": "stream",
     "text": [
      "Total images: 3\n",
      "Date of selected image: 2022-11-23\n"
     ]
    }
   ],
   "source": [
    "# Image collection\n",
    "ags_collection = ee.ImageCollection(\"COPERNICUS/S2_SR_HARMONIZED\")\\\n",
    "                          .filterBounds(aoi)\\\n",
    "                          .filterDate(ee.Date(start_date), ee.Date(end_date))\\\n",
    "                          .sort(\"CLOUD_COVERAGE_ASSESMENT\")\n",
    "\n",
    "print(\"Total images:\", ags_collection.size().getInfo())\n",
    "\n",
    "# Add latitude and longitude to the collection\n",
    "# ags_collection = ags_collection.addBands(ee.Image.pixelLonLat())\n",
    "ags_list = ags_collection.toList(ags_collection.size())\n",
    "\n",
    "img = ags_collection.first()\n",
    "\n",
    "print(\"Date of selected image:\", ee.Date(img.get(\"system:time_start\")).format(\"yyyy-MM-dd\").getInfo())"
   ]
  },
  {
   "cell_type": "code",
   "execution_count": 33,
   "metadata": {},
   "outputs": [],
   "source": [
    "def get_image(start, end, poi_leak):\n",
    "    collection = ee.ImageCollection(\"COPERNICUS/S2_SR_HARMONIZED\")\\\n",
    "    .filterBounds(poi_leak)\\\n",
    "    .filterDate(ee.Date(start), ee.Date(end))\\\n",
    "    .sort(\"CLOUD_COVERAGE_ASSESMENT\")\n",
    "\n",
    "    print(\"Images found: \", collection.size().getInfo())\n",
    "\n",
    "    img = collection.first()\n",
    "\n",
    "    print(\"Date of selected image: \", ee.Date(img.get(\"system:time_start\")).format(\"yyyy-MM-dd\").getInfo()) \n",
    "    \n",
    "    return img  "
   ]
  },
  {
   "cell_type": "code",
   "execution_count": 34,
   "metadata": {},
   "outputs": [
    {
     "name": "stdout",
     "output_type": "stream",
     "text": [
      "Images found:  3\n",
      "Date of selected image:  2022-11-23\n"
     ]
    },
    {
     "data": {
      "text/html": [
       "<div><style>:root {\n",
       "  --font-color-primary: var(--jp-content-font-color0, rgba(0, 0, 0, 1));\n",
       "  --font-color-secondary: var(--jp-content-font-color2, rgba(0, 0, 0, 0.6));\n",
       "  --font-color-accent: rgba(123, 31, 162, 1);\n",
       "  --border-color: var(--jp-border-color2, #e0e0e0);\n",
       "  --background-color: var(--jp-layout-color0, white);\n",
       "  --background-color-row-even: var(--jp-layout-color1, white);\n",
       "  --background-color-row-odd: var(--jp-layout-color2, #eeeeee);\n",
       "}\n",
       "\n",
       "html[theme=\"dark\"],\n",
       "body[data-theme=\"dark\"],\n",
       "body.vscode-dark {\n",
       "  --font-color-primary: rgba(255, 255, 255, 1);\n",
       "  --font-color-secondary: rgba(255, 255, 255, 0.6);\n",
       "  --font-color-accent: rgb(173, 132, 190);\n",
       "  --border-color: #2e2e2e;\n",
       "  --background-color: #111111;\n",
       "  --background-color-row-even: #111111;\n",
       "  --background-color-row-odd: #313131;\n",
       "}\n",
       "\n",
       ".ee {\n",
       "  padding: 1em;\n",
       "  line-height: 1.5em;\n",
       "  min-width: 300px;\n",
       "  max-width: 1200px;\n",
       "  overflow-y: scroll;\n",
       "  max-height: 600px;\n",
       "  border: 1px solid var(--border-color);\n",
       "  font-family: monospace;\n",
       "}\n",
       "\n",
       ".ee li {\n",
       "  list-style-type: none;\n",
       "}\n",
       "\n",
       ".ee ul {\n",
       "  padding-left: 1.5em !important;\n",
       "  margin: 0;\n",
       "}\n",
       "\n",
       ".ee > ul {\n",
       "  padding-left: 0 !important;\n",
       "}\n",
       "\n",
       ".ee-open,\n",
       ".ee-shut {\n",
       "  color: var(--font-color-secondary);\n",
       "  cursor: pointer;\n",
       "  margin: 0;\n",
       "}\n",
       "\n",
       ".ee-open:hover,\n",
       ".ee-shut:hover {\n",
       "  color: var(--font-color-primary);\n",
       "}\n",
       "\n",
       ".ee-k {\n",
       "  color: var(--font-color-accent);\n",
       "  margin-right: 6px;\n",
       "}\n",
       "\n",
       ".ee-v {\n",
       "  color: var(--font-color-primary);\n",
       "}\n",
       "\n",
       ".ee-toggle {\n",
       "  display: none;\n",
       "}\n",
       "\n",
       ".ee-shut + ul {\n",
       "  display: none;\n",
       "}\n",
       "\n",
       ".ee-open + ul {\n",
       "  display: block;\n",
       "}\n",
       "\n",
       ".ee-shut::before {\n",
       "  display: inline-block;\n",
       "  content: \"▼\";\n",
       "  margin-right: 6px;\n",
       "  transform: rotate(-90deg);\n",
       "  transition: transform 0.2s;\n",
       "}\n",
       "\n",
       ".ee-open::before {\n",
       "  transform: rotate(0deg);\n",
       "  display: inline-block;\n",
       "  content: \"▼\";\n",
       "  margin-right: 6px;\n",
       "  transition: transform 0.2s;\n",
       "}\n",
       "</style><div class='ee'><ul><li><label class='ee-shut'>Image COPERNICUS/S2_SR_HARMONIZED/20221123T172631_20221123T173532_T13QGE (23 bands)<input type='checkbox' class='ee-toggle'></label><ul><li><span class='ee-k'>type:</span><span class='ee-v'>Image</span></li><li><span class='ee-k'>id:</span><span class='ee-v'>COPERNICUS/S2_SR_HARMONIZED/20221123T172631_20221123T173532_T13QGE</span></li><li><span class='ee-k'>version:</span><span class='ee-v'>1680578614425301</span></li><li><label class='ee-shut'>bands: List (23 elements)<input type='checkbox' class='ee-toggle'></label><ul><li><label class='ee-shut'>0: \"B1\", unsigned int16, EPSG:32613, 1830x1830 px<input type='checkbox' class='ee-toggle'></label><ul><li><span class='ee-k'>id:</span><span class='ee-v'>B1</span></li><li><span class='ee-k'>crs:</span><span class='ee-v'>EPSG:32613</span></li><li><label class='ee-shut'>crs_transform: [60, 0, 699960, 0, -60, 2500020]<input type='checkbox' class='ee-toggle'></label><ul><li><span class='ee-k'>0:</span><span class='ee-v'>60</span></li><li><span class='ee-k'>1:</span><span class='ee-v'>0</span></li><li><span class='ee-k'>2:</span><span class='ee-v'>699960</span></li><li><span class='ee-k'>3:</span><span class='ee-v'>0</span></li><li><span class='ee-k'>4:</span><span class='ee-v'>-60</span></li><li><span class='ee-k'>5:</span><span class='ee-v'>2500020</span></li></ul></li><li><label class='ee-shut'>data_type: unsigned int16<input type='checkbox' class='ee-toggle'></label><ul><li><span class='ee-k'>type:</span><span class='ee-v'>PixelType</span></li><li><span class='ee-k'>max:</span><span class='ee-v'>65535</span></li><li><span class='ee-k'>min:</span><span class='ee-v'>0</span></li><li><span class='ee-k'>precision:</span><span class='ee-v'>int</span></li></ul></li><li><label class='ee-shut'>dimensions: [1830, 1830]<input type='checkbox' class='ee-toggle'></label><ul><li><span class='ee-k'>0:</span><span class='ee-v'>1830</span></li><li><span class='ee-k'>1:</span><span class='ee-v'>1830</span></li></ul></li></ul></li><li><label class='ee-shut'>1: \"B2\", unsigned int16, EPSG:32613, 10980x10980 px<input type='checkbox' class='ee-toggle'></label><ul><li><span class='ee-k'>id:</span><span class='ee-v'>B2</span></li><li><span class='ee-k'>crs:</span><span class='ee-v'>EPSG:32613</span></li><li><label class='ee-shut'>crs_transform: [10, 0, 699960, 0, -10, 2500020]<input type='checkbox' class='ee-toggle'></label><ul><li><span class='ee-k'>0:</span><span class='ee-v'>10</span></li><li><span class='ee-k'>1:</span><span class='ee-v'>0</span></li><li><span class='ee-k'>2:</span><span class='ee-v'>699960</span></li><li><span class='ee-k'>3:</span><span class='ee-v'>0</span></li><li><span class='ee-k'>4:</span><span class='ee-v'>-10</span></li><li><span class='ee-k'>5:</span><span class='ee-v'>2500020</span></li></ul></li><li><label class='ee-shut'>data_type: unsigned int16<input type='checkbox' class='ee-toggle'></label><ul><li><span class='ee-k'>type:</span><span class='ee-v'>PixelType</span></li><li><span class='ee-k'>max:</span><span class='ee-v'>65535</span></li><li><span class='ee-k'>min:</span><span class='ee-v'>0</span></li><li><span class='ee-k'>precision:</span><span class='ee-v'>int</span></li></ul></li><li><label class='ee-shut'>dimensions: [10980, 10980]<input type='checkbox' class='ee-toggle'></label><ul><li><span class='ee-k'>0:</span><span class='ee-v'>10980</span></li><li><span class='ee-k'>1:</span><span class='ee-v'>10980</span></li></ul></li></ul></li><li><label class='ee-shut'>2: \"B3\", unsigned int16, EPSG:32613, 10980x10980 px<input type='checkbox' class='ee-toggle'></label><ul><li><span class='ee-k'>id:</span><span class='ee-v'>B3</span></li><li><span class='ee-k'>crs:</span><span class='ee-v'>EPSG:32613</span></li><li><label class='ee-shut'>crs_transform: [10, 0, 699960, 0, -10, 2500020]<input type='checkbox' class='ee-toggle'></label><ul><li><span class='ee-k'>0:</span><span class='ee-v'>10</span></li><li><span class='ee-k'>1:</span><span class='ee-v'>0</span></li><li><span class='ee-k'>2:</span><span class='ee-v'>699960</span></li><li><span class='ee-k'>3:</span><span class='ee-v'>0</span></li><li><span class='ee-k'>4:</span><span class='ee-v'>-10</span></li><li><span class='ee-k'>5:</span><span class='ee-v'>2500020</span></li></ul></li><li><label class='ee-shut'>data_type: unsigned int16<input type='checkbox' class='ee-toggle'></label><ul><li><span class='ee-k'>type:</span><span class='ee-v'>PixelType</span></li><li><span class='ee-k'>max:</span><span class='ee-v'>65535</span></li><li><span class='ee-k'>min:</span><span class='ee-v'>0</span></li><li><span class='ee-k'>precision:</span><span class='ee-v'>int</span></li></ul></li><li><label class='ee-shut'>dimensions: [10980, 10980]<input type='checkbox' class='ee-toggle'></label><ul><li><span class='ee-k'>0:</span><span class='ee-v'>10980</span></li><li><span class='ee-k'>1:</span><span class='ee-v'>10980</span></li></ul></li></ul></li><li><label class='ee-shut'>3: \"B4\", unsigned int16, EPSG:32613, 10980x10980 px<input type='checkbox' class='ee-toggle'></label><ul><li><span class='ee-k'>id:</span><span class='ee-v'>B4</span></li><li><span class='ee-k'>crs:</span><span class='ee-v'>EPSG:32613</span></li><li><label class='ee-shut'>crs_transform: [10, 0, 699960, 0, -10, 2500020]<input type='checkbox' class='ee-toggle'></label><ul><li><span class='ee-k'>0:</span><span class='ee-v'>10</span></li><li><span class='ee-k'>1:</span><span class='ee-v'>0</span></li><li><span class='ee-k'>2:</span><span class='ee-v'>699960</span></li><li><span class='ee-k'>3:</span><span class='ee-v'>0</span></li><li><span class='ee-k'>4:</span><span class='ee-v'>-10</span></li><li><span class='ee-k'>5:</span><span class='ee-v'>2500020</span></li></ul></li><li><label class='ee-shut'>data_type: unsigned int16<input type='checkbox' class='ee-toggle'></label><ul><li><span class='ee-k'>type:</span><span class='ee-v'>PixelType</span></li><li><span class='ee-k'>max:</span><span class='ee-v'>65535</span></li><li><span class='ee-k'>min:</span><span class='ee-v'>0</span></li><li><span class='ee-k'>precision:</span><span class='ee-v'>int</span></li></ul></li><li><label class='ee-shut'>dimensions: [10980, 10980]<input type='checkbox' class='ee-toggle'></label><ul><li><span class='ee-k'>0:</span><span class='ee-v'>10980</span></li><li><span class='ee-k'>1:</span><span class='ee-v'>10980</span></li></ul></li></ul></li><li><label class='ee-shut'>4: \"B5\", unsigned int16, EPSG:32613, 5490x5490 px<input type='checkbox' class='ee-toggle'></label><ul><li><span class='ee-k'>id:</span><span class='ee-v'>B5</span></li><li><span class='ee-k'>crs:</span><span class='ee-v'>EPSG:32613</span></li><li><label class='ee-shut'>crs_transform: [20, 0, 699960, 0, -20, 2500020]<input type='checkbox' class='ee-toggle'></label><ul><li><span class='ee-k'>0:</span><span class='ee-v'>20</span></li><li><span class='ee-k'>1:</span><span class='ee-v'>0</span></li><li><span class='ee-k'>2:</span><span class='ee-v'>699960</span></li><li><span class='ee-k'>3:</span><span class='ee-v'>0</span></li><li><span class='ee-k'>4:</span><span class='ee-v'>-20</span></li><li><span class='ee-k'>5:</span><span class='ee-v'>2500020</span></li></ul></li><li><label class='ee-shut'>data_type: unsigned int16<input type='checkbox' class='ee-toggle'></label><ul><li><span class='ee-k'>type:</span><span class='ee-v'>PixelType</span></li><li><span class='ee-k'>max:</span><span class='ee-v'>65535</span></li><li><span class='ee-k'>min:</span><span class='ee-v'>0</span></li><li><span class='ee-k'>precision:</span><span class='ee-v'>int</span></li></ul></li><li><label class='ee-shut'>dimensions: [5490, 5490]<input type='checkbox' class='ee-toggle'></label><ul><li><span class='ee-k'>0:</span><span class='ee-v'>5490</span></li><li><span class='ee-k'>1:</span><span class='ee-v'>5490</span></li></ul></li></ul></li><li><label class='ee-shut'>5: \"B6\", unsigned int16, EPSG:32613, 5490x5490 px<input type='checkbox' class='ee-toggle'></label><ul><li><span class='ee-k'>id:</span><span class='ee-v'>B6</span></li><li><span class='ee-k'>crs:</span><span class='ee-v'>EPSG:32613</span></li><li><label class='ee-shut'>crs_transform: [20, 0, 699960, 0, -20, 2500020]<input type='checkbox' class='ee-toggle'></label><ul><li><span class='ee-k'>0:</span><span class='ee-v'>20</span></li><li><span class='ee-k'>1:</span><span class='ee-v'>0</span></li><li><span class='ee-k'>2:</span><span class='ee-v'>699960</span></li><li><span class='ee-k'>3:</span><span class='ee-v'>0</span></li><li><span class='ee-k'>4:</span><span class='ee-v'>-20</span></li><li><span class='ee-k'>5:</span><span class='ee-v'>2500020</span></li></ul></li><li><label class='ee-shut'>data_type: unsigned int16<input type='checkbox' class='ee-toggle'></label><ul><li><span class='ee-k'>type:</span><span class='ee-v'>PixelType</span></li><li><span class='ee-k'>max:</span><span class='ee-v'>65535</span></li><li><span class='ee-k'>min:</span><span class='ee-v'>0</span></li><li><span class='ee-k'>precision:</span><span class='ee-v'>int</span></li></ul></li><li><label class='ee-shut'>dimensions: [5490, 5490]<input type='checkbox' class='ee-toggle'></label><ul><li><span class='ee-k'>0:</span><span class='ee-v'>5490</span></li><li><span class='ee-k'>1:</span><span class='ee-v'>5490</span></li></ul></li></ul></li><li><label class='ee-shut'>6: \"B7\", unsigned int16, EPSG:32613, 5490x5490 px<input type='checkbox' class='ee-toggle'></label><ul><li><span class='ee-k'>id:</span><span class='ee-v'>B7</span></li><li><span class='ee-k'>crs:</span><span class='ee-v'>EPSG:32613</span></li><li><label class='ee-shut'>crs_transform: [20, 0, 699960, 0, -20, 2500020]<input type='checkbox' class='ee-toggle'></label><ul><li><span class='ee-k'>0:</span><span class='ee-v'>20</span></li><li><span class='ee-k'>1:</span><span class='ee-v'>0</span></li><li><span class='ee-k'>2:</span><span class='ee-v'>699960</span></li><li><span class='ee-k'>3:</span><span class='ee-v'>0</span></li><li><span class='ee-k'>4:</span><span class='ee-v'>-20</span></li><li><span class='ee-k'>5:</span><span class='ee-v'>2500020</span></li></ul></li><li><label class='ee-shut'>data_type: unsigned int16<input type='checkbox' class='ee-toggle'></label><ul><li><span class='ee-k'>type:</span><span class='ee-v'>PixelType</span></li><li><span class='ee-k'>max:</span><span class='ee-v'>65535</span></li><li><span class='ee-k'>min:</span><span class='ee-v'>0</span></li><li><span class='ee-k'>precision:</span><span class='ee-v'>int</span></li></ul></li><li><label class='ee-shut'>dimensions: [5490, 5490]<input type='checkbox' class='ee-toggle'></label><ul><li><span class='ee-k'>0:</span><span class='ee-v'>5490</span></li><li><span class='ee-k'>1:</span><span class='ee-v'>5490</span></li></ul></li></ul></li><li><label class='ee-shut'>7: \"B8\", unsigned int16, EPSG:32613, 10980x10980 px<input type='checkbox' class='ee-toggle'></label><ul><li><span class='ee-k'>id:</span><span class='ee-v'>B8</span></li><li><span class='ee-k'>crs:</span><span class='ee-v'>EPSG:32613</span></li><li><label class='ee-shut'>crs_transform: [10, 0, 699960, 0, -10, 2500020]<input type='checkbox' class='ee-toggle'></label><ul><li><span class='ee-k'>0:</span><span class='ee-v'>10</span></li><li><span class='ee-k'>1:</span><span class='ee-v'>0</span></li><li><span class='ee-k'>2:</span><span class='ee-v'>699960</span></li><li><span class='ee-k'>3:</span><span class='ee-v'>0</span></li><li><span class='ee-k'>4:</span><span class='ee-v'>-10</span></li><li><span class='ee-k'>5:</span><span class='ee-v'>2500020</span></li></ul></li><li><label class='ee-shut'>data_type: unsigned int16<input type='checkbox' class='ee-toggle'></label><ul><li><span class='ee-k'>type:</span><span class='ee-v'>PixelType</span></li><li><span class='ee-k'>max:</span><span class='ee-v'>65535</span></li><li><span class='ee-k'>min:</span><span class='ee-v'>0</span></li><li><span class='ee-k'>precision:</span><span class='ee-v'>int</span></li></ul></li><li><label class='ee-shut'>dimensions: [10980, 10980]<input type='checkbox' class='ee-toggle'></label><ul><li><span class='ee-k'>0:</span><span class='ee-v'>10980</span></li><li><span class='ee-k'>1:</span><span class='ee-v'>10980</span></li></ul></li></ul></li><li><label class='ee-shut'>8: \"B8A\", unsigned int16, EPSG:32613, 5490x5490 px<input type='checkbox' class='ee-toggle'></label><ul><li><span class='ee-k'>id:</span><span class='ee-v'>B8A</span></li><li><span class='ee-k'>crs:</span><span class='ee-v'>EPSG:32613</span></li><li><label class='ee-shut'>crs_transform: [20, 0, 699960, 0, -20, 2500020]<input type='checkbox' class='ee-toggle'></label><ul><li><span class='ee-k'>0:</span><span class='ee-v'>20</span></li><li><span class='ee-k'>1:</span><span class='ee-v'>0</span></li><li><span class='ee-k'>2:</span><span class='ee-v'>699960</span></li><li><span class='ee-k'>3:</span><span class='ee-v'>0</span></li><li><span class='ee-k'>4:</span><span class='ee-v'>-20</span></li><li><span class='ee-k'>5:</span><span class='ee-v'>2500020</span></li></ul></li><li><label class='ee-shut'>data_type: unsigned int16<input type='checkbox' class='ee-toggle'></label><ul><li><span class='ee-k'>type:</span><span class='ee-v'>PixelType</span></li><li><span class='ee-k'>max:</span><span class='ee-v'>65535</span></li><li><span class='ee-k'>min:</span><span class='ee-v'>0</span></li><li><span class='ee-k'>precision:</span><span class='ee-v'>int</span></li></ul></li><li><label class='ee-shut'>dimensions: [5490, 5490]<input type='checkbox' class='ee-toggle'></label><ul><li><span class='ee-k'>0:</span><span class='ee-v'>5490</span></li><li><span class='ee-k'>1:</span><span class='ee-v'>5490</span></li></ul></li></ul></li><li><label class='ee-shut'>9: \"B9\", unsigned int16, EPSG:32613, 1830x1830 px<input type='checkbox' class='ee-toggle'></label><ul><li><span class='ee-k'>id:</span><span class='ee-v'>B9</span></li><li><span class='ee-k'>crs:</span><span class='ee-v'>EPSG:32613</span></li><li><label class='ee-shut'>crs_transform: [60, 0, 699960, 0, -60, 2500020]<input type='checkbox' class='ee-toggle'></label><ul><li><span class='ee-k'>0:</span><span class='ee-v'>60</span></li><li><span class='ee-k'>1:</span><span class='ee-v'>0</span></li><li><span class='ee-k'>2:</span><span class='ee-v'>699960</span></li><li><span class='ee-k'>3:</span><span class='ee-v'>0</span></li><li><span class='ee-k'>4:</span><span class='ee-v'>-60</span></li><li><span class='ee-k'>5:</span><span class='ee-v'>2500020</span></li></ul></li><li><label class='ee-shut'>data_type: unsigned int16<input type='checkbox' class='ee-toggle'></label><ul><li><span class='ee-k'>type:</span><span class='ee-v'>PixelType</span></li><li><span class='ee-k'>max:</span><span class='ee-v'>65535</span></li><li><span class='ee-k'>min:</span><span class='ee-v'>0</span></li><li><span class='ee-k'>precision:</span><span class='ee-v'>int</span></li></ul></li><li><label class='ee-shut'>dimensions: [1830, 1830]<input type='checkbox' class='ee-toggle'></label><ul><li><span class='ee-k'>0:</span><span class='ee-v'>1830</span></li><li><span class='ee-k'>1:</span><span class='ee-v'>1830</span></li></ul></li></ul></li><li><label class='ee-shut'>10: \"B11\", unsigned int16, EPSG:32613, 5490x5490 px<input type='checkbox' class='ee-toggle'></label><ul><li><span class='ee-k'>id:</span><span class='ee-v'>B11</span></li><li><span class='ee-k'>crs:</span><span class='ee-v'>EPSG:32613</span></li><li><label class='ee-shut'>crs_transform: [20, 0, 699960, 0, -20, 2500020]<input type='checkbox' class='ee-toggle'></label><ul><li><span class='ee-k'>0:</span><span class='ee-v'>20</span></li><li><span class='ee-k'>1:</span><span class='ee-v'>0</span></li><li><span class='ee-k'>2:</span><span class='ee-v'>699960</span></li><li><span class='ee-k'>3:</span><span class='ee-v'>0</span></li><li><span class='ee-k'>4:</span><span class='ee-v'>-20</span></li><li><span class='ee-k'>5:</span><span class='ee-v'>2500020</span></li></ul></li><li><label class='ee-shut'>data_type: unsigned int16<input type='checkbox' class='ee-toggle'></label><ul><li><span class='ee-k'>type:</span><span class='ee-v'>PixelType</span></li><li><span class='ee-k'>max:</span><span class='ee-v'>65535</span></li><li><span class='ee-k'>min:</span><span class='ee-v'>0</span></li><li><span class='ee-k'>precision:</span><span class='ee-v'>int</span></li></ul></li><li><label class='ee-shut'>dimensions: [5490, 5490]<input type='checkbox' class='ee-toggle'></label><ul><li><span class='ee-k'>0:</span><span class='ee-v'>5490</span></li><li><span class='ee-k'>1:</span><span class='ee-v'>5490</span></li></ul></li></ul></li><li><label class='ee-shut'>11: \"B12\", unsigned int16, EPSG:32613, 5490x5490 px<input type='checkbox' class='ee-toggle'></label><ul><li><span class='ee-k'>id:</span><span class='ee-v'>B12</span></li><li><span class='ee-k'>crs:</span><span class='ee-v'>EPSG:32613</span></li><li><label class='ee-shut'>crs_transform: [20, 0, 699960, 0, -20, 2500020]<input type='checkbox' class='ee-toggle'></label><ul><li><span class='ee-k'>0:</span><span class='ee-v'>20</span></li><li><span class='ee-k'>1:</span><span class='ee-v'>0</span></li><li><span class='ee-k'>2:</span><span class='ee-v'>699960</span></li><li><span class='ee-k'>3:</span><span class='ee-v'>0</span></li><li><span class='ee-k'>4:</span><span class='ee-v'>-20</span></li><li><span class='ee-k'>5:</span><span class='ee-v'>2500020</span></li></ul></li><li><label class='ee-shut'>data_type: unsigned int16<input type='checkbox' class='ee-toggle'></label><ul><li><span class='ee-k'>type:</span><span class='ee-v'>PixelType</span></li><li><span class='ee-k'>max:</span><span class='ee-v'>65535</span></li><li><span class='ee-k'>min:</span><span class='ee-v'>0</span></li><li><span class='ee-k'>precision:</span><span class='ee-v'>int</span></li></ul></li><li><label class='ee-shut'>dimensions: [5490, 5490]<input type='checkbox' class='ee-toggle'></label><ul><li><span class='ee-k'>0:</span><span class='ee-v'>5490</span></li><li><span class='ee-k'>1:</span><span class='ee-v'>5490</span></li></ul></li></ul></li><li><label class='ee-shut'>12: \"AOT\", unsigned int16, EPSG:32613, 10980x10980 px<input type='checkbox' class='ee-toggle'></label><ul><li><span class='ee-k'>id:</span><span class='ee-v'>AOT</span></li><li><span class='ee-k'>crs:</span><span class='ee-v'>EPSG:32613</span></li><li><label class='ee-shut'>crs_transform: [10, 0, 699960, 0, -10, 2500020]<input type='checkbox' class='ee-toggle'></label><ul><li><span class='ee-k'>0:</span><span class='ee-v'>10</span></li><li><span class='ee-k'>1:</span><span class='ee-v'>0</span></li><li><span class='ee-k'>2:</span><span class='ee-v'>699960</span></li><li><span class='ee-k'>3:</span><span class='ee-v'>0</span></li><li><span class='ee-k'>4:</span><span class='ee-v'>-10</span></li><li><span class='ee-k'>5:</span><span class='ee-v'>2500020</span></li></ul></li><li><label class='ee-shut'>data_type: unsigned int16<input type='checkbox' class='ee-toggle'></label><ul><li><span class='ee-k'>type:</span><span class='ee-v'>PixelType</span></li><li><span class='ee-k'>max:</span><span class='ee-v'>65535</span></li><li><span class='ee-k'>min:</span><span class='ee-v'>0</span></li><li><span class='ee-k'>precision:</span><span class='ee-v'>int</span></li></ul></li><li><label class='ee-shut'>dimensions: [10980, 10980]<input type='checkbox' class='ee-toggle'></label><ul><li><span class='ee-k'>0:</span><span class='ee-v'>10980</span></li><li><span class='ee-k'>1:</span><span class='ee-v'>10980</span></li></ul></li></ul></li><li><label class='ee-shut'>13: \"WVP\", unsigned int16, EPSG:32613, 10980x10980 px<input type='checkbox' class='ee-toggle'></label><ul><li><span class='ee-k'>id:</span><span class='ee-v'>WVP</span></li><li><span class='ee-k'>crs:</span><span class='ee-v'>EPSG:32613</span></li><li><label class='ee-shut'>crs_transform: [10, 0, 699960, 0, -10, 2500020]<input type='checkbox' class='ee-toggle'></label><ul><li><span class='ee-k'>0:</span><span class='ee-v'>10</span></li><li><span class='ee-k'>1:</span><span class='ee-v'>0</span></li><li><span class='ee-k'>2:</span><span class='ee-v'>699960</span></li><li><span class='ee-k'>3:</span><span class='ee-v'>0</span></li><li><span class='ee-k'>4:</span><span class='ee-v'>-10</span></li><li><span class='ee-k'>5:</span><span class='ee-v'>2500020</span></li></ul></li><li><label class='ee-shut'>data_type: unsigned int16<input type='checkbox' class='ee-toggle'></label><ul><li><span class='ee-k'>type:</span><span class='ee-v'>PixelType</span></li><li><span class='ee-k'>max:</span><span class='ee-v'>65535</span></li><li><span class='ee-k'>min:</span><span class='ee-v'>0</span></li><li><span class='ee-k'>precision:</span><span class='ee-v'>int</span></li></ul></li><li><label class='ee-shut'>dimensions: [10980, 10980]<input type='checkbox' class='ee-toggle'></label><ul><li><span class='ee-k'>0:</span><span class='ee-v'>10980</span></li><li><span class='ee-k'>1:</span><span class='ee-v'>10980</span></li></ul></li></ul></li><li><label class='ee-shut'>14: \"SCL\", unsigned int8, EPSG:32613, 5490x5490 px<input type='checkbox' class='ee-toggle'></label><ul><li><span class='ee-k'>id:</span><span class='ee-v'>SCL</span></li><li><span class='ee-k'>crs:</span><span class='ee-v'>EPSG:32613</span></li><li><label class='ee-shut'>crs_transform: [20, 0, 699960, 0, -20, 2500020]<input type='checkbox' class='ee-toggle'></label><ul><li><span class='ee-k'>0:</span><span class='ee-v'>20</span></li><li><span class='ee-k'>1:</span><span class='ee-v'>0</span></li><li><span class='ee-k'>2:</span><span class='ee-v'>699960</span></li><li><span class='ee-k'>3:</span><span class='ee-v'>0</span></li><li><span class='ee-k'>4:</span><span class='ee-v'>-20</span></li><li><span class='ee-k'>5:</span><span class='ee-v'>2500020</span></li></ul></li><li><label class='ee-shut'>data_type: unsigned int8<input type='checkbox' class='ee-toggle'></label><ul><li><span class='ee-k'>type:</span><span class='ee-v'>PixelType</span></li><li><span class='ee-k'>max:</span><span class='ee-v'>255</span></li><li><span class='ee-k'>min:</span><span class='ee-v'>0</span></li><li><span class='ee-k'>precision:</span><span class='ee-v'>int</span></li></ul></li><li><label class='ee-shut'>dimensions: [5490, 5490]<input type='checkbox' class='ee-toggle'></label><ul><li><span class='ee-k'>0:</span><span class='ee-v'>5490</span></li><li><span class='ee-k'>1:</span><span class='ee-v'>5490</span></li></ul></li></ul></li><li><label class='ee-shut'>15: \"TCI_R\", unsigned int8, EPSG:32613, 10980x10980 px<input type='checkbox' class='ee-toggle'></label><ul><li><span class='ee-k'>id:</span><span class='ee-v'>TCI_R</span></li><li><span class='ee-k'>crs:</span><span class='ee-v'>EPSG:32613</span></li><li><label class='ee-shut'>crs_transform: [10, 0, 699960, 0, -10, 2500020]<input type='checkbox' class='ee-toggle'></label><ul><li><span class='ee-k'>0:</span><span class='ee-v'>10</span></li><li><span class='ee-k'>1:</span><span class='ee-v'>0</span></li><li><span class='ee-k'>2:</span><span class='ee-v'>699960</span></li><li><span class='ee-k'>3:</span><span class='ee-v'>0</span></li><li><span class='ee-k'>4:</span><span class='ee-v'>-10</span></li><li><span class='ee-k'>5:</span><span class='ee-v'>2500020</span></li></ul></li><li><label class='ee-shut'>data_type: unsigned int8<input type='checkbox' class='ee-toggle'></label><ul><li><span class='ee-k'>type:</span><span class='ee-v'>PixelType</span></li><li><span class='ee-k'>max:</span><span class='ee-v'>255</span></li><li><span class='ee-k'>min:</span><span class='ee-v'>0</span></li><li><span class='ee-k'>precision:</span><span class='ee-v'>int</span></li></ul></li><li><label class='ee-shut'>dimensions: [10980, 10980]<input type='checkbox' class='ee-toggle'></label><ul><li><span class='ee-k'>0:</span><span class='ee-v'>10980</span></li><li><span class='ee-k'>1:</span><span class='ee-v'>10980</span></li></ul></li></ul></li><li><label class='ee-shut'>16: \"TCI_G\", unsigned int8, EPSG:32613, 10980x10980 px<input type='checkbox' class='ee-toggle'></label><ul><li><span class='ee-k'>id:</span><span class='ee-v'>TCI_G</span></li><li><span class='ee-k'>crs:</span><span class='ee-v'>EPSG:32613</span></li><li><label class='ee-shut'>crs_transform: [10, 0, 699960, 0, -10, 2500020]<input type='checkbox' class='ee-toggle'></label><ul><li><span class='ee-k'>0:</span><span class='ee-v'>10</span></li><li><span class='ee-k'>1:</span><span class='ee-v'>0</span></li><li><span class='ee-k'>2:</span><span class='ee-v'>699960</span></li><li><span class='ee-k'>3:</span><span class='ee-v'>0</span></li><li><span class='ee-k'>4:</span><span class='ee-v'>-10</span></li><li><span class='ee-k'>5:</span><span class='ee-v'>2500020</span></li></ul></li><li><label class='ee-shut'>data_type: unsigned int8<input type='checkbox' class='ee-toggle'></label><ul><li><span class='ee-k'>type:</span><span class='ee-v'>PixelType</span></li><li><span class='ee-k'>max:</span><span class='ee-v'>255</span></li><li><span class='ee-k'>min:</span><span class='ee-v'>0</span></li><li><span class='ee-k'>precision:</span><span class='ee-v'>int</span></li></ul></li><li><label class='ee-shut'>dimensions: [10980, 10980]<input type='checkbox' class='ee-toggle'></label><ul><li><span class='ee-k'>0:</span><span class='ee-v'>10980</span></li><li><span class='ee-k'>1:</span><span class='ee-v'>10980</span></li></ul></li></ul></li><li><label class='ee-shut'>17: \"TCI_B\", unsigned int8, EPSG:32613, 10980x10980 px<input type='checkbox' class='ee-toggle'></label><ul><li><span class='ee-k'>id:</span><span class='ee-v'>TCI_B</span></li><li><span class='ee-k'>crs:</span><span class='ee-v'>EPSG:32613</span></li><li><label class='ee-shut'>crs_transform: [10, 0, 699960, 0, -10, 2500020]<input type='checkbox' class='ee-toggle'></label><ul><li><span class='ee-k'>0:</span><span class='ee-v'>10</span></li><li><span class='ee-k'>1:</span><span class='ee-v'>0</span></li><li><span class='ee-k'>2:</span><span class='ee-v'>699960</span></li><li><span class='ee-k'>3:</span><span class='ee-v'>0</span></li><li><span class='ee-k'>4:</span><span class='ee-v'>-10</span></li><li><span class='ee-k'>5:</span><span class='ee-v'>2500020</span></li></ul></li><li><label class='ee-shut'>data_type: unsigned int8<input type='checkbox' class='ee-toggle'></label><ul><li><span class='ee-k'>type:</span><span class='ee-v'>PixelType</span></li><li><span class='ee-k'>max:</span><span class='ee-v'>255</span></li><li><span class='ee-k'>min:</span><span class='ee-v'>0</span></li><li><span class='ee-k'>precision:</span><span class='ee-v'>int</span></li></ul></li><li><label class='ee-shut'>dimensions: [10980, 10980]<input type='checkbox' class='ee-toggle'></label><ul><li><span class='ee-k'>0:</span><span class='ee-v'>10980</span></li><li><span class='ee-k'>1:</span><span class='ee-v'>10980</span></li></ul></li></ul></li><li><label class='ee-shut'>18: \"MSK_CLDPRB\", unsigned int8, EPSG:32613, 5490x5490 px<input type='checkbox' class='ee-toggle'></label><ul><li><span class='ee-k'>id:</span><span class='ee-v'>MSK_CLDPRB</span></li><li><span class='ee-k'>crs:</span><span class='ee-v'>EPSG:32613</span></li><li><label class='ee-shut'>crs_transform: [20, 0, 699960, 0, -20, 2500020]<input type='checkbox' class='ee-toggle'></label><ul><li><span class='ee-k'>0:</span><span class='ee-v'>20</span></li><li><span class='ee-k'>1:</span><span class='ee-v'>0</span></li><li><span class='ee-k'>2:</span><span class='ee-v'>699960</span></li><li><span class='ee-k'>3:</span><span class='ee-v'>0</span></li><li><span class='ee-k'>4:</span><span class='ee-v'>-20</span></li><li><span class='ee-k'>5:</span><span class='ee-v'>2500020</span></li></ul></li><li><label class='ee-shut'>data_type: unsigned int8<input type='checkbox' class='ee-toggle'></label><ul><li><span class='ee-k'>type:</span><span class='ee-v'>PixelType</span></li><li><span class='ee-k'>max:</span><span class='ee-v'>255</span></li><li><span class='ee-k'>min:</span><span class='ee-v'>0</span></li><li><span class='ee-k'>precision:</span><span class='ee-v'>int</span></li></ul></li><li><label class='ee-shut'>dimensions: [5490, 5490]<input type='checkbox' class='ee-toggle'></label><ul><li><span class='ee-k'>0:</span><span class='ee-v'>5490</span></li><li><span class='ee-k'>1:</span><span class='ee-v'>5490</span></li></ul></li></ul></li><li><label class='ee-shut'>19: \"MSK_SNWPRB\", unsigned int8, EPSG:32613, 5490x5490 px<input type='checkbox' class='ee-toggle'></label><ul><li><span class='ee-k'>id:</span><span class='ee-v'>MSK_SNWPRB</span></li><li><span class='ee-k'>crs:</span><span class='ee-v'>EPSG:32613</span></li><li><label class='ee-shut'>crs_transform: [20, 0, 699960, 0, -20, 2500020]<input type='checkbox' class='ee-toggle'></label><ul><li><span class='ee-k'>0:</span><span class='ee-v'>20</span></li><li><span class='ee-k'>1:</span><span class='ee-v'>0</span></li><li><span class='ee-k'>2:</span><span class='ee-v'>699960</span></li><li><span class='ee-k'>3:</span><span class='ee-v'>0</span></li><li><span class='ee-k'>4:</span><span class='ee-v'>-20</span></li><li><span class='ee-k'>5:</span><span class='ee-v'>2500020</span></li></ul></li><li><label class='ee-shut'>data_type: unsigned int8<input type='checkbox' class='ee-toggle'></label><ul><li><span class='ee-k'>type:</span><span class='ee-v'>PixelType</span></li><li><span class='ee-k'>max:</span><span class='ee-v'>255</span></li><li><span class='ee-k'>min:</span><span class='ee-v'>0</span></li><li><span class='ee-k'>precision:</span><span class='ee-v'>int</span></li></ul></li><li><label class='ee-shut'>dimensions: [5490, 5490]<input type='checkbox' class='ee-toggle'></label><ul><li><span class='ee-k'>0:</span><span class='ee-v'>5490</span></li><li><span class='ee-k'>1:</span><span class='ee-v'>5490</span></li></ul></li></ul></li><li><label class='ee-shut'>20: \"QA10\", unsigned int16, EPSG:32613, 10980x10980 px<input type='checkbox' class='ee-toggle'></label><ul><li><span class='ee-k'>id:</span><span class='ee-v'>QA10</span></li><li><span class='ee-k'>crs:</span><span class='ee-v'>EPSG:32613</span></li><li><label class='ee-shut'>crs_transform: [10, 0, 699960, 0, -10, 2500020]<input type='checkbox' class='ee-toggle'></label><ul><li><span class='ee-k'>0:</span><span class='ee-v'>10</span></li><li><span class='ee-k'>1:</span><span class='ee-v'>0</span></li><li><span class='ee-k'>2:</span><span class='ee-v'>699960</span></li><li><span class='ee-k'>3:</span><span class='ee-v'>0</span></li><li><span class='ee-k'>4:</span><span class='ee-v'>-10</span></li><li><span class='ee-k'>5:</span><span class='ee-v'>2500020</span></li></ul></li><li><label class='ee-shut'>data_type: unsigned int16<input type='checkbox' class='ee-toggle'></label><ul><li><span class='ee-k'>type:</span><span class='ee-v'>PixelType</span></li><li><span class='ee-k'>max:</span><span class='ee-v'>65535</span></li><li><span class='ee-k'>min:</span><span class='ee-v'>0</span></li><li><span class='ee-k'>precision:</span><span class='ee-v'>int</span></li></ul></li><li><label class='ee-shut'>dimensions: [10980, 10980]<input type='checkbox' class='ee-toggle'></label><ul><li><span class='ee-k'>0:</span><span class='ee-v'>10980</span></li><li><span class='ee-k'>1:</span><span class='ee-v'>10980</span></li></ul></li></ul></li><li><label class='ee-shut'>21: \"QA20\", unsigned int32, EPSG:32613, 5490x5490 px<input type='checkbox' class='ee-toggle'></label><ul><li><span class='ee-k'>id:</span><span class='ee-v'>QA20</span></li><li><span class='ee-k'>crs:</span><span class='ee-v'>EPSG:32613</span></li><li><label class='ee-shut'>crs_transform: [20, 0, 699960, 0, -20, 2500020]<input type='checkbox' class='ee-toggle'></label><ul><li><span class='ee-k'>0:</span><span class='ee-v'>20</span></li><li><span class='ee-k'>1:</span><span class='ee-v'>0</span></li><li><span class='ee-k'>2:</span><span class='ee-v'>699960</span></li><li><span class='ee-k'>3:</span><span class='ee-v'>0</span></li><li><span class='ee-k'>4:</span><span class='ee-v'>-20</span></li><li><span class='ee-k'>5:</span><span class='ee-v'>2500020</span></li></ul></li><li><label class='ee-shut'>data_type: unsigned int32<input type='checkbox' class='ee-toggle'></label><ul><li><span class='ee-k'>type:</span><span class='ee-v'>PixelType</span></li><li><span class='ee-k'>max:</span><span class='ee-v'>4294967295</span></li><li><span class='ee-k'>min:</span><span class='ee-v'>0</span></li><li><span class='ee-k'>precision:</span><span class='ee-v'>int</span></li></ul></li><li><label class='ee-shut'>dimensions: [5490, 5490]<input type='checkbox' class='ee-toggle'></label><ul><li><span class='ee-k'>0:</span><span class='ee-v'>5490</span></li><li><span class='ee-k'>1:</span><span class='ee-v'>5490</span></li></ul></li></ul></li><li><label class='ee-shut'>22: \"QA60\", unsigned int16, EPSG:32613, 1830x1830 px<input type='checkbox' class='ee-toggle'></label><ul><li><span class='ee-k'>id:</span><span class='ee-v'>QA60</span></li><li><span class='ee-k'>crs:</span><span class='ee-v'>EPSG:32613</span></li><li><label class='ee-shut'>crs_transform: [60, 0, 699960, 0, -60, 2500020]<input type='checkbox' class='ee-toggle'></label><ul><li><span class='ee-k'>0:</span><span class='ee-v'>60</span></li><li><span class='ee-k'>1:</span><span class='ee-v'>0</span></li><li><span class='ee-k'>2:</span><span class='ee-v'>699960</span></li><li><span class='ee-k'>3:</span><span class='ee-v'>0</span></li><li><span class='ee-k'>4:</span><span class='ee-v'>-60</span></li><li><span class='ee-k'>5:</span><span class='ee-v'>2500020</span></li></ul></li><li><label class='ee-shut'>data_type: unsigned int16<input type='checkbox' class='ee-toggle'></label><ul><li><span class='ee-k'>type:</span><span class='ee-v'>PixelType</span></li><li><span class='ee-k'>max:</span><span class='ee-v'>65535</span></li><li><span class='ee-k'>min:</span><span class='ee-v'>0</span></li><li><span class='ee-k'>precision:</span><span class='ee-v'>int</span></li></ul></li><li><label class='ee-shut'>dimensions: [1830, 1830]<input type='checkbox' class='ee-toggle'></label><ul><li><span class='ee-k'>0:</span><span class='ee-v'>1830</span></li><li><span class='ee-k'>1:</span><span class='ee-v'>1830</span></li></ul></li></ul></li></ul></li><li><label class='ee-shut'>properties: Object (101 properties)<input type='checkbox' class='ee-toggle'></label><ul><li><span class='ee-k'>AOT_RETRIEVAL_ACCURACY:</span><span class='ee-v'>0</span></li><li><span class='ee-k'>AOT_RETRIEVAL_METHOD:</span><span class='ee-v'>SEN2COR_DDV</span></li><li><span class='ee-k'>BOA_ADD_OFFSET_B1:</span><span class='ee-v'>-1000</span></li><li><span class='ee-k'>BOA_ADD_OFFSET_B10:</span><span class='ee-v'>-1000</span></li><li><span class='ee-k'>BOA_ADD_OFFSET_B11:</span><span class='ee-v'>-1000</span></li><li><span class='ee-k'>BOA_ADD_OFFSET_B12:</span><span class='ee-v'>-1000</span></li><li><span class='ee-k'>BOA_ADD_OFFSET_B2:</span><span class='ee-v'>-1000</span></li><li><span class='ee-k'>BOA_ADD_OFFSET_B3:</span><span class='ee-v'>-1000</span></li><li><span class='ee-k'>BOA_ADD_OFFSET_B4:</span><span class='ee-v'>-1000</span></li><li><span class='ee-k'>BOA_ADD_OFFSET_B5:</span><span class='ee-v'>-1000</span></li><li><span class='ee-k'>BOA_ADD_OFFSET_B6:</span><span class='ee-v'>-1000</span></li><li><span class='ee-k'>BOA_ADD_OFFSET_B7:</span><span class='ee-v'>-1000</span></li><li><span class='ee-k'>BOA_ADD_OFFSET_B8:</span><span class='ee-v'>-1000</span></li><li><span class='ee-k'>BOA_ADD_OFFSET_B8A:</span><span class='ee-v'>-1000</span></li><li><span class='ee-k'>BOA_ADD_OFFSET_B9:</span><span class='ee-v'>-1000</span></li><li><span class='ee-k'>CLOUDY_PIXEL_OVER_LAND_PERCENTAGE:</span><span class='ee-v'>19.402394</span></li><li><span class='ee-k'>CLOUDY_PIXEL_PERCENTAGE:</span><span class='ee-v'>19.404125</span></li><li><span class='ee-k'>CLOUD_COVERAGE_ASSESSMENT:</span><span class='ee-v'>19.404125</span></li><li><span class='ee-k'>CLOUD_SHADOW_PERCENTAGE:</span><span class='ee-v'>13.62431</span></li><li><span class='ee-k'>DARK_FEATURES_PERCENTAGE:</span><span class='ee-v'>0.410615</span></li><li><span class='ee-k'>DATASTRIP_ID:</span><span class='ee-v'>S2A_OPER_MSI_L2A_DS_ATOS_20221123T221404_S20221123T173532_N04.00</span></li><li><span class='ee-k'>DATATAKE_IDENTIFIER:</span><span class='ee-v'>GS2A_20221123T172631_038762_N04.00</span></li><li><span class='ee-k'>DATATAKE_TYPE:</span><span class='ee-v'>INS-NOBS</span></li><li><span class='ee-k'>DEGRADED_MSI_DATA_PERCENTAGE:</span><span class='ee-v'>0.022</span></li><li><span class='ee-k'>FORMAT_CORRECTNESS:</span><span class='ee-v'>PASSED</span></li><li><span class='ee-k'>GENERAL_QUALITY:</span><span class='ee-v'>PASSED</span></li><li><span class='ee-k'>GENERATION_TIME:</span><span class='ee-v'>1669241644000</span></li><li><span class='ee-k'>GEOMETRIC_QUALITY:</span><span class='ee-v'>PASSED</span></li><li><span class='ee-k'>GRANULE_ID:</span><span class='ee-v'>L2A_T13QGE_A038762_20221123T173532</span></li><li><span class='ee-k'>GRANULE_MEAN_AOT:</span><span class='ee-v'>0.098183</span></li><li><span class='ee-k'>GRANULE_MEAN_WV:</span><span class='ee-v'>1.651163</span></li><li><span class='ee-k'>HIGH_PROBA_CLOUDS_PERCENTAGE:</span><span class='ee-v'>12.19205</span></li><li><span class='ee-k'>L2A_QUALITY:</span><span class='ee-v'>PASSED</span></li><li><span class='ee-k'>MEAN_INCIDENCE_AZIMUTH_ANGLE_B1:</span><span class='ee-v'>284.521177945712</span></li><li><span class='ee-k'>MEAN_INCIDENCE_AZIMUTH_ANGLE_B10:</span><span class='ee-v'>284.036174399577</span></li><li><span class='ee-k'>MEAN_INCIDENCE_AZIMUTH_ANGLE_B11:</span><span class='ee-v'>284.301752053518</span></li><li><span class='ee-k'>MEAN_INCIDENCE_AZIMUTH_ANGLE_B12:</span><span class='ee-v'>284.542931001463</span></li><li><span class='ee-k'>MEAN_INCIDENCE_AZIMUTH_ANGLE_B2:</span><span class='ee-v'>283.838032027826</span></li><li><span class='ee-k'>MEAN_INCIDENCE_AZIMUTH_ANGLE_B3:</span><span class='ee-v'>284.001434719677</span></li><li><span class='ee-k'>MEAN_INCIDENCE_AZIMUTH_ANGLE_B4:</span><span class='ee-v'>284.167539541083</span></li><li><span class='ee-k'>MEAN_INCIDENCE_AZIMUTH_ANGLE_B5:</span><span class='ee-v'>284.224143953315</span></li><li><span class='ee-k'>MEAN_INCIDENCE_AZIMUTH_ANGLE_B6:</span><span class='ee-v'>284.315604437459</span></li><li><span class='ee-k'>MEAN_INCIDENCE_AZIMUTH_ANGLE_B7:</span><span class='ee-v'>284.409949857248</span></li><li><span class='ee-k'>MEAN_INCIDENCE_AZIMUTH_ANGLE_B8:</span><span class='ee-v'>283.912469904926</span></li><li><span class='ee-k'>MEAN_INCIDENCE_AZIMUTH_ANGLE_B8A:</span><span class='ee-v'>284.515151778667</span></li><li><span class='ee-k'>MEAN_INCIDENCE_AZIMUTH_ANGLE_B9:</span><span class='ee-v'>284.645852735223</span></li><li><span class='ee-k'>MEAN_INCIDENCE_ZENITH_ANGLE_B1:</span><span class='ee-v'>7.54590713412471</span></li><li><span class='ee-k'>MEAN_INCIDENCE_ZENITH_ANGLE_B10:</span><span class='ee-v'>7.39190083965552</span></li><li><span class='ee-k'>MEAN_INCIDENCE_ZENITH_ANGLE_B11:</span><span class='ee-v'>7.45318396179223</span></li><li><span class='ee-k'>MEAN_INCIDENCE_ZENITH_ANGLE_B12:</span><span class='ee-v'>7.53517368440602</span></li><li><span class='ee-k'>MEAN_INCIDENCE_ZENITH_ANGLE_B2:</span><span class='ee-v'>7.32440090334846</span></li><li><span class='ee-k'>MEAN_INCIDENCE_ZENITH_ANGLE_B3:</span><span class='ee-v'>7.35155286834321</span></li><li><span class='ee-k'>MEAN_INCIDENCE_ZENITH_ANGLE_B4:</span><span class='ee-v'>7.39072227021708</span></li><li><span class='ee-k'>MEAN_INCIDENCE_ZENITH_ANGLE_B5:</span><span class='ee-v'>7.4191358827245</span></li><li><span class='ee-k'>MEAN_INCIDENCE_ZENITH_ANGLE_B6:</span><span class='ee-v'>7.44760276470069</span></li><li><span class='ee-k'>MEAN_INCIDENCE_ZENITH_ANGLE_B7:</span><span class='ee-v'>7.47991831726702</span></li><li><span class='ee-k'>MEAN_INCIDENCE_ZENITH_ANGLE_B8:</span><span class='ee-v'>7.33456411329417</span></li><li><span class='ee-k'>MEAN_INCIDENCE_ZENITH_ANGLE_B8A:</span><span class='ee-v'>7.52233375144589</span></li><li><span class='ee-k'>MEAN_INCIDENCE_ZENITH_ANGLE_B9:</span><span class='ee-v'>7.59576703327751</span></li><li><span class='ee-k'>MEAN_SOLAR_AZIMUTH_ANGLE:</span><span class='ee-v'>160.327243826148</span></li><li><span class='ee-k'>MEAN_SOLAR_ZENITH_ANGLE:</span><span class='ee-v'>44.8878563939406</span></li><li><span class='ee-k'>MEDIUM_PROBA_CLOUDS_PERCENTAGE:</span><span class='ee-v'>7.212074</span></li><li><span class='ee-k'>MGRS_TILE:</span><span class='ee-v'>13QGE</span></li><li><span class='ee-k'>NODATA_PIXEL_PERCENTAGE:</span><span class='ee-v'>2.832758</span></li><li><span class='ee-k'>NOT_VEGETATED_PERCENTAGE:</span><span class='ee-v'>57.245398</span></li><li><span class='ee-k'>OZONE_SOURCE:</span><span class='ee-v'>AUX_ECMWFT</span></li><li><span class='ee-k'>OZONE_VALUE:</span><span class='ee-v'>249.491147</span></li><li><span class='ee-k'>PROCESSING_BASELINE:</span><span class='ee-v'>04.00</span></li><li><span class='ee-k'>PRODUCT_ID:</span><span class='ee-v'>S2A_MSIL2A_20221123T172631_N0400_R012_T13QGE_20221123T221404</span></li><li><span class='ee-k'>RADIATIVE_TRANSFER_ACCURACY:</span><span class='ee-v'>0</span></li><li><span class='ee-k'>RADIOMETRIC_QUALITY:</span><span class='ee-v'>PASSED</span></li><li><span class='ee-k'>REFLECTANCE_CONVERSION_CORRECTION:</span><span class='ee-v'>1.02445560188059</span></li><li><span class='ee-k'>SATURATED_DEFECTIVE_PIXEL_PERCENTAGE:</span><span class='ee-v'>0</span></li><li><span class='ee-k'>SENSING_ORBIT_DIRECTION:</span><span class='ee-v'>DESCENDING</span></li><li><span class='ee-k'>SENSING_ORBIT_NUMBER:</span><span class='ee-v'>12</span></li><li><span class='ee-k'>SENSOR_QUALITY:</span><span class='ee-v'>PASSED</span></li><li><span class='ee-k'>SNOW_ICE_PERCENTAGE:</span><span class='ee-v'>0</span></li><li><span class='ee-k'>SOLAR_IRRADIANCE_B1:</span><span class='ee-v'>1884.69</span></li><li><span class='ee-k'>SOLAR_IRRADIANCE_B10:</span><span class='ee-v'>367.15</span></li><li><span class='ee-k'>SOLAR_IRRADIANCE_B11:</span><span class='ee-v'>245.59</span></li><li><span class='ee-k'>SOLAR_IRRADIANCE_B12:</span><span class='ee-v'>85.25</span></li><li><span class='ee-k'>SOLAR_IRRADIANCE_B2:</span><span class='ee-v'>1959.66</span></li><li><span class='ee-k'>SOLAR_IRRADIANCE_B3:</span><span class='ee-v'>1823.24</span></li><li><span class='ee-k'>SOLAR_IRRADIANCE_B4:</span><span class='ee-v'>1512.06</span></li><li><span class='ee-k'>SOLAR_IRRADIANCE_B5:</span><span class='ee-v'>1424.64</span></li><li><span class='ee-k'>SOLAR_IRRADIANCE_B6:</span><span class='ee-v'>1287.61</span></li><li><span class='ee-k'>SOLAR_IRRADIANCE_B7:</span><span class='ee-v'>1162.08</span></li><li><span class='ee-k'>SOLAR_IRRADIANCE_B8:</span><span class='ee-v'>1041.63</span></li><li><span class='ee-k'>SOLAR_IRRADIANCE_B8A:</span><span class='ee-v'>955.32</span></li><li><span class='ee-k'>SOLAR_IRRADIANCE_B9:</span><span class='ee-v'>812.92</span></li><li><span class='ee-k'>SPACECRAFT_NAME:</span><span class='ee-v'>Sentinel-2A</span></li><li><span class='ee-k'>THIN_CIRRUS_PERCENTAGE:</span><span class='ee-v'>0</span></li><li><span class='ee-k'>UNCLASSIFIED_PERCENTAGE:</span><span class='ee-v'>0.936277</span></li><li><span class='ee-k'>VEGETATION_PERCENTAGE:</span><span class='ee-v'>8.219129</span></li><li><span class='ee-k'>WATER_PERCENTAGE:</span><span class='ee-v'>0.160147</span></li><li><span class='ee-k'>WATER_VAPOUR_RETRIEVAL_ACCURACY:</span><span class='ee-v'>0</span></li><li><span class='ee-k'>system:asset_size:</span><span class='ee-v'>1744110139</span></li><li><label class='ee-shut'>system:footprint: LinearRing (18 vertices)<input type='checkbox' class='ee-toggle'></label><ul><li><span class='ee-k'>type:</span><span class='ee-v'>LinearRing</span></li><li><label class='ee-shut'>coordinates: List (18 elements)<input type='checkbox' class='ee-toggle'></label><ul><li><label class='ee-shut'>0: [-102.12030179918935, 21.59059860990611]<input type='checkbox' class='ee-toggle'></label><ul><li><span class='ee-k'>0:</span><span class='ee-v'>-102.12030179918935</span></li><li><span class='ee-k'>1:</span><span class='ee-v'>21.59059860990611</span></li></ul></li><li><label class='ee-shut'>1: [-102.12027511298818, 21.590594395571163]<input type='checkbox' class='ee-toggle'></label><ul><li><span class='ee-k'>0:</span><span class='ee-v'>-102.12027511298818</span></li><li><span class='ee-k'>1:</span><span class='ee-v'>21.590594395571163</span></li></ul></li><li><label class='ee-shut'>2: [-102.12025627567361, 21.59060848805951]<input type='checkbox' class='ee-toggle'></label><ul><li><span class='ee-k'>0:</span><span class='ee-v'>-102.12025627567361</span></li><li><span class='ee-k'>1:</span><span class='ee-v'>21.59060848805951</span></li></ul></li><li><label class='ee-shut'>3: [-102.10431366098696, 21.606037942073723]<input type='checkbox' class='ee-toggle'></label><ul><li><span class='ee-k'>0:</span><span class='ee-v'>-102.10431366098696</span></li><li><span class='ee-k'>1:</span><span class='ee-v'>21.606037942073723</span></li></ul></li><li><label class='ee-shut'>4: [-102.10429264650347, 21.60606543985155]<input type='checkbox' class='ee-toggle'></label><ul><li><span class='ee-k'>0:</span><span class='ee-v'>-102.10429264650347</span></li><li><span class='ee-k'>1:</span><span class='ee-v'>21.60606543985155</span></li></ul></li><li><label class='ee-shut'>5: [-101.99965166713805, 22.04180162844059]<input type='checkbox' class='ee-toggle'></label><ul><li><span class='ee-k'>0:</span><span class='ee-v'>-101.99965166713805</span></li><li><span class='ee-k'>1:</span><span class='ee-v'>22.04180162844059</span></li></ul></li><li><label class='ee-shut'>6: [-101.99829585185843, 22.08763558331421]<input type='checkbox' class='ee-toggle'></label><ul><li><span class='ee-k'>0:</span><span class='ee-v'>-101.99829585185843</span></li><li><span class='ee-k'>1:</span><span class='ee-v'>22.08763558331421</span></li></ul></li><li><label class='ee-shut'>7: [-101.99306352675387, 22.33321084342427]<input type='checkbox' class='ee-toggle'></label><ul><li><span class='ee-k'>0:</span><span class='ee-v'>-101.99306352675387</span></li><li><span class='ee-k'>1:</span><span class='ee-v'>22.33321084342427</span></li></ul></li><li><label class='ee-shut'>8: [-101.98775776682251, 22.578777227466833]<input type='checkbox' class='ee-toggle'></label><ul><li><span class='ee-k'>0:</span><span class='ee-v'>-101.98775776682251</span></li><li><span class='ee-k'>1:</span><span class='ee-v'>22.578777227466833</span></li></ul></li><li><label class='ee-shut'>9: [-101.9878311077269, 22.57886854903726]<input type='checkbox' class='ee-toggle'></label><ul><li><span class='ee-k'>0:</span><span class='ee-v'>-101.9878311077269</span></li><li><span class='ee-k'>1:</span><span class='ee-v'>22.57886854903726</span></li></ul></li><li><label class='ee-shut'>10: [-103.0548349217569, 22.595342832413465]<input type='checkbox' class='ee-toggle'></label><ul><li><span class='ee-k'>0:</span><span class='ee-v'>-103.0548349217569</span></li><li><span class='ee-k'>1:</span><span class='ee-v'>22.595342832413465</span></li></ul></li><li><label class='ee-shut'>11: [-103.05493339102244, 22.59527440929476]<input type='checkbox' class='ee-toggle'></label><ul><li><span class='ee-k'>0:</span><span class='ee-v'>-103.05493339102244</span></li><li><span class='ee-k'>1:</span><span class='ee-v'>22.59527440929476</span></li></ul></li><li><label class='ee-shut'>12: [-103.06180111445191, 22.099653881406834]<input type='checkbox' class='ee-toggle'></label><ul><li><span class='ee-k'>0:</span><span class='ee-v'>-103.06180111445191</span></li><li><span class='ee-k'>1:</span><span class='ee-v'>22.099653881406834</span></li></ul></li><li><label class='ee-shut'>13: [-103.06847701077956, 21.60402173638571]<input type='checkbox' class='ee-toggle'></label><ul><li><span class='ee-k'>0:</span><span class='ee-v'>-103.06847701077956</span></li><li><span class='ee-k'>1:</span><span class='ee-v'>21.60402173638571</span></li></ul></li><li><label class='ee-shut'>14: [-103.06840341443812, 21.60393083110354]<input type='checkbox' class='ee-toggle'></label><ul><li><span class='ee-k'>0:</span><span class='ee-v'>-103.06840341443812</span></li><li><span class='ee-k'>1:</span><span class='ee-v'>21.60393083110354</span></li></ul></li><li><label class='ee-shut'>15: [-102.12592758786907, 21.590316697376828]<input type='checkbox' class='ee-toggle'></label><ul><li><span class='ee-k'>0:</span><span class='ee-v'>-102.12592758786907</span></li><li><span class='ee-k'>1:</span><span class='ee-v'>21.590316697376828</span></li></ul></li><li><label class='ee-shut'>16: [-102.12032115977075, 21.59058098864223]<input type='checkbox' class='ee-toggle'></label><ul><li><span class='ee-k'>0:</span><span class='ee-v'>-102.12032115977075</span></li><li><span class='ee-k'>1:</span><span class='ee-v'>21.59058098864223</span></li></ul></li><li><label class='ee-shut'>17: [-102.12030179918935, 21.59059860990611]<input type='checkbox' class='ee-toggle'></label><ul><li><span class='ee-k'>0:</span><span class='ee-v'>-102.12030179918935</span></li><li><span class='ee-k'>1:</span><span class='ee-v'>21.59059860990611</span></li></ul></li></ul></li></ul></li><li><span class='ee-k'>system:index:</span><span class='ee-v'>20221123T172631_20221123T173532_T13QGE</span></li><li><span class='ee-k'>system:time_end:</span><span class='ee-v'>1669225066826</span></li><li><span class='ee-k'>system:time_start:</span><span class='ee-v'>1669225066826</span></li></ul></li></ul></li></ul></div><script>function toggleHeader() {\n",
       "    const parent = this.parentElement;\n",
       "    parent.className = parent.className === \"ee-open\" ? \"ee-shut\" : \"ee-open\";\n",
       "}\n",
       "\n",
       "for (let c of document.getElementsByClassName(\"ee-toggle\")) {\n",
       "    c.onclick = toggleHeader;\n",
       "}</script></div>"
      ],
      "text/plain": [
       "<ee.image.Image at 0x2a664ae32d0>"
      ]
     },
     "execution_count": 34,
     "metadata": {},
     "output_type": "execute_result"
    }
   ],
   "source": [
    "get_image(start = start_date,  end = end_date, poi_leak = poi) # It works"
   ]
  },
  {
   "cell_type": "code",
   "execution_count": 46,
   "metadata": {},
   "outputs": [],
   "source": [
    "def bands_clip_image(image, buffer_size = 100, bands = [\"B4\", \"B3\", \"B2\"]):\n",
    "    # Clip image\n",
    "    image = image.clip(poi.buffer(buffer_size).bounds(proj = \"EPSG:32613\", maxError = 0.001))\n",
    "\n",
    "    # Select bands\n",
    "    image = image.select(bands)\n",
    "\n",
    "    return image"
   ]
  },
  {
   "cell_type": "code",
   "execution_count": 47,
   "metadata": {},
   "outputs": [
    {
     "name": "stdout",
     "output_type": "stream",
     "text": [
      "Images found:  3\n",
      "Date of selected image:  2022-11-23\n"
     ]
    }
   ],
   "source": [
    "img = get_image(start = start_date,  end = end_date, poi_leak = poi)\n",
    "img = bands_clip_image(img, bands = bands)"
   ]
  },
  {
   "cell_type": "code",
   "execution_count": 50,
   "metadata": {},
   "outputs": [],
   "source": [
    "def download_image(image, path, date_label):\n",
    "    url = image.getDownloadURL(\n",
    "        {\n",
    "        \"scale\": 10,\n",
    "        \"crs\": \"EPSG:32613\",\n",
    "        \"fileFormat\": \"GeoTIFF\",\n",
    "        \"maxPixels\": 1e13\n",
    "        }\n",
    "    )\n",
    "\n",
    "    r = requests.get(url, allow_redirects = True)\n",
    "    open(path + \"S2\" + \"_\" + str(date_label)[:10] + \".zip\", \"wb\").write(r.content)\n",
    "    print(\"Download complete\")"
   ]
  },
  {
   "cell_type": "code",
   "execution_count": 51,
   "metadata": {},
   "outputs": [
    {
     "name": "stdout",
     "output_type": "stream",
     "text": [
      "Download complete\n"
     ]
    }
   ],
   "source": [
    "download_image(img, \"../data/patches/\", date_label = leaks_clean.fechalegalizacion[0])"
   ]
  },
  {
   "cell_type": "markdown",
   "metadata": {},
   "source": [
    "## Automate Download for all the leaks"
   ]
  },
  {
   "cell_type": "code",
   "execution_count": 59,
   "metadata": {},
   "outputs": [],
   "source": [
    "# Add geometry column\n",
    "leaks_clean[\"geometry\"] = gpd.points_from_xy(leaks_clean[\"x\"], leaks_clean[\"y\"])\n",
    "\n",
    "# Transform df to geodf\n",
    "leaks_gdf = gpd.GeoDataFrame(leaks_clean, geometry = \"geometry\", crs = \"EPSG:32613\")"
   ]
  },
  {
   "cell_type": "code",
   "execution_count": 71,
   "metadata": {},
   "outputs": [
    {
     "name": "stdout",
     "output_type": "stream",
     "text": [
      "====================================================================================================\n",
      "Lea index 0\n",
      "Leak coords:  (-102.27569493914878, 21.857000495984423) \n",
      " Start and end dates:  (Timestamp('2022-11-23 00:00:00'), Timestamp('2022-11-30 00:00:00'))\n",
      "Images found:  3\n",
      "Date of selected image:  2022-11-23\n",
      "Download complete\n",
      "====================================================================================================\n",
      "Lea index 1\n",
      "Leak detected at the same date\n",
      "====================================================================================================\n",
      "Lea index 2\n",
      "Leak detected at the same date\n",
      "====================================================================================================\n",
      "Lea index 3\n",
      "Leak detected at the same date\n",
      "Leak coords:  (-102.294641764373, 21.829265790225637) \n",
      " Start and end dates:  (Timestamp('2022-11-24 00:00:00'), Timestamp('2022-12-01 00:00:00'))\n",
      "Images found:  3\n",
      "Date of selected image:  2022-11-25\n",
      "Download complete\n",
      "====================================================================================================\n",
      "Lea index 4\n",
      "Leak detected at the same date\n",
      "====================================================================================================\n",
      "Lea index 5\n",
      "Leak detected at the same date\n",
      "====================================================================================================\n",
      "Lea index 6\n",
      "Leak detected at the same date\n",
      "Leak coords:  (-102.33410278027021, 21.876843362364117) \n",
      " Start and end dates:  (Timestamp('2022-11-27 00:00:00'), Timestamp('2022-12-04 00:00:00'))\n",
      "Images found:  3\n",
      "Date of selected image:  2022-11-28\n",
      "Download complete\n",
      "====================================================================================================\n",
      "Lea index 7\n",
      "Leak detected at the same date\n",
      "Leak coords:  (-102.24342048141187, 21.873816220707724) \n",
      " Start and end dates:  (Timestamp('2022-11-30 00:00:00'), Timestamp('2022-12-07 00:00:00'))\n",
      "Images found:  3\n",
      "Date of selected image:  2022-11-30\n",
      "Download complete\n",
      "====================================================================================================\n",
      "Lea index 8\n",
      "Leak detected at the same date\n",
      "Leak coords:  (-102.30669097020571, 21.91758192120375) \n",
      " Start and end dates:  (Timestamp('2022-12-06 00:00:00'), Timestamp('2022-12-13 00:00:00'))\n",
      "Images found:  2\n",
      "Date of selected image:  2022-12-08\n",
      "Download complete\n",
      "====================================================================================================\n",
      "Lea index 9\n",
      "Leak detected at the same date\n",
      "Leak coords:  (-102.23237637558347, 21.867588090292035) \n",
      " Start and end dates:  (Timestamp('2022-12-09 00:00:00'), Timestamp('2022-12-16 00:00:00'))\n",
      "Images found:  3\n",
      "Date of selected image:  2022-12-10\n",
      "Download complete\n",
      "====================================================================================================\n",
      "Lea index 10\n",
      "Leak detected at the same date\n",
      "====================================================================================================\n",
      "Lea index 11\n",
      "Leak detected at the same date\n",
      "Leak coords:  (-102.29063873758726, 21.909353615298595) \n",
      " Start and end dates:  (Timestamp('2022-12-11 00:00:00'), Timestamp('2022-12-18 00:00:00'))\n",
      "Images found:  2\n",
      "Date of selected image:  2022-12-13\n",
      "Download complete\n",
      "====================================================================================================\n",
      "Lea index 12\n",
      "Leak detected at the same date\n",
      "Leak coords:  (-102.24798153981575, 21.898990852714316) \n",
      " Start and end dates:  (Timestamp('2022-12-12 00:00:00'), Timestamp('2022-12-19 00:00:00'))\n",
      "Images found:  3\n",
      "Date of selected image:  2022-12-13\n",
      "Download complete\n",
      "====================================================================================================\n",
      "Lea index 13\n",
      "Leak detected at the same date\n",
      "====================================================================================================\n",
      "Lea index 14\n",
      "Leak detected at the same date\n",
      "====================================================================================================\n",
      "Lea index 15\n",
      "Leak detected at the same date\n",
      "Leak coords:  (-102.31926111503876, 21.852981028220615) \n",
      " Start and end dates:  (Timestamp('2022-12-14 00:00:00'), Timestamp('2022-12-21 00:00:00'))\n",
      "Images found:  3\n",
      "Date of selected image:  2022-12-15\n",
      "Download complete\n",
      "====================================================================================================\n",
      "Lea index 16\n",
      "Leak detected at the same date\n",
      "====================================================================================================\n",
      "Lea index 17\n",
      "Leak detected at the same date\n",
      "====================================================================================================\n",
      "Lea index 18\n",
      "Leak detected at the same date\n",
      "Leak coords:  (-102.25032708218627, 21.881032456379767) \n",
      " Start and end dates:  (Timestamp('2022-12-15 00:00:00'), Timestamp('2022-12-22 00:00:00'))\n",
      "Images found:  3\n",
      "Date of selected image:  2022-12-15\n",
      "Download complete\n",
      "====================================================================================================\n",
      "Lea index 19\n",
      "Leak detected at the same date\n",
      "====================================================================================================\n",
      "Lea index 20\n",
      "Leak detected at the same date\n",
      "Leak coords:  (-102.24925440088067, 21.88991734333154) \n",
      " Start and end dates:  (Timestamp('2022-12-20 00:00:00'), Timestamp('2022-12-27 00:00:00'))\n",
      "Images found:  3\n",
      "Date of selected image:  2022-12-20\n",
      "Download complete\n",
      "====================================================================================================\n",
      "Lea index 21\n",
      "Leak detected at the same date\n",
      "Leak coords:  (-102.28956070202314, 21.880071804491337) \n",
      " Start and end dates:  (Timestamp('2022-12-21 00:00:00'), Timestamp('2022-12-28 00:00:00'))\n",
      "Images found:  2\n",
      "Date of selected image:  2022-12-23\n",
      "Download complete\n",
      "====================================================================================================\n",
      "Lea index 22\n",
      "Leak detected at the same date\n"
     ]
    }
   ],
   "source": [
    "bands = [\"B4\", \"B3\", \"B2\", \"B1\", \"B5\", \"B6\", \"B7\", \"B8\", \"B8A\", \"B9\", \"B11\", \"B12\", \"WVP\"]\n",
    "\n",
    "for leak in range(leaks_clean.shape[0]):\n",
    "    print(\"=\"*100)\n",
    "    print(\"Leak index: \", leak)\n",
    "    \n",
    "    if leak == 0:\n",
    "        previous_end_date = \"\"\n",
    "\n",
    "    if previous_end_date == end_date:\n",
    "        print(\"Leak detected at the same date\")\n",
    "        next\n",
    "    \n",
    "    # Date for zip label\n",
    "    date_lab = leaks_clean.fechalegalizacion[leak]\n",
    "    \n",
    "    # Dates for patch\n",
    "    end_date = leaks_clean.fecha_final[leak] - timedelta(days = 1)\n",
    "    start_date = end_date - timedelta(days = 7)\n",
    "\n",
    "    # Coords of leaks\n",
    "    leak_lat_ogcrs = leaks_clean[\"y\"][leak]\n",
    "    leak_lon_ogcrs = leaks_clean[\"x\"][leak]\n",
    "\n",
    "    # Transform to degrees\n",
    "    transformer = pyproj.Transformer.from_crs(\"epsg:32613\", \"epsg:4326\")\n",
    "    leak_lon, leak_lat = transformer.transform(leak_lon_ogcrs, leak_lat_ogcrs)\n",
    "\n",
    "    # Point of leak\n",
    "    poi = ee.Geometry.Point([leak_lat, leak_lon])\n",
    "\n",
    "    if previous_end_date != end_date:\n",
    "        print(\"Leak coords: \", (leak_lat, leak_lon), \"\\n\", \n",
    "              \"Start and end dates: \", (start_date, end_date))\n",
    "    \n",
    "        img = get_image(start = start_date, end = end_date, poi_leak = poi)\n",
    "        img = bands_clip_image(img, buffer_size = 100, bands = bands)\n",
    "        download_image(image = img, path = \"../data/patches/\", date_label = date_lab)\n",
    "\n",
    "    previous_end_date = end_date"
   ]
  },
  {
   "cell_type": "code",
   "execution_count": 112,
   "metadata": {},
   "outputs": [
    {
     "data": {
      "text/html": [
       "<img src=\"https://earthengine.googleapis.com/v1alpha/projects/earthengine-legacy/thumbnails/799f6188ce1aca3ed2a424a7a6fe5616-14c00ec7845a3b9de66e511e25e939f1:getPixels\"/>"
      ],
      "text/plain": [
       "<IPython.core.display.Image object>"
      ]
     },
     "metadata": {},
     "output_type": "display_data"
    }
   ],
   "source": [
    "buff_size = 10000\n",
    "\n",
    "display(Image(url = img.clip(poi.buffer(buff_size).bounds(proj = \"EPSG:32613\", maxError = 0.001)).getThumbURL({\"min\": 0,\n",
    "                                                \"max\": 3000,\n",
    "                                                \"dimensions\": 800,\n",
    "                                                \"bands\": [\"B4\", \"B3\", \"B2\"]})))\n"
   ]
  },
  {
   "cell_type": "code",
   "execution_count": 36,
   "metadata": {},
   "outputs": [],
   "source": [
    "bands = [\"B4\", \"B3\", \"B2\", \"B1\", \"B5\", \"B6\", \"B7\", \"B8\", \"B8A\", \"B9\", \"B11\", \"B12\", \"WVP\"]"
   ]
  },
  {
   "cell_type": "code",
   "execution_count": 27,
   "metadata": {},
   "outputs": [],
   "source": [
    "# Define bands for download\n",
    "# bands = [\"B4\", \"B3\", \"B2\", \"B1\", \"B8\", \"B9\"]\n",
    "\n",
    "# Clip image\n",
    "img = img.clip(poi.buffer(100).bounds(proj = \"EPSG:32613\", maxError = 0.001))\n",
    "\n",
    "# Select bands\n",
    "img = img.select(bands)"
   ]
  },
  {
   "cell_type": "code",
   "execution_count": 30,
   "metadata": {},
   "outputs": [
    {
     "data": {
      "text/plain": [
       "16088"
      ]
     },
     "execution_count": 30,
     "metadata": {},
     "output_type": "execute_result"
    }
   ],
   "source": [
    "# Download GeoTIFF\n",
    "url = img.getDownloadURL(\n",
    "    {\n",
    "    \"scale\": 10,\n",
    "    \"crs\": \"EPSG:32613\",\n",
    "    \"fileFormat\": \"GeoTIFF\",\n",
    "    \"maxPixels\": 1e13\n",
    "    }\n",
    ")\n",
    "\n",
    "r = requests.get(url, allow_redirects = True)\n",
    "open(\"../data/images/\" + \"S2\" + \"_\" + str(leaks_clean.fechalegalizacion[0])[:10], \"wb\").write(r.content)\n"
   ]
  },
  {
   "cell_type": "code",
   "execution_count": 104,
   "metadata": {},
   "outputs": [
    {
     "data": {
      "text/plain": [
       "'S2_2022-12-01'"
      ]
     },
     "execution_count": 104,
     "metadata": {},
     "output_type": "execute_result"
    }
   ],
   "source": [
    "\"S2\" + \"_\" + str(leaks_clean.fechalegalizacion[0])[:10]"
   ]
  },
  {
   "cell_type": "code",
   "execution_count": 9,
   "metadata": {},
   "outputs": [],
   "source": [
    "# Save first image and clip with a rectangle buffer\n",
    "img0 = ee.Image(ags_list.get(0)) # Raw image\n",
    "# img0 = img0.addBands(ee.Image.pixelLonLat())\n",
    "img0 = img0.select(bands) # Select bands\n",
    "img0 = img0.clip(poi.buffer(buff_size).bounds(proj = \"EPSG:32613\", maxError = 0.1)) # Rectangle buffer"
   ]
  },
  {
   "cell_type": "code",
   "execution_count": 10,
   "metadata": {},
   "outputs": [
    {
     "name": "stdout",
     "output_type": "stream",
     "text": [
      "https://earthengine.googleapis.com/v1alpha/projects/earthengine-legacy/thumbnails/daa755daa025b1390b7639337dc90e5d-7d49d455cec7de3e1e016bcf69b57a92:getPixels\n"
     ]
    }
   ],
   "source": [
    "# Download link\n",
    "link = img0.getDownloadURL(\n",
    "    {\n",
    "    \"scale\": 10,\n",
    "    \"crs\": \"EPSG:32613\",\n",
    "    \"fileFormat\": \"GeoTIFF\",\n",
    "    \"maxPixels\": 1e13\n",
    "    }\n",
    ")\n",
    "\n",
    "print(link)"
   ]
  },
  {
   "cell_type": "markdown",
   "metadata": {},
   "source": [
    "## Download GeoTIFFs"
   ]
  },
  {
   "cell_type": "code",
   "execution_count": 13,
   "metadata": {},
   "outputs": [],
   "source": [
    "# Bands to download\n",
    "bands = [\"B4\", \"B3\", \"B2\", \"B1\", \"B5\", \"B6\", \"B7\", \"B8\", \"B8A\", \"B9\", \"B11\", \"B12\", \"WVP\"]"
   ]
  },
  {
   "cell_type": "code",
   "execution_count": 10,
   "metadata": {},
   "outputs": [
    {
     "name": "stderr",
     "output_type": "stream",
     "text": [
      "c:\\Users\\Erick\\AppData\\Local\\Programs\\Python\\Python311\\Lib\\site-packages\\traittypes\\traittypes.py:20: DeprecationWarning: \n",
      "            Sentinel is not a public part of the traitlets API.\n",
      "            It was published by mistake, and may be removed in the future.\n",
      "            \n",
      "  Empty = Sentinel('Empty', 'traittypes',\n"
     ]
    },
    {
     "data": {
      "application/vnd.jupyter.widget-view+json": {
       "model_id": "8ff584294fdc4b2c8fd14fddf1b7c871",
       "version_major": 2,
       "version_minor": 0
      },
      "text/plain": [
       "Map(center=[23, -102.4], controls=(WidgetControl(options=['position', 'transparent_bg'], widget=HBox(children=…"
      ]
     },
     "metadata": {},
     "output_type": "display_data"
    }
   ],
   "source": [
    "import geemap\n",
    "import ee\n",
    "from geeS2downloader import GEES2Downloader\n",
    "\n",
    "# If it is not yet authenticated, uncomment the line below\n",
    "# ee.Authenticate()\n",
    "\n",
    "# img = ags_collection\n",
    "\n",
    "Map = geemap.Map(center=(23, -102.4), zoom=9)\n",
    "Map.addLayer(img, {'min': 0, 'max': 3000, 'bands': ['B4', 'B3', \"B2\"], \"region\": poi.buffer(10000)}, 'Cloud Probability', True, 1)\n",
    "Map"
   ]
  },
  {
   "cell_type": "code",
   "execution_count": 15,
   "metadata": {},
   "outputs": [
    {
     "name": "stdout",
     "output_type": "stream",
     "text": [
      "Generating URL ...\n",
      "An error occurred while downloading.\n",
      "Image.select: Pattern 'B5' did not match any bands.\n"
     ]
    }
   ],
   "source": [
    "# Export with geemap\n",
    "geemap.ee_export_image(img, \"../data/images/s2_prueba.tif\", scale=10)"
   ]
  },
  {
   "cell_type": "code",
   "execution_count": 24,
   "metadata": {},
   "outputs": [
    {
     "name": "stdout",
     "output_type": "stream",
     "text": [
      "Retrieving band info\n",
      "Dividing band in 1 tiles\n"
     ]
    },
    {
     "data": {
      "application/vnd.jupyter.widget-view+json": {
       "model_id": "0a3976e7043f4823beae0c09ea9951d1",
       "version_major": 2,
       "version_minor": 0
      },
      "text/plain": [
       "Tiles:   0%|          | 0/1 [00:00<?, ?tile/s]"
      ]
     },
     "metadata": {},
     "output_type": "display_data"
    },
    {
     "data": {
      "application/vnd.jupyter.widget-view+json": {
       "model_id": "fc0285ba087b4cd8b1f0b752d28ac279",
       "version_major": 2,
       "version_minor": 0
      },
      "text/plain": [
       "Tile[0:1990,0:1995]:   0%|          | 0.00/5.16M [00:00<?, ?b/s]"
      ]
     },
     "metadata": {},
     "output_type": "display_data"
    },
    {
     "name": "stdout",
     "output_type": "stream",
     "text": [
      "Finished. The result can be accessed at obj.array\n"
     ]
    }
   ],
   "source": [
    "# Export with GEE2Downloader\n",
    "downloader = GEES2Downloader()\n",
    "\n",
    "downloader.download(img = img, band = \"B4\")\n",
    "\n"
   ]
  },
  {
   "cell_type": "code",
   "execution_count": 25,
   "metadata": {},
   "outputs": [
    {
     "name": "stdout",
     "output_type": "stream",
     "text": [
      "(1990, 1995)\n"
     ]
    },
    {
     "data": {
      "text/plain": [
       "<matplotlib.image.AxesImage at 0x2a664af2290>"
      ]
     },
     "execution_count": 25,
     "metadata": {},
     "output_type": "execute_result"
    },
    {
     "data": {
      "image/png": "[encoded data removed]",
      "text/plain": [
       "<Figure size 640x480 with 1 Axes>"
      ]
     },
     "metadata": {},
     "output_type": "display_data"
    }
   ],
   "source": [
    "print(downloader.array.shape)\n",
    "\n",
    "plt.imshow(downloader.array.)"
   ]
  },
  {
   "cell_type": "code",
   "execution_count": 26,
   "metadata": {},
   "outputs": [
    {
     "data": {
      "text/plain": [
       "{'data_type': {'type': 'PixelType',\n",
       "  'precision': 'int',\n",
       "  'min': 0,\n",
       "  'max': 65535},\n",
       " 'dimensions': [1990, 1995],\n",
       " 'origin': [6910, 6768],\n",
       " 'crs': 'EPSG:32613',\n",
       " 'crs_transform': [10, 0, 699960, 0, -10, 2500020],\n",
       " 'nominal_scale': 10}"
      ]
     },
     "execution_count": 26,
     "metadata": {},
     "output_type": "execute_result"
    }
   ],
   "source": [
    "downloader.band_info"
   ]
  }
 ],
 "metadata": {
  "kernelspec": {
   "display_name": "rs_leaks_env",
   "language": "python",
   "name": "python3"
  },
  "language_info": {
   "codemirror_mode": {
    "name": "ipython",
    "version": 3
   },
   "file_extension": ".py",
   "mimetype": "text/x-python",
   "name": "python",
   "nbconvert_exporter": "python",
   "pygments_lexer": "ipython3",
   "version": "3.11.2"
  },
  "orig_nbformat": 4
 },
 "nbformat": 4,
 "nbformat_minor": 2
}
