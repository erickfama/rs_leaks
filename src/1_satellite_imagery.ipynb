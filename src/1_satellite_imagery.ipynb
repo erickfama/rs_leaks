{
 "cells": [
  {
   "cell_type": "code",
   "execution_count": 1,
   "metadata": {},
   "outputs": [],
   "source": [
    "import numpy as np\n",
    "import pandas as pd\n",
    "from janitor import clean_names\n",
    "from datetime import timedelta\n",
    "import ee\n",
    "import pyproj\n",
    "import requests\n",
    "\n",
    "# Modules not needed\n",
    "import geopandas as gpd\n",
    "import polars as pl\n",
    "import matplotlib.pyplot as plt\n",
    "# import zipfile\n",
    "# import os\n",
    "# import request\n",
    "import rasterio\n",
    "# import geeS2downloader\n",
    "from IPython.display import Image"
   ]
  },
  {
   "cell_type": "code",
   "execution_count": 2,
   "metadata": {},
   "outputs": [
    {
     "data": {
      "text/html": [
       "<div>\n",
       "<style scoped>\n",
       "    .dataframe tbody tr th:only-of-type {\n",
       "        vertical-align: middle;\n",
       "    }\n",
       "\n",
       "    .dataframe tbody tr th {\n",
       "        vertical-align: top;\n",
       "    }\n",
       "\n",
       "    .dataframe thead th {\n",
       "        text-align: right;\n",
       "    }\n",
       "</style>\n",
       "<table border=\"1\" class=\"dataframe\">\n",
       "  <thead>\n",
       "    <tr style=\"text-align: right;\">\n",
       "      <th></th>\n",
       "      <th>Id</th>\n",
       "      <th>FECHA DE CREACIÓN</th>\n",
       "      <th>FECHA DE INICIO</th>\n",
       "      <th>FECHA FINAL</th>\n",
       "      <th>CODUNIDAD</th>\n",
       "      <th>FECHALEGALIZACION</th>\n",
       "      <th>NOMBREESTADO</th>\n",
       "      <th>NOMBRETRABAJO</th>\n",
       "      <th>CAUSAL</th>\n",
       "      <th>X</th>\n",
       "      <th>Y</th>\n",
       "    </tr>\n",
       "  </thead>\n",
       "  <tbody>\n",
       "    <tr>\n",
       "      <th>0</th>\n",
       "      <td>1</td>\n",
       "      <td>2021-10-14</td>\n",
       "      <td>2022-11-24</td>\n",
       "      <td>2022-12-07</td>\n",
       "      <td>757</td>\n",
       "      <td>2022-12-07</td>\n",
       "      <td>Cerrada</td>\n",
       "      <td>FTA - FUGA EN TOMA DE AGUA</td>\n",
       "      <td>SE CANCELA</td>\n",
       "      <td>781021.888082</td>\n",
       "      <td>2.428227e+06</td>\n",
       "    </tr>\n",
       "    <tr>\n",
       "      <th>1</th>\n",
       "      <td>2</td>\n",
       "      <td>2021-09-28</td>\n",
       "      <td>2022-11-24</td>\n",
       "      <td>2022-12-07</td>\n",
       "      <td>757</td>\n",
       "      <td>2022-12-07</td>\n",
       "      <td>Cerrada</td>\n",
       "      <td>FTA - FUGA EN TOMA DE AGUA</td>\n",
       "      <td>SE CANCELA</td>\n",
       "      <td>778394.890320</td>\n",
       "      <td>2.426703e+06</td>\n",
       "    </tr>\n",
       "    <tr>\n",
       "      <th>2</th>\n",
       "      <td>3</td>\n",
       "      <td>2022-03-30</td>\n",
       "      <td>2022-11-24</td>\n",
       "      <td>2022-11-26</td>\n",
       "      <td>757</td>\n",
       "      <td>2022-12-22</td>\n",
       "      <td>Cerrada</td>\n",
       "      <td>FTA - FUGA EN TOMA DE AGUA</td>\n",
       "      <td>SE CANCELA</td>\n",
       "      <td>786182.935000</td>\n",
       "      <td>2.421650e+06</td>\n",
       "    </tr>\n",
       "    <tr>\n",
       "      <th>3</th>\n",
       "      <td>4</td>\n",
       "      <td>2022-04-24</td>\n",
       "      <td>2022-11-25</td>\n",
       "      <td>2022-11-26</td>\n",
       "      <td>757</td>\n",
       "      <td>2022-12-22</td>\n",
       "      <td>Cerrada</td>\n",
       "      <td>FTA - FUGA EN TOMA DE AGUA</td>\n",
       "      <td>SE CANCELA</td>\n",
       "      <td>780261.739782</td>\n",
       "      <td>2.421571e+06</td>\n",
       "    </tr>\n",
       "    <tr>\n",
       "      <th>4</th>\n",
       "      <td>5</td>\n",
       "      <td>2022-06-07</td>\n",
       "      <td>2022-11-25</td>\n",
       "      <td>2022-11-26</td>\n",
       "      <td>757</td>\n",
       "      <td>2022-12-22</td>\n",
       "      <td>Cerrada</td>\n",
       "      <td>FTA - FUGA EN TOMA DE AGUA</td>\n",
       "      <td>SE CANCELA</td>\n",
       "      <td>781486.184276</td>\n",
       "      <td>2.430545e+06</td>\n",
       "    </tr>\n",
       "  </tbody>\n",
       "</table>\n",
       "</div>"
      ],
      "text/plain": [
       "   Id FECHA DE CREACIÓN FECHA DE INICIO FECHA FINAL  CODUNIDAD  \\\n",
       "0   1        2021-10-14      2022-11-24  2022-12-07        757   \n",
       "1   2        2021-09-28      2022-11-24  2022-12-07        757   \n",
       "2   3        2022-03-30      2022-11-24  2022-11-26        757   \n",
       "3   4        2022-04-24      2022-11-25  2022-11-26        757   \n",
       "4   5        2022-06-07      2022-11-25  2022-11-26        757   \n",
       "\n",
       "  FECHALEGALIZACION NOMBREESTADO               NOMBRETRABAJO      CAUSAL  \\\n",
       "0        2022-12-07      Cerrada  FTA - FUGA EN TOMA DE AGUA  SE CANCELA   \n",
       "1        2022-12-07      Cerrada  FTA - FUGA EN TOMA DE AGUA  SE CANCELA   \n",
       "2        2022-12-22      Cerrada  FTA - FUGA EN TOMA DE AGUA  SE CANCELA   \n",
       "3        2022-12-22      Cerrada  FTA - FUGA EN TOMA DE AGUA  SE CANCELA   \n",
       "4        2022-12-22      Cerrada  FTA - FUGA EN TOMA DE AGUA  SE CANCELA   \n",
       "\n",
       "               X             Y  \n",
       "0  781021.888082  2.428227e+06  \n",
       "1  778394.890320  2.426703e+06  \n",
       "2  786182.935000  2.421650e+06  \n",
       "3  780261.739782  2.421571e+06  \n",
       "4  781486.184276  2.430545e+06  "
      ]
     },
     "execution_count": 2,
     "metadata": {},
     "output_type": "execute_result"
    }
   ],
   "source": [
    "# Read leak df to get dates\n",
    "leaks_raw = pd.read_excel(\"../data/raw/Ordenes Fugas Ejecutadas Dic2022 XY.xlsx\")\n",
    "leaks_raw.head()"
   ]
  },
  {
   "cell_type": "code",
   "execution_count": 3,
   "metadata": {},
   "outputs": [
    {
     "data": {
      "text/plain": [
       "Index(['id', 'fecha_de_creacion', 'fecha_de_inicio', 'fecha_final',\n",
       "       'codunidad', 'fechalegalizacion', 'nombreestado', 'nombretrabajo',\n",
       "       'causal', 'x', 'y'],\n",
       "      dtype='object')"
      ]
     },
     "execution_count": 3,
     "metadata": {},
     "output_type": "execute_result"
    }
   ],
   "source": [
    "# Clean leaks data\n",
    "leaks_clean = clean_names(leaks_raw)\n",
    "leaks_clean.columns # The column of interest is fecha_de_inicio\n"
   ]
  },
  {
   "cell_type": "code",
   "execution_count": 4,
   "metadata": {},
   "outputs": [
    {
     "data": {
      "text/html": [
       "<div>\n",
       "<style scoped>\n",
       "    .dataframe tbody tr th:only-of-type {\n",
       "        vertical-align: middle;\n",
       "    }\n",
       "\n",
       "    .dataframe tbody tr th {\n",
       "        vertical-align: top;\n",
       "    }\n",
       "\n",
       "    .dataframe thead th {\n",
       "        text-align: right;\n",
       "    }\n",
       "</style>\n",
       "<table border=\"1\" class=\"dataframe\">\n",
       "  <thead>\n",
       "    <tr style=\"text-align: right;\">\n",
       "      <th></th>\n",
       "      <th>id</th>\n",
       "      <th>fecha_de_inicio</th>\n",
       "      <th>fecha_final</th>\n",
       "      <th>fechalegalizacion</th>\n",
       "      <th>causal</th>\n",
       "      <th>x</th>\n",
       "      <th>y</th>\n",
       "      <th>leak_type</th>\n",
       "    </tr>\n",
       "  </thead>\n",
       "  <tbody>\n",
       "    <tr>\n",
       "      <th>0</th>\n",
       "      <td>2366</td>\n",
       "      <td>2022-12-01</td>\n",
       "      <td>2022-12-01</td>\n",
       "      <td>2022-12-01</td>\n",
       "      <td>SE REPARA FTC, GENERA BA</td>\n",
       "      <td>781563.335110</td>\n",
       "      <td>2.419492e+06</td>\n",
       "      <td>FTC</td>\n",
       "    </tr>\n",
       "    <tr>\n",
       "      <th>1</th>\n",
       "      <td>2479</td>\n",
       "      <td>2022-12-01</td>\n",
       "      <td>2022-12-01</td>\n",
       "      <td>2022-12-01</td>\n",
       "      <td>SE REPARA FTC, GENERA BA</td>\n",
       "      <td>785033.684233</td>\n",
       "      <td>2.423310e+06</td>\n",
       "      <td>FTC</td>\n",
       "    </tr>\n",
       "    <tr>\n",
       "      <th>2</th>\n",
       "      <td>2443</td>\n",
       "      <td>2022-12-01</td>\n",
       "      <td>2022-12-01</td>\n",
       "      <td>2022-12-01</td>\n",
       "      <td>SE REPARA FTC, GENERA BA</td>\n",
       "      <td>781521.553633</td>\n",
       "      <td>2.419196e+06</td>\n",
       "      <td>FTC</td>\n",
       "    </tr>\n",
       "    <tr>\n",
       "      <th>3</th>\n",
       "      <td>2460</td>\n",
       "      <td>2022-12-02</td>\n",
       "      <td>2022-12-02</td>\n",
       "      <td>2022-12-02</td>\n",
       "      <td>SE REPARA FTC, GENERA BA</td>\n",
       "      <td>779658.087686</td>\n",
       "      <td>2.416386e+06</td>\n",
       "      <td>FTC</td>\n",
       "    </tr>\n",
       "    <tr>\n",
       "      <th>4</th>\n",
       "      <td>2409</td>\n",
       "      <td>2022-12-02</td>\n",
       "      <td>2022-12-02</td>\n",
       "      <td>2022-12-02</td>\n",
       "      <td>SE REPARA FTC, GENERA BA</td>\n",
       "      <td>781491.668852</td>\n",
       "      <td>2.419196e+06</td>\n",
       "      <td>FTC</td>\n",
       "    </tr>\n",
       "  </tbody>\n",
       "</table>\n",
       "</div>"
      ],
      "text/plain": [
       "     id fecha_de_inicio fecha_final fechalegalizacion  \\\n",
       "0  2366      2022-12-01  2022-12-01        2022-12-01   \n",
       "1  2479      2022-12-01  2022-12-01        2022-12-01   \n",
       "2  2443      2022-12-01  2022-12-01        2022-12-01   \n",
       "3  2460      2022-12-02  2022-12-02        2022-12-02   \n",
       "4  2409      2022-12-02  2022-12-02        2022-12-02   \n",
       "\n",
       "                     causal              x             y leak_type  \n",
       "0  SE REPARA FTC, GENERA BA  781563.335110  2.419492e+06       FTC  \n",
       "1  SE REPARA FTC, GENERA BA  785033.684233  2.423310e+06       FTC  \n",
       "2  SE REPARA FTC, GENERA BA  781521.553633  2.419196e+06       FTC  \n",
       "3  SE REPARA FTC, GENERA BA  779658.087686  2.416386e+06       FTC  \n",
       "4  SE REPARA FTC, GENERA BA  781491.668852  2.419196e+06       FTC  "
      ]
     },
     "execution_count": 4,
     "metadata": {},
     "output_type": "execute_result"
    }
   ],
   "source": [
    "# First we need to filter leaks that are detected in the main pipe. Code in column nombretrabajo: FTC\n",
    "\n",
    "# Column with codes\n",
    "leaks_clean[\"leak_type\"] = leaks_clean.nombretrabajo.str.extract(r\"([A-Z]+)\", expand = False)\n",
    "\n",
    "# Filter\n",
    "leaks_clean = leaks_clean.query(\"leak_type == 'FTC'\")\n",
    "\n",
    "# Second, we need to filter to causal == \"SE REPARA FTC, GENERA BA\"\n",
    "leaks_clean = leaks_clean.query(\"causal == 'SE REPARA FTC, GENERA BA'\")\n",
    "\n",
    "# Drop irrelevant columns\n",
    "leaks_clean = leaks_clean.drop([\"codunidad\", \"nombreestado\", \"nombretrabajo\", \"fecha_de_creacion\"], axis = 1)\n",
    "\n",
    "# Sort df by fecha_de_inicio\n",
    "leaks_clean = leaks_clean.sort_values(by = \"fecha_de_inicio\").reset_index(drop = True)\n",
    "\n",
    "# Show clean df \n",
    "leaks_clean.head() # This df is going to be necessary to define the date of each image to be downloaded"
   ]
  },
  {
   "cell_type": "code",
   "execution_count": 5,
   "metadata": {},
   "outputs": [],
   "source": [
    "# Initialize GEE API\n",
    "ee.Initialize()"
   ]
  },
  {
   "cell_type": "code",
   "execution_count": 6,
   "metadata": {},
   "outputs": [
    {
     "name": "stdout",
     "output_type": "stream",
     "text": [
      "inicio: 2022-11-23 00:00:00 \n",
      "final: 2022-11-30 00:00:00\n"
     ]
    }
   ],
   "source": [
    "# Parameters for collection\n",
    "\n",
    "# Point of interest (Center of Aguascalientes City) EPGS: \n",
    "lat = 21.8833333\n",
    "lon = -102.3\n",
    "poi = ee.Geometry.Point(lon, lat)  \n",
    "\n",
    "# Area of interest\n",
    "aoi = ee.Geometry.LinearRing([ \n",
    "    [-102.3695755, 21.9745687],\n",
    "    [-102.211993, 21.9745687],\n",
    "    [-102.211993, 21.8085958],\n",
    "    [-102.3695755, 21.8085958],\n",
    "    [-102.3695755, 21.9745687]\n",
    "    ])\n",
    "\n",
    "# Dates\n",
    "end_date = leaks_clean.fechalegalizacion[0] - timedelta(days = 1)\n",
    "start_date = end_date - timedelta(days = 7)\n",
    "\n",
    "print(\"inicio:\", start_date, \"\\nfinal:\", end_date)"
   ]
  },
  {
   "cell_type": "code",
   "execution_count": 17,
   "metadata": {},
   "outputs": [
    {
     "name": "stdout",
     "output_type": "stream",
     "text": [
      "Total images: 3\n",
      "Date of selected image: 2022-11-23\n"
     ]
    }
   ],
   "source": [
    "# Image collection\n",
    "ags_collection = ee.ImageCollection(\"COPERNICUS/S2_SR_HARMONIZED\")\\\n",
    "                          .filterBounds(aoi)\\\n",
    "                          .filterDate(ee.Date(start_date), ee.Date(end_date))\\\n",
    "                          .sort(\"CLOUD_COVERAGE_ASSESMENT\")\n",
    "\n",
    "print(\"Total images:\", ags_collection.size().getInfo())\n",
    "\n",
    "# Add latitude and longitude to the collection\n",
    "# ags_collection = ags_collection.addBands(ee.Image.pixelLonLat())\n",
    "ags_list = ags_collection.toList(ags_collection.size())\n",
    "\n",
    "img = ags_collection.first()\n",
    "\n",
    "print(\"Date of selected image:\", ee.Date(img.get(\"system:time_start\")).format(\"yyyy-MM-dd\").getInfo())"
   ]
  },
  {
   "cell_type": "code",
   "execution_count": 6,
   "metadata": {},
   "outputs": [],
   "source": [
    "def get_image(start, end, poi_leak):\n",
    "    collection = ee.ImageCollection(\"COPERNICUS/S2_SR_HARMONIZED\")\\\n",
    "    .filterBounds(poi_leak)\\\n",
    "    .filterDate(ee.Date(start), ee.Date(end))\\\n",
    "    .sort(\"CLOUD_COVERAGE_ASSESMENT\")\n",
    "\n",
    "    print(\"Images found: \", collection.size().getInfo())\n",
    "\n",
    "    img = collection.first()\n",
    "\n",
    "    print(\"Date of selected image: \", ee.Date(img.get(\"system:time_start\")).format(\"yyyy-MM-dd\").getInfo()) \n",
    "    \n",
    "    return img  "
   ]
  },
  {
   "cell_type": "code",
   "execution_count": 7,
   "metadata": {},
   "outputs": [
    {
     "ename": "NameError",
     "evalue": "name 'start_date' is not defined",
     "output_type": "error",
     "traceback": [
      "\u001b[1;31m---------------------------------------------------------------------------\u001b[0m",
      "\u001b[1;31mNameError\u001b[0m                                 Traceback (most recent call last)",
      "\u001b[1;32mc:\\Users\\Erick\\OneDrive\\Documentos\\projects\\rs_leaks\\src\\1_satellite_imagery.ipynb Cell 9\u001b[0m in \u001b[0;36m1\n\u001b[1;32m----> <a href='vscode-notebook-cell:/c%3A/Users/Erick/OneDrive/Documentos/projects/rs_leaks/src/1_satellite_imagery.ipynb#X11sZmlsZQ%3D%3D?line=0'>1</a>\u001b[0m get_image(start \u001b[39m=\u001b[39m start_date,  end \u001b[39m=\u001b[39m end_date, poi_leak \u001b[39m=\u001b[39m poi) \u001b[39m# It works\u001b[39;00m\n",
      "\u001b[1;31mNameError\u001b[0m: name 'start_date' is not defined"
     ]
    }
   ],
   "source": [
    "get_image(start = start_date,  end = end_date, poi_leak = poi) # It works"
   ]
  },
  {
   "cell_type": "code",
   "execution_count": 8,
   "metadata": {},
   "outputs": [],
   "source": [
    "def bands_clip_image(image, buffer_size = 100, bands = [\"B4\", \"B3\", \"B2\"]):\n",
    "    # Clip image\n",
    "    image = image.clip(poi.buffer(buffer_size).bounds(proj = \"EPSG:32613\", maxError = 0.001))\n",
    "\n",
    "    # Select bands\n",
    "    image = image.select(bands)\n",
    "\n",
    "    return image"
   ]
  },
  {
   "cell_type": "code",
   "execution_count": 47,
   "metadata": {},
   "outputs": [
    {
     "name": "stdout",
     "output_type": "stream",
     "text": [
      "Images found:  3\n",
      "Date of selected image:  2022-11-23\n"
     ]
    }
   ],
   "source": [
    "img = get_image(start = start_date,  end = end_date, poi_leak = poi)\n",
    "img = bands_clip_image(img, bands = bands)"
   ]
  },
  {
   "cell_type": "code",
   "execution_count": 19,
   "metadata": {},
   "outputs": [],
   "source": [
    "def download_image(image, path, date_label):\n",
    "    url = image.getDownloadURL(\n",
    "        {\n",
    "        \"scale\": 10,\n",
    "        \"crs\": \"EPSG:32613\",\n",
    "        \"fileFormat\": \"GeoTIFF\",\n",
    "        \"maxPixels\": 1e13\n",
    "        }\n",
    "    )\n",
    "\n",
    "    r = requests.get(url, allow_redirects = True)\n",
    "    open(path + \"S2\" + \"_\" + date_label + \".zip\", \"wb\").write(r.content)\n",
    "    print(\"Download complete\")"
   ]
  },
  {
   "cell_type": "code",
   "execution_count": 51,
   "metadata": {},
   "outputs": [
    {
     "name": "stdout",
     "output_type": "stream",
     "text": [
      "Download complete\n"
     ]
    }
   ],
   "source": [
    "download_image(img, \"../data/patches/\", date_label = leaks_clean.fechalegalizacion[0])"
   ]
  },
  {
   "cell_type": "markdown",
   "metadata": {},
   "source": [
    "## Automate Download for all the leaks"
   ]
  },
  {
   "cell_type": "code",
   "execution_count": 10,
   "metadata": {},
   "outputs": [],
   "source": [
    "# Add geometry column\n",
    "leaks_clean[\"geometry\"] = gpd.points_from_xy(leaks_clean[\"x\"], leaks_clean[\"y\"])\n",
    "\n",
    "# Transform df to geodf\n",
    "leaks_gdf = gpd.GeoDataFrame(leaks_clean, geometry = \"geometry\", crs = \"EPSG:32613\")"
   ]
  },
  {
   "cell_type": "code",
   "execution_count": 25,
   "metadata": {},
   "outputs": [
    {
     "name": "stdout",
     "output_type": "stream",
     "text": [
      "====================================================================================================\n",
      "Leak index:  0\n",
      "Leak coords:  (-102.27569493914878, 21.857000495984423) \n",
      " Start and end dates:  (Timestamp('2022-11-23 00:00:00'), Timestamp('2022-11-30 00:00:00'))\n",
      "Images found:  3\n",
      "Date of selected image:  2022-11-23\n",
      "Download complete\n",
      "====================================================================================================\n",
      "Leak index:  1\n",
      "Leak detected at the same date\n",
      "Leak coords:  (-102.24148408060327, 21.890893572554063) \n",
      " Start and end dates:  (Timestamp('2022-11-23 00:00:00'), Timestamp('2022-11-30 00:00:00'))\n",
      "Images found:  3\n",
      "Date of selected image:  2022-11-23\n",
      "Download complete\n",
      "====================================================================================================\n",
      "Leak index:  2\n",
      "Leak detected at the same date\n",
      "Leak coords:  (-102.27614954129095, 21.854335579474345) \n",
      " Start and end dates:  (Timestamp('2022-11-23 00:00:00'), Timestamp('2022-11-30 00:00:00'))\n",
      "Images found:  3\n",
      "Date of selected image:  2022-11-23\n",
      "Download complete\n",
      "====================================================================================================\n",
      "Leak index:  3\n",
      "Leak coords:  (-102.294641764373, 21.829265790225637) \n",
      " Start and end dates:  (Timestamp('2022-11-24 00:00:00'), Timestamp('2022-12-01 00:00:00'))\n",
      "Images found:  3\n",
      "Date of selected image:  2022-11-25\n",
      "Download complete\n",
      "====================================================================================================\n",
      "Leak index:  4\n",
      "Leak detected at the same date\n",
      "Leak coords:  (-102.27643845737985, 21.85433950322247) \n",
      " Start and end dates:  (Timestamp('2022-11-24 00:00:00'), Timestamp('2022-12-01 00:00:00'))\n",
      "Images found:  3\n",
      "Date of selected image:  2022-11-25\n",
      "Download complete\n",
      "====================================================================================================\n",
      "Leak index:  5\n",
      "Leak detected at the same date\n",
      "Leak coords:  (-102.2764982296, 21.854339776174008) \n",
      " Start and end dates:  (Timestamp('2022-11-24 00:00:00'), Timestamp('2022-12-01 00:00:00'))\n",
      "Images found:  3\n",
      "Date of selected image:  2022-11-25\n",
      "Download complete\n",
      "====================================================================================================\n",
      "Leak index:  6\n",
      "Leak coords:  (-102.33410278027021, 21.876843362364117) \n",
      " Start and end dates:  (Timestamp('2022-11-27 00:00:00'), Timestamp('2022-12-04 00:00:00'))\n",
      "Images found:  3\n",
      "Date of selected image:  2022-11-28\n",
      "Download complete\n",
      "====================================================================================================\n",
      "Leak index:  7\n",
      "Leak coords:  (-102.24342048141187, 21.873816220707724) \n",
      " Start and end dates:  (Timestamp('2022-11-30 00:00:00'), Timestamp('2022-12-07 00:00:00'))\n",
      "Images found:  3\n",
      "Date of selected image:  2022-11-30\n",
      "Download complete\n",
      "====================================================================================================\n",
      "Leak index:  8\n",
      "Leak coords:  (-102.30669097020571, 21.91758192120375) \n",
      " Start and end dates:  (Timestamp('2022-12-06 00:00:00'), Timestamp('2022-12-13 00:00:00'))\n",
      "Images found:  2\n",
      "Date of selected image:  2022-12-08\n",
      "Download complete\n",
      "====================================================================================================\n",
      "Leak index:  9\n",
      "Leak coords:  (-102.23237637558347, 21.867588090292035) \n",
      " Start and end dates:  (Timestamp('2022-12-09 00:00:00'), Timestamp('2022-12-16 00:00:00'))\n",
      "Images found:  3\n",
      "Date of selected image:  2022-12-10\n",
      "Download complete\n",
      "====================================================================================================\n",
      "Leak index:  10\n",
      "Leak detected at the same date\n",
      "Leak coords:  (-102.26941362243234, 21.81999203397413) \n",
      " Start and end dates:  (Timestamp('2022-12-09 00:00:00'), Timestamp('2022-12-16 00:00:00'))\n",
      "Images found:  3\n",
      "Date of selected image:  2022-12-10\n",
      "Download complete\n",
      "====================================================================================================\n",
      "Leak index:  11\n",
      "Leak coords:  (-102.29063873758726, 21.909353615298595) \n",
      " Start and end dates:  (Timestamp('2022-12-11 00:00:00'), Timestamp('2022-12-18 00:00:00'))\n",
      "Images found:  2\n",
      "Date of selected image:  2022-12-13\n",
      "Download complete\n",
      "====================================================================================================\n",
      "Leak index:  12\n",
      "Leak coords:  (-102.24798153981575, 21.898990852714316) \n",
      " Start and end dates:  (Timestamp('2022-12-12 00:00:00'), Timestamp('2022-12-19 00:00:00'))\n",
      "Images found:  3\n",
      "Date of selected image:  2022-12-13\n",
      "Download complete\n",
      "====================================================================================================\n",
      "Leak index:  13\n",
      "Leak detected at the same date\n",
      "Leak coords:  (-102.41129355257333, 21.71726718359368) \n",
      " Start and end dates:  (Timestamp('2022-12-12 00:00:00'), Timestamp('2022-12-19 00:00:00'))\n",
      "Images found:  3\n",
      "Date of selected image:  2022-12-13\n",
      "Download complete\n",
      "====================================================================================================\n",
      "Leak index:  14\n",
      "Leak detected at the same date\n",
      "Leak coords:  (-102.4125036731808, 21.717442556865983) \n",
      " Start and end dates:  (Timestamp('2022-12-12 00:00:00'), Timestamp('2022-12-19 00:00:00'))\n",
      "Images found:  3\n",
      "Date of selected image:  2022-12-13\n",
      "Download complete\n",
      "====================================================================================================\n",
      "Leak index:  15\n",
      "Leak coords:  (-102.31926111503876, 21.852981028220615) \n",
      " Start and end dates:  (Timestamp('2022-12-14 00:00:00'), Timestamp('2022-12-21 00:00:00'))\n",
      "Images found:  3\n",
      "Date of selected image:  2022-12-15\n",
      "Download complete\n",
      "====================================================================================================\n",
      "Leak index:  16\n",
      "Leak detected at the same date\n",
      "Leak coords:  (-102.23233649095145, 21.867548759170987) \n",
      " Start and end dates:  (Timestamp('2022-12-14 00:00:00'), Timestamp('2022-12-21 00:00:00'))\n",
      "Images found:  3\n",
      "Date of selected image:  2022-12-15\n",
      "Download complete\n",
      "====================================================================================================\n",
      "Leak index:  17\n",
      "Leak detected at the same date\n",
      "Leak coords:  (-102.27937989061991, 21.896363973909278) \n",
      " Start and end dates:  (Timestamp('2022-12-14 00:00:00'), Timestamp('2022-12-21 00:00:00'))\n",
      "Images found:  3\n",
      "Date of selected image:  2022-12-15\n",
      "Download complete\n",
      "====================================================================================================\n",
      "Leak index:  18\n",
      "Leak coords:  (-102.25032708218627, 21.881032456379767) \n",
      " Start and end dates:  (Timestamp('2022-12-15 00:00:00'), Timestamp('2022-12-22 00:00:00'))\n",
      "Images found:  3\n",
      "Date of selected image:  2022-12-15\n",
      "Download complete\n",
      "====================================================================================================\n",
      "Leak index:  19\n",
      "Leak detected at the same date\n",
      "Leak coords:  (-102.2820950838443, 21.87077307153964) \n",
      " Start and end dates:  (Timestamp('2022-12-15 00:00:00'), Timestamp('2022-12-22 00:00:00'))\n",
      "Images found:  3\n",
      "Date of selected image:  2022-12-15\n",
      "Download complete\n",
      "====================================================================================================\n",
      "Leak index:  20\n",
      "Leak coords:  (-102.24925440088067, 21.88991734333154) \n",
      " Start and end dates:  (Timestamp('2022-12-20 00:00:00'), Timestamp('2022-12-27 00:00:00'))\n",
      "Images found:  3\n",
      "Date of selected image:  2022-12-20\n",
      "Download complete\n",
      "====================================================================================================\n",
      "Leak index:  21\n",
      "Leak coords:  (-102.28956070202314, 21.880071804491337) \n",
      " Start and end dates:  (Timestamp('2022-12-21 00:00:00'), Timestamp('2022-12-28 00:00:00'))\n",
      "Images found:  2\n",
      "Date of selected image:  2022-12-23\n",
      "Download complete\n",
      "====================================================================================================\n",
      "Leak index:  22\n",
      "Leak detected at the same date\n",
      "Leak coords:  (-102.26428427432661, 21.853065067944538) \n",
      " Start and end dates:  (Timestamp('2022-12-21 00:00:00'), Timestamp('2022-12-28 00:00:00'))\n",
      "Images found:  2\n",
      "Date of selected image:  2022-12-23\n",
      "Download complete\n"
     ]
    }
   ],
   "source": [
    "bands = [\"B4\", \"B3\", \"B2\", \"B1\", \"B5\", \"B6\", \"B7\", \"B8\", \"B8A\", \"B9\", \"B11\", \"B12\", \"WVP\"]\n",
    "i = 0\n",
    "\n",
    "for leak in range(leaks_clean.shape[0]):\n",
    "    print(\"=\"*100)\n",
    "    print(\"Leak index: \", leak)\n",
    "    \n",
    "    # Dates for patch\n",
    "    end_date = leaks_clean.fecha_final[leak] - timedelta(days = 1)\n",
    "    start_date = end_date - timedelta(days = 7)    \n",
    "\n",
    "    if leak == 0:\n",
    "        previous_end_date = \"\"\n",
    "\n",
    "    if previous_end_date == end_date:\n",
    "        i += 1\n",
    "        print(\"Leak detected at the same date\")\n",
    "    else:\n",
    "        i = 0\n",
    "\n",
    "    # Date for zip label\n",
    "    date_lab = str(leaks_clean.fechalegalizacion[leak])[:10] + \"_\" + str(i)\n",
    "    \n",
    "    # Coords of leaks\n",
    "    leak_lat_ogcrs = leaks_clean[\"y\"][leak]\n",
    "    leak_lon_ogcrs = leaks_clean[\"x\"][leak]\n",
    "\n",
    "    # Transform to degrees\n",
    "    transformer = pyproj.Transformer.from_crs(\"epsg:32613\", \"epsg:4326\")\n",
    "    leak_lon, leak_lat = transformer.transform(leak_lon_ogcrs, leak_lat_ogcrs)\n",
    "\n",
    "    # Point of leak\n",
    "    poi = ee.Geometry.Point([leak_lat, leak_lon])\n",
    " \n",
    "    print(\"Leak coords: \", (leak_lat, leak_lon), \"\\n\", \n",
    "          \"Start and end dates: \", (start_date, end_date))\n",
    "    \n",
    "    img = get_image(start = start_date, end = end_date, poi_leak = poi)\n",
    "    img = bands_clip_image(img, buffer_size = 100, bands = bands)\n",
    "\n",
    "    download_image(image = img, path = \"../data/patches/\", date_label = date_lab)\n",
    "\n",
    "    previous_end_date = end_date"
   ]
  },
  {
   "cell_type": "code",
   "execution_count": 112,
   "metadata": {},
   "outputs": [
    {
     "data": {
      "text/html": [
       "<img src=\"https://earthengine.googleapis.com/v1alpha/projects/earthengine-legacy/thumbnails/799f6188ce1aca3ed2a424a7a6fe5616-14c00ec7845a3b9de66e511e25e939f1:getPixels\"/>"
      ],
      "text/plain": [
       "<IPython.core.display.Image object>"
      ]
     },
     "metadata": {},
     "output_type": "display_data"
    }
   ],
   "source": [
    "buff_size = 10000\n",
    "\n",
    "display(Image(url = img.clip(poi.buffer(buff_size).bounds(proj = \"EPSG:32613\", maxError = 0.001)).getThumbURL({\"min\": 0,\n",
    "                                                \"max\": 3000,\n",
    "                                                \"dimensions\": 800,\n",
    "                                                \"bands\": [\"B4\", \"B3\", \"B2\"]})))\n"
   ]
  },
  {
   "cell_type": "code",
   "execution_count": 36,
   "metadata": {},
   "outputs": [],
   "source": [
    "bands = [\"B4\", \"B3\", \"B2\", \"B1\", \"B5\", \"B6\", \"B7\", \"B8\", \"B8A\", \"B9\", \"B11\", \"B12\", \"WVP\"]"
   ]
  },
  {
   "cell_type": "code",
   "execution_count": 27,
   "metadata": {},
   "outputs": [],
   "source": [
    "# Define bands for download\n",
    "# bands = [\"B4\", \"B3\", \"B2\", \"B1\", \"B8\", \"B9\"]\n",
    "\n",
    "# Clip image\n",
    "img = img.clip(poi.buffer(100).bounds(proj = \"EPSG:32613\", maxError = 0.001))\n",
    "\n",
    "# Select bands\n",
    "img = img.select(bands)"
   ]
  },
  {
   "cell_type": "code",
   "execution_count": 30,
   "metadata": {},
   "outputs": [
    {
     "data": {
      "text/plain": [
       "16088"
      ]
     },
     "execution_count": 30,
     "metadata": {},
     "output_type": "execute_result"
    }
   ],
   "source": [
    "# Download GeoTIFF\n",
    "url = img.getDownloadURL(\n",
    "    {\n",
    "    \"scale\": 10,\n",
    "    \"crs\": \"EPSG:32613\",\n",
    "    \"fileFormat\": \"GeoTIFF\",\n",
    "    \"maxPixels\": 1e13\n",
    "    }\n",
    ")\n",
    "\n",
    "r = requests.get(url, allow_redirects = True)\n",
    "open(\"../data/images/\" + \"S2\" + \"_\" + str(leaks_clean.fechalegalizacion[0])[:10], \"wb\").write(r.content)\n"
   ]
  },
  {
   "cell_type": "code",
   "execution_count": 104,
   "metadata": {},
   "outputs": [
    {
     "data": {
      "text/plain": [
       "'S2_2022-12-01'"
      ]
     },
     "execution_count": 104,
     "metadata": {},
     "output_type": "execute_result"
    }
   ],
   "source": [
    "\"S2\" + \"_\" + str(leaks_clean.fechalegalizacion[0])[:10]"
   ]
  },
  {
   "cell_type": "code",
   "execution_count": 9,
   "metadata": {},
   "outputs": [],
   "source": [
    "# Save first image and clip with a rectangle buffer\n",
    "img0 = ee.Image(ags_list.get(0)) # Raw image\n",
    "# img0 = img0.addBands(ee.Image.pixelLonLat())\n",
    "img0 = img0.select(bands) # Select bands\n",
    "img0 = img0.clip(poi.buffer(buff_size).bounds(proj = \"EPSG:32613\", maxError = 0.1)) # Rectangle buffer"
   ]
  },
  {
   "cell_type": "code",
   "execution_count": 10,
   "metadata": {},
   "outputs": [
    {
     "name": "stdout",
     "output_type": "stream",
     "text": [
      "https://earthengine.googleapis.com/v1alpha/projects/earthengine-legacy/thumbnails/daa755daa025b1390b7639337dc90e5d-7d49d455cec7de3e1e016bcf69b57a92:getPixels\n"
     ]
    }
   ],
   "source": [
    "# Download link\n",
    "link = img0.getDownloadURL(\n",
    "    {\n",
    "    \"scale\": 10,\n",
    "    \"crs\": \"EPSG:32613\",\n",
    "    \"fileFormat\": \"GeoTIFF\",\n",
    "    \"maxPixels\": 1e13\n",
    "    }\n",
    ")\n",
    "\n",
    "print(link)"
   ]
  },
  {
   "cell_type": "markdown",
   "metadata": {},
   "source": [
    "## Download GeoTIFFs"
   ]
  },
  {
   "cell_type": "code",
   "execution_count": 13,
   "metadata": {},
   "outputs": [],
   "source": [
    "# Bands to download\n",
    "bands = [\"B4\", \"B3\", \"B2\", \"B1\", \"B5\", \"B6\", \"B7\", \"B8\", \"B8A\", \"B9\", \"B11\", \"B12\", \"WVP\"]"
   ]
  },
  {
   "cell_type": "code",
   "execution_count": 10,
   "metadata": {},
   "outputs": [
    {
     "name": "stderr",
     "output_type": "stream",
     "text": [
      "c:\\Users\\Erick\\AppData\\Local\\Programs\\Python\\Python311\\Lib\\site-packages\\traittypes\\traittypes.py:20: DeprecationWarning: \n",
      "            Sentinel is not a public part of the traitlets API.\n",
      "            It was published by mistake, and may be removed in the future.\n",
      "            \n",
      "  Empty = Sentinel('Empty', 'traittypes',\n"
     ]
    },
    {
     "data": {
      "application/vnd.jupyter.widget-view+json": {
       "model_id": "8ff584294fdc4b2c8fd14fddf1b7c871",
       "version_major": 2,
       "version_minor": 0
      },
      "text/plain": [
       "Map(center=[23, -102.4], controls=(WidgetControl(options=['position', 'transparent_bg'], widget=HBox(children=…"
      ]
     },
     "metadata": {},
     "output_type": "display_data"
    }
   ],
   "source": [
    "import geemap\n",
    "import ee\n",
    "from geeS2downloader import GEES2Downloader\n",
    "\n",
    "# If it is not yet authenticated, uncomment the line below\n",
    "# ee.Authenticate()\n",
    "\n",
    "# img = ags_collection\n",
    "\n",
    "Map = geemap.Map(center=(23, -102.4), zoom=9)\n",
    "Map.addLayer(img, {'min': 0, 'max': 3000, 'bands': ['B4', 'B3', \"B2\"], \"region\": poi.buffer(10000)}, 'Cloud Probability', True, 1)\n",
    "Map"
   ]
  },
  {
   "cell_type": "code",
   "execution_count": 15,
   "metadata": {},
   "outputs": [
    {
     "name": "stdout",
     "output_type": "stream",
     "text": [
      "Generating URL ...\n",
      "An error occurred while downloading.\n",
      "Image.select: Pattern 'B5' did not match any bands.\n"
     ]
    }
   ],
   "source": [
    "# Export with geemap\n",
    "geemap.ee_export_image(img, \"../data/images/s2_prueba.tif\", scale=10)"
   ]
  },
  {
   "cell_type": "code",
   "execution_count": 24,
   "metadata": {},
   "outputs": [
    {
     "name": "stdout",
     "output_type": "stream",
     "text": [
      "Retrieving band info\n",
      "Dividing band in 1 tiles\n"
     ]
    },
    {
     "data": {
      "application/vnd.jupyter.widget-view+json": {
       "model_id": "0a3976e7043f4823beae0c09ea9951d1",
       "version_major": 2,
       "version_minor": 0
      },
      "text/plain": [
       "Tiles:   0%|          | 0/1 [00:00<?, ?tile/s]"
      ]
     },
     "metadata": {},
     "output_type": "display_data"
    },
    {
     "data": {
      "application/vnd.jupyter.widget-view+json": {
       "model_id": "fc0285ba087b4cd8b1f0b752d28ac279",
       "version_major": 2,
       "version_minor": 0
      },
      "text/plain": [
       "Tile[0:1990,0:1995]:   0%|          | 0.00/5.16M [00:00<?, ?b/s]"
      ]
     },
     "metadata": {},
     "output_type": "display_data"
    },
    {
     "name": "stdout",
     "output_type": "stream",
     "text": [
      "Finished. The result can be accessed at obj.array\n"
     ]
    }
   ],
   "source": [
    "# Export with GEE2Downloader\n",
    "downloader = GEES2Downloader()\n",
    "\n",
    "downloader.download(img = img, band = \"B4\")\n",
    "\n"
   ]
  },
  {
   "cell_type": "code",
   "execution_count": 25,
   "metadata": {},
   "outputs": [
    {
     "name": "stdout",
     "output_type": "stream",
     "text": [
      "(1990, 1995)\n"
     ]
    },
    {
     "data": {
      "text/plain": [
       "<matplotlib.image.AxesImage at 0x2a664af2290>"
      ]
     },
     "execution_count": 25,
     "metadata": {},
     "output_type": "execute_result"
    },
    {
     "data": {
      "image/png": "[encoded data removed]",
      "text/plain": [
       "<Figure size 640x480 with 1 Axes>"
      ]
     },
     "metadata": {},
     "output_type": "display_data"
    }
   ],
   "source": [
    "print(downloader.array.shape)\n",
    "\n",
    "plt.imshow(downloader.array.)"
   ]
  },
  {
   "cell_type": "code",
   "execution_count": 26,
   "metadata": {},
   "outputs": [
    {
     "data": {
      "text/plain": [
       "{'data_type': {'type': 'PixelType',\n",
       "  'precision': 'int',\n",
       "  'min': 0,\n",
       "  'max': 65535},\n",
       " 'dimensions': [1990, 1995],\n",
       " 'origin': [6910, 6768],\n",
       " 'crs': 'EPSG:32613',\n",
       " 'crs_transform': [10, 0, 699960, 0, -10, 2500020],\n",
       " 'nominal_scale': 10}"
      ]
     },
     "execution_count": 26,
     "metadata": {},
     "output_type": "execute_result"
    }
   ],
   "source": [
    "downloader.band_info"
   ]
  }
 ],
 "metadata": {
  "kernelspec": {
   "display_name": "rs_leaks_env",
   "language": "python",
   "name": "python3"
  },
  "language_info": {
   "codemirror_mode": {
    "name": "ipython",
    "version": 3
   },
   "file_extension": ".py",
   "mimetype": "text/x-python",
   "name": "python",
   "nbconvert_exporter": "python",
   "pygments_lexer": "ipython3",
   "version": "3.11.2"
  },
  "orig_nbformat": 4
 },
 "nbformat": 4,
 "nbformat_minor": 2
}
