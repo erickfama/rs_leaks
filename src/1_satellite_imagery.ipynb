{
 "cells": [
  {
   "cell_type": "code",
   "execution_count": 1,
   "metadata": {},
   "outputs": [],
   "source": [
    "import numpy as np\n",
    "import pandas as pd\n",
    "import geopandas as gpd\n",
    "import polars as pl\n",
    "import matplotlib.pyplot as plt\n",
    "import ee\n",
    "# import zipfile\n",
    "# import os\n",
    "# import request\n",
    "import rasterio\n",
    "import geeS2downloader\n",
    "from IPython.display import Image"
   ]
  },
  {
   "cell_type": "code",
   "execution_count": 2,
   "metadata": {},
   "outputs": [],
   "source": [
    "# Initialize GEE API\n",
    "ee.Initialize()"
   ]
  },
  {
   "cell_type": "code",
   "execution_count": 13,
   "metadata": {},
   "outputs": [],
   "source": [
    "# Parameters for collection\n",
    "\n",
    "# Point of interest (Center of Aguascalientes City) EPGS: \n",
    "lat = 21.8833333\n",
    "lon = -102.3\n",
    "\n",
    "# Punto de interes\n",
    "poi = ee.Geometry.Point(lon, lat)# 10 km buffer \n",
    "aoi = ee.Geometry.LinearRing([[-102.35, 21.9], \n",
    "                              [-102.23, 21.9], \n",
    "                              [-102.23, 21.8], \n",
    "                              [-102.35, 21.8]])\n",
    "\n",
    "# Periodo de tiempo\n",
    "start_date = \"2022-12-10\"\n",
    "end_date = \"2022-12-15\""
   ]
  },
  {
   "cell_type": "code",
   "execution_count": 20,
   "metadata": {},
   "outputs": [
    {
     "name": "stdout",
     "output_type": "stream",
     "text": [
      "Total images: 2\n"
     ]
    }
   ],
   "source": [
    "# Image collection\n",
    "ags_collection = ee.ImageCollection(\"COPERNICUS/S2_SR_HARMONIZED\")\\\n",
    "                          .filterBounds(poi)\\\n",
    "                          .filterDate(ee.Date(start_date), ee.Date(end_date))\n",
    "print(\"Total images:\", ags_collection.size().getInfo())\n",
    "\n",
    "# Add latitude and longitude to the collection\n",
    "# ags_collection = ags_collection.addBands(ee.Image.pixelLonLat())\n",
    "ags_list = ags_collection.toList(ags_collection.size())"
   ]
  },
  {
   "cell_type": "code",
   "execution_count": 31,
   "metadata": {},
   "outputs": [
    {
     "data": {
      "text/html": [
       "<img src=\"https://earthengine.googleapis.com/v1alpha/projects/earthengine-legacy/thumbnails/e486f278a1ec618559899713128d4ebc-891c49b81fc772b391a6a0398cdefcc0:getPixels\"/>"
      ],
      "text/plain": [
       "<IPython.core.display.Image object>"
      ]
     },
     "metadata": {},
     "output_type": "display_data"
    },
    {
     "data": {
      "text/plain": [
       "ee.Geometry({\n",
       "  \"functionInvocationValue\": {\n",
       "    \"functionName\": \"GeometryConstructors.Point\",\n",
       "    \"arguments\": {\n",
       "      \"coordinates\": {\n",
       "        \"constantValue\": [\n",
       "          -102.3,\n",
       "          21.8833333\n",
       "        ]\n",
       "      }\n",
       "    }\n",
       "  }\n",
       "})"
      ]
     },
     "execution_count": 31,
     "metadata": {},
     "output_type": "execute_result"
    }
   ],
   "source": [
    "display(Image(url = ee.Image(ags_list.get(0)).clip(poi.buffer(100).bounds(proj = \"EPSG:32613\", maxError = 0.1)).getThumbURL({\"min\": 0,\n",
    "                                                \"max\": 3000,\n",
    "                                                \"dimensions\": 800,\n",
    "                                                \"bands\": [\"B4\", \"B3\", \"B2\"]})))\n",
    "poi"
   ]
  },
  {
   "cell_type": "code",
   "execution_count": 32,
   "metadata": {},
   "outputs": [],
   "source": [
    "# Define bands\n",
    "bands = [\"B4\", \"B3\", \"B2\"]"
   ]
  },
  {
   "cell_type": "code",
   "execution_count": 39,
   "metadata": {},
   "outputs": [
    {
     "data": {
      "text/plain": [
       "{'type': 'Image',\n",
       " 'bands': [{'id': 'B1',\n",
       "   'data_type': {'type': 'PixelType',\n",
       "    'precision': 'int',\n",
       "    'min': 0,\n",
       "    'max': 65535},\n",
       "   'dimensions': [1830, 1830],\n",
       "   'crs': 'EPSG:32613',\n",
       "   'crs_transform': [60, 0, 699960, 0, -60, 2500020]},\n",
       "  {'id': 'B2',\n",
       "   'data_type': {'type': 'PixelType',\n",
       "    'precision': 'int',\n",
       "    'min': 0,\n",
       "    'max': 65535},\n",
       "   'dimensions': [10980, 10980],\n",
       "   'crs': 'EPSG:32613',\n",
       "   'crs_transform': [10, 0, 699960, 0, -10, 2500020]},\n",
       "  {'id': 'B3',\n",
       "   'data_type': {'type': 'PixelType',\n",
       "    'precision': 'int',\n",
       "    'min': 0,\n",
       "    'max': 65535},\n",
       "   'dimensions': [10980, 10980],\n",
       "   'crs': 'EPSG:32613',\n",
       "   'crs_transform': [10, 0, 699960, 0, -10, 2500020]},\n",
       "  {'id': 'B4',\n",
       "   'data_type': {'type': 'PixelType',\n",
       "    'precision': 'int',\n",
       "    'min': 0,\n",
       "    'max': 65535},\n",
       "   'dimensions': [10980, 10980],\n",
       "   'crs': 'EPSG:32613',\n",
       "   'crs_transform': [10, 0, 699960, 0, -10, 2500020]},\n",
       "  {'id': 'B5',\n",
       "   'data_type': {'type': 'PixelType',\n",
       "    'precision': 'int',\n",
       "    'min': 0,\n",
       "    'max': 65535},\n",
       "   'dimensions': [5490, 5490],\n",
       "   'crs': 'EPSG:32613',\n",
       "   'crs_transform': [20, 0, 699960, 0, -20, 2500020]},\n",
       "  {'id': 'B6',\n",
       "   'data_type': {'type': 'PixelType',\n",
       "    'precision': 'int',\n",
       "    'min': 0,\n",
       "    'max': 65535},\n",
       "   'dimensions': [5490, 5490],\n",
       "   'crs': 'EPSG:32613',\n",
       "   'crs_transform': [20, 0, 699960, 0, -20, 2500020]},\n",
       "  {'id': 'B7',\n",
       "   'data_type': {'type': 'PixelType',\n",
       "    'precision': 'int',\n",
       "    'min': 0,\n",
       "    'max': 65535},\n",
       "   'dimensions': [5490, 5490],\n",
       "   'crs': 'EPSG:32613',\n",
       "   'crs_transform': [20, 0, 699960, 0, -20, 2500020]},\n",
       "  {'id': 'B8',\n",
       "   'data_type': {'type': 'PixelType',\n",
       "    'precision': 'int',\n",
       "    'min': 0,\n",
       "    'max': 65535},\n",
       "   'dimensions': [10980, 10980],\n",
       "   'crs': 'EPSG:32613',\n",
       "   'crs_transform': [10, 0, 699960, 0, -10, 2500020]},\n",
       "  {'id': 'B8A',\n",
       "   'data_type': {'type': 'PixelType',\n",
       "    'precision': 'int',\n",
       "    'min': 0,\n",
       "    'max': 65535},\n",
       "   'dimensions': [5490, 5490],\n",
       "   'crs': 'EPSG:32613',\n",
       "   'crs_transform': [20, 0, 699960, 0, -20, 2500020]},\n",
       "  {'id': 'B9',\n",
       "   'data_type': {'type': 'PixelType',\n",
       "    'precision': 'int',\n",
       "    'min': 0,\n",
       "    'max': 65535},\n",
       "   'dimensions': [1830, 1830],\n",
       "   'crs': 'EPSG:32613',\n",
       "   'crs_transform': [60, 0, 699960, 0, -60, 2500020]},\n",
       "  {'id': 'B11',\n",
       "   'data_type': {'type': 'PixelType',\n",
       "    'precision': 'int',\n",
       "    'min': 0,\n",
       "    'max': 65535},\n",
       "   'dimensions': [5490, 5490],\n",
       "   'crs': 'EPSG:32613',\n",
       "   'crs_transform': [20, 0, 699960, 0, -20, 2500020]},\n",
       "  {'id': 'B12',\n",
       "   'data_type': {'type': 'PixelType',\n",
       "    'precision': 'int',\n",
       "    'min': 0,\n",
       "    'max': 65535},\n",
       "   'dimensions': [5490, 5490],\n",
       "   'crs': 'EPSG:32613',\n",
       "   'crs_transform': [20, 0, 699960, 0, -20, 2500020]},\n",
       "  {'id': 'AOT',\n",
       "   'data_type': {'type': 'PixelType',\n",
       "    'precision': 'int',\n",
       "    'min': 0,\n",
       "    'max': 65535},\n",
       "   'dimensions': [10980, 10980],\n",
       "   'crs': 'EPSG:32613',\n",
       "   'crs_transform': [10, 0, 699960, 0, -10, 2500020]},\n",
       "  {'id': 'WVP',\n",
       "   'data_type': {'type': 'PixelType',\n",
       "    'precision': 'int',\n",
       "    'min': 0,\n",
       "    'max': 65535},\n",
       "   'dimensions': [10980, 10980],\n",
       "   'crs': 'EPSG:32613',\n",
       "   'crs_transform': [10, 0, 699960, 0, -10, 2500020]},\n",
       "  {'id': 'SCL',\n",
       "   'data_type': {'type': 'PixelType',\n",
       "    'precision': 'int',\n",
       "    'min': 0,\n",
       "    'max': 255},\n",
       "   'dimensions': [5490, 5490],\n",
       "   'crs': 'EPSG:32613',\n",
       "   'crs_transform': [20, 0, 699960, 0, -20, 2500020]},\n",
       "  {'id': 'TCI_R',\n",
       "   'data_type': {'type': 'PixelType',\n",
       "    'precision': 'int',\n",
       "    'min': 0,\n",
       "    'max': 255},\n",
       "   'dimensions': [10980, 10980],\n",
       "   'crs': 'EPSG:32613',\n",
       "   'crs_transform': [10, 0, 699960, 0, -10, 2500020]},\n",
       "  {'id': 'TCI_G',\n",
       "   'data_type': {'type': 'PixelType',\n",
       "    'precision': 'int',\n",
       "    'min': 0,\n",
       "    'max': 255},\n",
       "   'dimensions': [10980, 10980],\n",
       "   'crs': 'EPSG:32613',\n",
       "   'crs_transform': [10, 0, 699960, 0, -10, 2500020]},\n",
       "  {'id': 'TCI_B',\n",
       "   'data_type': {'type': 'PixelType',\n",
       "    'precision': 'int',\n",
       "    'min': 0,\n",
       "    'max': 255},\n",
       "   'dimensions': [10980, 10980],\n",
       "   'crs': 'EPSG:32613',\n",
       "   'crs_transform': [10, 0, 699960, 0, -10, 2500020]},\n",
       "  {'id': 'MSK_CLDPRB',\n",
       "   'data_type': {'type': 'PixelType',\n",
       "    'precision': 'int',\n",
       "    'min': 0,\n",
       "    'max': 255},\n",
       "   'dimensions': [5490, 5490],\n",
       "   'crs': 'EPSG:32613',\n",
       "   'crs_transform': [20, 0, 699960, 0, -20, 2500020]},\n",
       "  {'id': 'MSK_SNWPRB',\n",
       "   'data_type': {'type': 'PixelType',\n",
       "    'precision': 'int',\n",
       "    'min': 0,\n",
       "    'max': 255},\n",
       "   'dimensions': [5490, 5490],\n",
       "   'crs': 'EPSG:32613',\n",
       "   'crs_transform': [20, 0, 699960, 0, -20, 2500020]},\n",
       "  {'id': 'QA10',\n",
       "   'data_type': {'type': 'PixelType',\n",
       "    'precision': 'int',\n",
       "    'min': 0,\n",
       "    'max': 65535},\n",
       "   'dimensions': [10980, 10980],\n",
       "   'crs': 'EPSG:32613',\n",
       "   'crs_transform': [10, 0, 699960, 0, -10, 2500020]},\n",
       "  {'id': 'QA20',\n",
       "   'data_type': {'type': 'PixelType',\n",
       "    'precision': 'int',\n",
       "    'min': 0,\n",
       "    'max': 4294967295},\n",
       "   'dimensions': [5490, 5490],\n",
       "   'crs': 'EPSG:32613',\n",
       "   'crs_transform': [20, 0, 699960, 0, -20, 2500020]},\n",
       "  {'id': 'QA60',\n",
       "   'data_type': {'type': 'PixelType',\n",
       "    'precision': 'int',\n",
       "    'min': 0,\n",
       "    'max': 65535},\n",
       "   'dimensions': [1830, 1830],\n",
       "   'crs': 'EPSG:32613',\n",
       "   'crs_transform': [60, 0, 699960, 0, -60, 2500020]},\n",
       "  {'id': 'longitude',\n",
       "   'data_type': {'type': 'PixelType', 'precision': 'double'},\n",
       "   'crs': 'EPSG:4326',\n",
       "   'crs_transform': [1, 0, 0, 0, 1, 0]},\n",
       "  {'id': 'latitude',\n",
       "   'data_type': {'type': 'PixelType', 'precision': 'double'},\n",
       "   'crs': 'EPSG:4326',\n",
       "   'crs_transform': [1, 0, 0, 0, 1, 0]}],\n",
       " 'version': 1679451817801957,\n",
       " 'id': 'COPERNICUS/S2_SR_HARMONIZED/20221210T171721_20221210T172008_T13QGE',\n",
       " 'properties': {'SPACECRAFT_NAME': 'Sentinel-2A',\n",
       "  'SATURATED_DEFECTIVE_PIXEL_PERCENTAGE': 0,\n",
       "  'BOA_ADD_OFFSET_B12': -1000,\n",
       "  'CLOUD_SHADOW_PERCENTAGE': 0,\n",
       "  'system:footprint': {'type': 'LinearRing',\n",
       "   'coordinates': [[-101.98775776682251, 22.578777227466833],\n",
       "    [-101.9878311077269, 22.57886854903726],\n",
       "    [-102.27744668635634, 22.58404134528398],\n",
       "    [-102.27808483987984, 22.58290826360837],\n",
       "    [-102.39113823357503, 22.10351826156247],\n",
       "    [-102.5032535308506, 21.623962941831792],\n",
       "    [-102.50387940017231, 21.62126340000543],\n",
       "    [-102.50701702436548, 21.607225117641203],\n",
       "    [-102.50890468102394, 21.598577437597285],\n",
       "    [-102.50893881140341, 21.596583383404827],\n",
       "    [-102.50886556237076, 21.59649230410901],\n",
       "    [-102.00880813569181, 21.588251857866712],\n",
       "    [-102.00870995125021, 21.588319699524977],\n",
       "    [-102.00358235611091, 21.835962364511456],\n",
       "    [-101.99838174404424, 22.083575995130527],\n",
       "    [-101.99310708050257, 22.33118096304679],\n",
       "    [-101.98775776682251, 22.578777227466833]]},\n",
       "  'SENSOR_QUALITY': 'PASSED',\n",
       "  'GENERATION_TIME': 1670706593000,\n",
       "  'CLOUDY_PIXEL_OVER_LAND_PERCENTAGE': 0.000107,\n",
       "  'CLOUD_COVERAGE_ASSESSMENT': 0.000107,\n",
       "  'THIN_CIRRUS_PERCENTAGE': 0,\n",
       "  'GRANULE_MEAN_WV': 0.910754,\n",
       "  'BOA_ADD_OFFSET_B1': -1000,\n",
       "  'BOA_ADD_OFFSET_B2': -1000,\n",
       "  'DATASTRIP_ID': 'S2A_OPER_MSI_L2A_DS_2APS_20221210T210953_S20221210T172008_N05.09',\n",
       "  'BOA_ADD_OFFSET_B5': -1000,\n",
       "  'BOA_ADD_OFFSET_B6': -1000,\n",
       "  'BOA_ADD_OFFSET_B3': -1000,\n",
       "  'BOA_ADD_OFFSET_B4': -1000,\n",
       "  'BOA_ADD_OFFSET_B9': -1000,\n",
       "  'BOA_ADD_OFFSET_B7': -1000,\n",
       "  'BOA_ADD_OFFSET_B8': -1000,\n",
       "  'GRANULE_ID': 'L2A_T13QGE_A039005_20221210T172008',\n",
       "  'MEAN_INCIDENCE_AZIMUTH_ANGLE_B8': 102.102773631327,\n",
       "  'DATATAKE_TYPE': 'INS-NOBS',\n",
       "  'MEAN_INCIDENCE_AZIMUTH_ANGLE_B9': 102.791365862006,\n",
       "  'MEAN_INCIDENCE_AZIMUTH_ANGLE_B6': 102.625997128548,\n",
       "  'MEAN_INCIDENCE_AZIMUTH_ANGLE_B7': 102.54339344526,\n",
       "  'MEAN_INCIDENCE_AZIMUTH_ANGLE_B4': 102.40907414948,\n",
       "  'NOT_VEGETATED_PERCENTAGE': 94.07864800000002,\n",
       "  'MEAN_INCIDENCE_AZIMUTH_ANGLE_B5': 102.523309151425,\n",
       "  'RADIOMETRIC_QUALITY': 'PASSED',\n",
       "  'MEAN_INCIDENCE_AZIMUTH_ANGLE_B2': 101.993109049105,\n",
       "  'MEAN_INCIDENCE_AZIMUTH_ANGLE_B3': 102.212060086053,\n",
       "  'MEAN_INCIDENCE_AZIMUTH_ANGLE_B1': 102.708281191209,\n",
       "  'HIGH_PROBA_CLOUDS_PERCENTAGE': 5.4e-05,\n",
       "  'UNCLASSIFIED_PERCENTAGE': 0.00185,\n",
       "  'OZONE_SOURCE': 'AUX_ECMWFT',\n",
       "  'GRANULE_MEAN_AOT': 0.139692,\n",
       "  'BOA_ADD_OFFSET_B8A': -1000,\n",
       "  'SNOW_ICE_PERCENTAGE': 0,\n",
       "  'BOA_ADD_OFFSET_B11': -1000,\n",
       "  'BOA_ADD_OFFSET_B10': -1000,\n",
       "  'GEOMETRIC_QUALITY': 'PASSED',\n",
       "  'system:asset_size': 688811193,\n",
       "  'system:index': '20221210T171721_20221210T172008_T13QGE',\n",
       "  'DATATAKE_IDENTIFIER': 'GS2A_20221210T171721_039005_N05.09',\n",
       "  'AOT_RETRIEVAL_ACCURACY': 0,\n",
       "  'AOT_RETRIEVAL_METHOD': 'CAMS',\n",
       "  'MEAN_INCIDENCE_AZIMUTH_ANGLE_B8A': 102.626923320653,\n",
       "  'MEAN_SOLAR_AZIMUTH_ANGLE': 156.732206660819,\n",
       "  'VEGETATION_PERCENTAGE': 5.813526,\n",
       "  'SOLAR_IRRADIANCE_B12': 85.25,\n",
       "  'SOLAR_IRRADIANCE_B10': 367.15,\n",
       "  'SOLAR_IRRADIANCE_B11': 245.59,\n",
       "  'SOLAR_IRRADIANCE_B8A': 955.32,\n",
       "  'FORMAT_CORRECTNESS': 'PASSED',\n",
       "  'system:time_end': 1670693271967,\n",
       "  'WATER_VAPOUR_RETRIEVAL_ACCURACY': 0,\n",
       "  'OZONE_VALUE': 248.782095,\n",
       "  'system:time_start': 1670693271967,\n",
       "  'PROCESSING_BASELINE': '05.09',\n",
       "  'SENSING_ORBIT_NUMBER': 112,\n",
       "  'NODATA_PIXEL_PERCENTAGE': 62.881517,\n",
       "  'SENSING_ORBIT_DIRECTION': 'DESCENDING',\n",
       "  'GENERAL_QUALITY': 'PASSED',\n",
       "  'REFLECTANCE_CONVERSION_CORRECTION': 1.03038606870972,\n",
       "  'MEDIUM_PROBA_CLOUDS_PERCENTAGE': 5.4e-05,\n",
       "  'MEAN_INCIDENCE_ZENITH_ANGLE_B1': 10.2314676070995,\n",
       "  'MEAN_INCIDENCE_ZENITH_ANGLE_B5': 10.1534887965429,\n",
       "  'MEAN_INCIDENCE_ZENITH_ANGLE_B4': 10.1379089061393,\n",
       "  'MEAN_INCIDENCE_ZENITH_ANGLE_B3': 10.1144462839664,\n",
       "  'MEAN_INCIDENCE_ZENITH_ANGLE_B2': 10.0965571994387,\n",
       "  'MEAN_INCIDENCE_ZENITH_ANGLE_B9': 10.2574834382865,\n",
       "  'MEAN_INCIDENCE_ZENITH_ANGLE_B8': 10.1044989362503,\n",
       "  'MEAN_INCIDENCE_ZENITH_ANGLE_B7': 10.1844343720654,\n",
       "  'DARK_FEATURES_PERCENTAGE': 0.001305,\n",
       "  'MEAN_INCIDENCE_ZENITH_ANGLE_B6': 10.1710348221587,\n",
       "  'MEAN_SOLAR_ZENITH_ANGLE': 48.6125164299343,\n",
       "  'MEAN_INCIDENCE_ZENITH_ANGLE_B8A': 10.2059153518352,\n",
       "  'RADIATIVE_TRANSFER_ACCURACY': 0,\n",
       "  'MGRS_TILE': '13QGE',\n",
       "  'CLOUDY_PIXEL_PERCENTAGE': 0.000107,\n",
       "  'PRODUCT_ID': 'S2A_MSIL2A_20221210T171721_N0509_R112_T13QGE_20221210T210953',\n",
       "  'MEAN_INCIDENCE_ZENITH_ANGLE_B10': 10.1026944571294,\n",
       "  'SOLAR_IRRADIANCE_B9': 812.92,\n",
       "  'DEGRADED_MSI_DATA_PERCENTAGE': 0.0297,\n",
       "  'MEAN_INCIDENCE_ZENITH_ANGLE_B11': 10.132626780271,\n",
       "  'L2A_QUALITY': 'PASSED',\n",
       "  'MEAN_INCIDENCE_ZENITH_ANGLE_B12': 10.1654789146292,\n",
       "  'SOLAR_IRRADIANCE_B6': 1287.61,\n",
       "  'MEAN_INCIDENCE_AZIMUTH_ANGLE_B10': 102.464160263227,\n",
       "  'SOLAR_IRRADIANCE_B5': 1424.64,\n",
       "  'MEAN_INCIDENCE_AZIMUTH_ANGLE_B11': 102.705448010837,\n",
       "  'SOLAR_IRRADIANCE_B8': 1041.63,\n",
       "  'MEAN_INCIDENCE_AZIMUTH_ANGLE_B12': 102.910533930545,\n",
       "  'SOLAR_IRRADIANCE_B7': 1162.08,\n",
       "  'SOLAR_IRRADIANCE_B2': 1959.66,\n",
       "  'SOLAR_IRRADIANCE_B1': 1884.69,\n",
       "  'SOLAR_IRRADIANCE_B4': 1512.06,\n",
       "  'SOLAR_IRRADIANCE_B3': 1823.24,\n",
       "  'WATER_PERCENTAGE': 0.10456299999999999}}"
      ]
     },
     "execution_count": 39,
     "metadata": {},
     "output_type": "execute_result"
    }
   ],
   "source": [
    "# Save first image and clip with a rectangle buffer\n",
    "img0 = ee.Image(ags_list.get(0)) # Raw image\n",
    "img0 = img0.addBands(ee.Image.pixelLonLat())\n",
    "# img0 = img0.select(bands) # Select bands\n",
    "# img0 = img0.clip(poi.buffer(100).bounds(proj = \"EPSG:32613\", maxError = 0.1)) # Rectangle buffer\n",
    "\n",
    "img0.getInfo()"
   ]
  },
  {
   "cell_type": "code",
   "execution_count": 11,
   "metadata": {},
   "outputs": [
    {
     "data": {
      "text/plain": [
       "{'state': 'READY',\n",
       " 'description': 'First_try',\n",
       " 'creation_timestamp_ms': 1679449192503,\n",
       " 'update_timestamp_ms': 1679449192503,\n",
       " 'start_timestamp_ms': 0,\n",
       " 'task_type': 'EXPORT_IMAGE',\n",
       " 'id': 'BQYPTSSSLDBGPESFJ24DKNZY',\n",
       " 'name': 'projects/earthengine-legacy/operations/BQYPTSSSLDBGPESFJ24DKNZY'}"
      ]
     },
     "execution_count": 11,
     "metadata": {},
     "output_type": "execute_result"
    }
   ],
   "source": [
    "# Export first image to drive\n",
    "task = ee.batch.Export.image.toDrive(\n",
    "    image = img0,\n",
    "    description = \"First_try\",\n",
    "    crs = \"EPSG:32613\",\n",
    "    scale = 10,\n",
    "    region = poi.buffer(100),\n",
    "    fileNamePrefix = \"img0\",\n",
    "    fileFormat = \"GeoTIFF\"\n",
    ")\n",
    "task.start()\n",
    "task.status()"
   ]
  },
  {
   "cell_type": "code",
   "execution_count": 34,
   "metadata": {},
   "outputs": [
    {
     "name": "stdout",
     "output_type": "stream",
     "text": [
      "https://earthengine.googleapis.com/v1alpha/projects/earthengine-legacy/thumbnails/7a9ea6f1e1749ab4ba148e23f810fba6-8fef072405fe3268fc03b9313d0ef3b3:getPixels\n"
     ]
    }
   ],
   "source": [
    "# Download link\n",
    "link = img0.getDownloadURL(\n",
    "    {\n",
    "    \"scale\": 10,\n",
    "    \"crs\": \"EPSG:32613\",\n",
    "    \"fileFormat\": \"GeoTIFF\"\n",
    "    }\n",
    ")\n",
    "\n",
    "print(link)"
   ]
  },
  {
   "cell_type": "markdown",
   "metadata": {},
   "source": [
    "## Download GeoTIFFs"
   ]
  },
  {
   "cell_type": "code",
   "execution_count": 40,
   "metadata": {},
   "outputs": [],
   "source": [
    "# Bands to download\n",
    "bands = [\"B4\", \"B3\", \"B2\", \"B1\", \"B5\", \"B6\", \"B7\", \"B8\", \"B8A\", \"B9\", \"B11\", \"B12\", \"WVP\"]"
   ]
  },
  {
   "cell_type": "code",
   "execution_count": 10,
   "metadata": {},
   "outputs": [
    {
     "data": {
      "application/vnd.jupyter.widget-view+json": {
       "model_id": "50411cef491545b5860c056d05273024",
       "version_major": 2,
       "version_minor": 0
      },
      "text/plain": [
       "Map(center=[23, -102.4], controls=(WidgetControl(options=['position', 'transparent_bg'], widget=HBox(children=…"
      ]
     },
     "metadata": {},
     "output_type": "display_data"
    }
   ],
   "source": [
    "import geemap\n",
    "import ee\n",
    "from geeS2downloader import GEES2Downloader\n",
    "\n",
    "# If it is not yet authenticated, uncomment the line below\n",
    "# ee.Authenticate()\n",
    "\n",
    "ee.Initialize()\n",
    "\n",
    "img = ags_collection\n",
    "\n",
    "Map = geemap.Map(center=(23, -102.4), zoom=9)\n",
    "Map.addLayer(img, {'min': 0, 'max': 3000, 'bands': ['B4', 'B3', \"B2\"], \"region\": poi.buffer(10000)}, 'Cloud Probability', True, 1)\n",
    "Map"
   ]
  },
  {
   "cell_type": "code",
   "execution_count": 15,
   "metadata": {},
   "outputs": [
    {
     "name": "stdout",
     "output_type": "stream",
     "text": [
      "Generating URL ...\n",
      "An error occurred while downloading.\n",
      "Total request size (241208648 bytes) must be less than or equal to 50331648 bytes.\n"
     ]
    }
   ],
   "source": [
    "# Export with geemap\n",
    "geemap.ee_export_image(cld, \"../data/images/clouds.tif\", scale=10)"
   ]
  },
  {
   "cell_type": "code",
   "execution_count": 6,
   "metadata": {},
   "outputs": [
    {
     "name": "stdout",
     "output_type": "stream",
     "text": [
      "Retrieving band info\n",
      "Dividing band in 16 tiles\n"
     ]
    },
    {
     "data": {
      "application/vnd.jupyter.widget-view+json": {
       "model_id": "4334a7f36d1b465fa448830bd852ab55",
       "version_major": 2,
       "version_minor": 0
      },
      "text/plain": [
       "Tiles:   0%|          | 0/16 [00:00<?, ?tile/s]"
      ]
     },
     "metadata": {},
     "output_type": "display_data"
    },
    {
     "data": {
      "application/vnd.jupyter.widget-view+json": {
       "model_id": "b53c3f1e7bf04df6bd5e257bc7e0a81e",
       "version_major": 2,
       "version_minor": 0
      },
      "text/plain": [
       "Tile[0:2896,8688:10980]:   0%|          | 0.00/8.63M [00:00<?, ?b/s]"
      ]
     },
     "metadata": {},
     "output_type": "display_data"
    },
    {
     "data": {
      "application/vnd.jupyter.widget-view+json": {
       "model_id": "9ea1a63ba24240f6b3084276807beac2",
       "version_major": 2,
       "version_minor": 0
      },
      "text/plain": [
       "Tile[0:2896,2896:5792]:   0%|          | 0.00/10.9M [00:00<?, ?b/s]"
      ]
     },
     "metadata": {},
     "output_type": "display_data"
    },
    {
     "data": {
      "application/vnd.jupyter.widget-view+json": {
       "model_id": "1b0c48a79e834b1f89fdcf252662aaa0",
       "version_major": 2,
       "version_minor": 0
      },
      "text/plain": [
       "Tile[0:2896,5792:8688]:   0%|          | 0.00/10.9M [00:00<?, ?b/s]"
      ]
     },
     "metadata": {},
     "output_type": "display_data"
    },
    {
     "data": {
      "application/vnd.jupyter.widget-view+json": {
       "model_id": "31b42f2440f848579afd4f3a29488403",
       "version_major": 2,
       "version_minor": 0
      },
      "text/plain": [
       "Tile[0:2896,0:2896]:   0%|          | 0.00/10.9M [00:00<?, ?b/s]"
      ]
     },
     "metadata": {},
     "output_type": "display_data"
    },
    {
     "data": {
      "application/vnd.jupyter.widget-view+json": {
       "model_id": "d3bbe3afa27e4593ae742f5db87b9d89",
       "version_major": 2,
       "version_minor": 0
      },
      "text/plain": [
       "Tile[2896:5792,0:2896]:   0%|          | 0.00/10.9M [00:00<?, ?b/s]"
      ]
     },
     "metadata": {},
     "output_type": "display_data"
    },
    {
     "data": {
      "application/vnd.jupyter.widget-view+json": {
       "model_id": "57654d52172842659b507edb7421b006",
       "version_major": 2,
       "version_minor": 0
      },
      "text/plain": [
       "Tile[2896:5792,2896:5792]:   0%|          | 0.00/10.9M [00:00<?, ?b/s]"
      ]
     },
     "metadata": {},
     "output_type": "display_data"
    },
    {
     "data": {
      "application/vnd.jupyter.widget-view+json": {
       "model_id": "079450404a314edc8c538103650cbc96",
       "version_major": 2,
       "version_minor": 0
      },
      "text/plain": [
       "Tile[2896:5792,5792:8688]:   0%|          | 0.00/10.9M [00:00<?, ?b/s]"
      ]
     },
     "metadata": {},
     "output_type": "display_data"
    },
    {
     "data": {
      "application/vnd.jupyter.widget-view+json": {
       "model_id": "67a7f6d3d00f499ca7602aa368776100",
       "version_major": 2,
       "version_minor": 0
      },
      "text/plain": [
       "Tile[2896:5792,8688:10980]:   0%|          | 0.00/8.63M [00:00<?, ?b/s]"
      ]
     },
     "metadata": {},
     "output_type": "display_data"
    },
    {
     "data": {
      "application/vnd.jupyter.widget-view+json": {
       "model_id": "3bbd59fb65ff427a8710773ed3ff1fc3",
       "version_major": 2,
       "version_minor": 0
      },
      "text/plain": [
       "Tile[5792:8688,0:2896]:   0%|          | 0.00/10.9M [00:00<?, ?b/s]"
      ]
     },
     "metadata": {},
     "output_type": "display_data"
    },
    {
     "data": {
      "application/vnd.jupyter.widget-view+json": {
       "model_id": "4a761a46b84645d394970e3a00379447",
       "version_major": 2,
       "version_minor": 0
      },
      "text/plain": [
       "Tile[5792:8688,2896:5792]:   0%|          | 0.00/10.9M [00:00<?, ?b/s]"
      ]
     },
     "metadata": {},
     "output_type": "display_data"
    },
    {
     "data": {
      "application/vnd.jupyter.widget-view+json": {
       "model_id": "5a05f713d9544c75b3869e7e1a337fee",
       "version_major": 2,
       "version_minor": 0
      },
      "text/plain": [
       "Tile[5792:8688,5792:8688]:   0%|          | 0.00/10.9M [00:00<?, ?b/s]"
      ]
     },
     "metadata": {},
     "output_type": "display_data"
    },
    {
     "data": {
      "application/vnd.jupyter.widget-view+json": {
       "model_id": "50ec95a6cb29495ca0999a4edbf1efdb",
       "version_major": 2,
       "version_minor": 0
      },
      "text/plain": [
       "Tile[5792:8688,8688:10980]:   0%|          | 0.00/8.63M [00:00<?, ?b/s]"
      ]
     },
     "metadata": {},
     "output_type": "display_data"
    },
    {
     "data": {
      "application/vnd.jupyter.widget-view+json": {
       "model_id": "0316962fcfb54144b0d4d073064d8794",
       "version_major": 2,
       "version_minor": 0
      },
      "text/plain": [
       "Tile[8688:10980,0:2896]:   0%|          | 0.00/8.63M [00:00<?, ?b/s]"
      ]
     },
     "metadata": {},
     "output_type": "display_data"
    },
    {
     "data": {
      "application/vnd.jupyter.widget-view+json": {
       "model_id": "259462778c3d42f0bec8310082a89268",
       "version_major": 2,
       "version_minor": 0
      },
      "text/plain": [
       "Tile[8688:10980,2896:5792]:   0%|          | 0.00/8.63M [00:00<?, ?b/s]"
      ]
     },
     "metadata": {},
     "output_type": "display_data"
    },
    {
     "data": {
      "application/vnd.jupyter.widget-view+json": {
       "model_id": "797bc3eb546d4e7c8fb542a16586ba64",
       "version_major": 2,
       "version_minor": 0
      },
      "text/plain": [
       "Tile[8688:10980,8688:10980]:   0%|          | 0.00/6.83M [00:00<?, ?b/s]"
      ]
     },
     "metadata": {},
     "output_type": "display_data"
    },
    {
     "data": {
      "application/vnd.jupyter.widget-view+json": {
       "model_id": "eed9c83fbf7b401eba1d9b71d2080a5d",
       "version_major": 2,
       "version_minor": 0
      },
      "text/plain": [
       "Tile[8688:10980,5792:8688]:   0%|          | 0.00/8.63M [00:00<?, ?b/s]"
      ]
     },
     "metadata": {},
     "output_type": "display_data"
    },
    {
     "name": "stdout",
     "output_type": "stream",
     "text": [
      "Unexpected exception formatting exception. Falling back to standard exception\n"
     ]
    },
    {
     "name": "stderr",
     "output_type": "stream",
     "text": [
      "Traceback (most recent call last):\n",
      "  File \"rasterio\\_io.pyx\", line 701, in rasterio._io.DatasetReaderBase._read\n",
      "  File \"rasterio\\shim_rasterioex.pxi\", line 162, in rasterio._shim.io_multi_band\n",
      "  File \"rasterio\\_err.pyx\", line 193, in rasterio._err.exc_wrap_int\n",
      "rasterio._err.CPLE_AppDefinedError: /vsimem/f6cf55cb-2618-41a3-a054-318784b6d071/f6cf55cb-2618-41a3-a054-318784b6d071.tif, band 1: IReadBlock failed at X offset 0, Y offset 0: TIFFReadEncodedTile() failed.\n",
      "\n",
      "During handling of the above exception, another exception occurred:\n",
      "\n",
      "Traceback (most recent call last):\n",
      "  File \"c:\\Users\\Erick\\anaconda3\\envs\\rs_leaks_env\\lib\\site-packages\\IPython\\core\\interactiveshell.py\", line 3460, in run_code\n",
      "    exec(code_obj, self.user_global_ns, self.user_ns)\n",
      "  File \"C:\\Users\\Erick\\AppData\\Local\\Temp\\ipykernel_3656\\2843627139.py\", line 4, in <module>\n",
      "    downloader.download(img = cld, band = \"probability\")\n",
      "  File \"c:\\Users\\Erick\\anaconda3\\envs\\rs_leaks_env\\lib\\site-packages\\geeS2downloader\\gee.py\", line 217, in download\n",
      "    self.array = self._download_band()\n",
      "  File \"c:\\Users\\Erick\\anaconda3\\envs\\rs_leaks_env\\lib\\site-packages\\geeS2downloader\\gee.py\", line 201, in _download_band\n",
      "    img_array[tile.slices] = worker.result()\n",
      "  File \"c:\\Users\\Erick\\anaconda3\\envs\\rs_leaks_env\\lib\\concurrent\\futures\\_base.py\", line 439, in result\n",
      "    return self.__get_result()\n",
      "  File \"c:\\Users\\Erick\\anaconda3\\envs\\rs_leaks_env\\lib\\concurrent\\futures\\_base.py\", line 391, in __get_result\n",
      "    raise self._exception\n",
      "  File \"c:\\Users\\Erick\\anaconda3\\envs\\rs_leaks_env\\lib\\concurrent\\futures\\thread.py\", line 58, in run\n",
      "    result = self.fn(*self.args, **self.kwargs)\n",
      "  File \"c:\\Users\\Erick\\anaconda3\\envs\\rs_leaks_env\\lib\\site-packages\\geeS2downloader\\gee.py\", line 64, in download\n",
      "    ds = open_url_dataset(url, session, pbar)\n",
      "  File \"c:\\Users\\Erick\\anaconda3\\envs\\rs_leaks_env\\lib\\site-packages\\geeS2downloader\\common.py\", line 55, in open_url_dataset\n",
      "    ds.read()\n",
      "  File \"rasterio\\_io.pyx\", line 367, in rasterio._io.DatasetReaderBase.read\n",
      "  File \"rasterio\\_io.pyx\", line 704, in rasterio._io.DatasetReaderBase._read\n",
      "rasterio.errors.RasterioIOError: Read or write failed. /vsimem/f6cf55cb-2618-41a3-a054-318784b6d071/f6cf55cb-2618-41a3-a054-318784b6d071.tif, band 1: IReadBlock failed at X offset 0, Y offset 0: TIFFReadEncodedTile() failed.\n",
      "\n",
      "During handling of the above exception, another exception occurred:\n",
      "\n",
      "Traceback (most recent call last):\n",
      "  File \"c:\\Users\\Erick\\anaconda3\\envs\\rs_leaks_env\\lib\\site-packages\\IPython\\core\\interactiveshell.py\", line 2057, in showtraceback\n",
      "    stb = self.InteractiveTB.structured_traceback(\n",
      "  File \"c:\\Users\\Erick\\anaconda3\\envs\\rs_leaks_env\\lib\\site-packages\\IPython\\core\\ultratb.py\", line 1288, in structured_traceback\n",
      "    return FormattedTB.structured_traceback(\n",
      "  File \"c:\\Users\\Erick\\anaconda3\\envs\\rs_leaks_env\\lib\\site-packages\\IPython\\core\\ultratb.py\", line 1177, in structured_traceback\n",
      "    return VerboseTB.structured_traceback(\n",
      "  File \"c:\\Users\\Erick\\anaconda3\\envs\\rs_leaks_env\\lib\\site-packages\\IPython\\core\\ultratb.py\", line 1049, in structured_traceback\n",
      "    formatted_exceptions += self.format_exception_as_a_whole(etype, evalue, etb, lines_of_context,\n",
      "  File \"c:\\Users\\Erick\\anaconda3\\envs\\rs_leaks_env\\lib\\site-packages\\IPython\\core\\ultratb.py\", line 935, in format_exception_as_a_whole\n",
      "    self.get_records(etb, number_of_lines_of_context, tb_offset) if etb else []\n",
      "  File \"c:\\Users\\Erick\\anaconda3\\envs\\rs_leaks_env\\lib\\site-packages\\IPython\\core\\ultratb.py\", line 1003, in get_records\n",
      "    lines, first = inspect.getsourcelines(etb.tb_frame)\n",
      "  File \"c:\\Users\\Erick\\anaconda3\\envs\\rs_leaks_env\\lib\\inspect.py\", line 1006, in getsourcelines\n",
      "    lines, lnum = findsource(object)\n",
      "  File \"c:\\Users\\Erick\\anaconda3\\envs\\rs_leaks_env\\lib\\inspect.py\", line 835, in findsource\n",
      "    raise OSError('could not get source code')\n",
      "OSError: could not get source code\n"
     ]
    }
   ],
   "source": [
    "# Export with GEE2Downloader\n",
    "downloader = GEES2Downloader()\n",
    "\n",
    "downloader.download(img = cld, band = \"probability\")"
   ]
  },
  {
   "cell_type": "code",
   "execution_count": 18,
   "metadata": {},
   "outputs": [
    {
     "name": "stdout",
     "output_type": "stream",
     "text": [
      "None\n"
     ]
    }
   ],
   "source": [
    "print(downloader.array)"
   ]
  }
 ],
 "metadata": {
  "kernelspec": {
   "display_name": "rs_leaks_env",
   "language": "python",
   "name": "python3"
  },
  "language_info": {
   "codemirror_mode": {
    "name": "ipython",
    "version": 3
   },
   "file_extension": ".py",
   "mimetype": "text/x-python",
   "name": "python",
   "nbconvert_exporter": "python",
   "pygments_lexer": "ipython3",
   "version": "3.9.16"
  },
  "orig_nbformat": 4
 },
 "nbformat": 4,
 "nbformat_minor": 2
}
