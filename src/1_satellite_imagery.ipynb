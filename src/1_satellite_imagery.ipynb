{
 "cells": [
  {
   "cell_type": "code",
   "execution_count": 3,
   "metadata": {},
   "outputs": [],
   "source": [
    "import numpy as np\n",
    "import pandas as pd\n",
    "import geopandas as gpd\n",
    "import polars as pl\n",
    "import matplotlib.pyplot as plt\n",
    "import ee\n",
    "# import zipfile\n",
    "# import os\n",
    "# import request\n",
    "import rasterio\n",
    "import geeS2downloader\n",
    "from IPython.display import Image"
   ]
  },
  {
   "cell_type": "code",
   "execution_count": 4,
   "metadata": {},
   "outputs": [],
   "source": [
    "# Initialize GEE API\n",
    "ee.Initialize()"
   ]
  },
  {
   "cell_type": "code",
   "execution_count": 5,
   "metadata": {},
   "outputs": [],
   "source": [
    "# Parameters for collection\n",
    "\n",
    "# Point of interest (Center of Aguascalientes City) EPGS: \n",
    "lat = 21.8833333\n",
    "lon = -102.3\n",
    "\n",
    "# Punto de interes\n",
    "poi = ee.Geometry.Point(lon, lat)# 10 km buffer \n",
    "aoi = ee.Geometry.LinearRing([[-102.35, 21.9], \n",
    "                              [-102.23, 21.9], \n",
    "                              [-102.23, 21.8], \n",
    "                              [-102.35, 21.8]])\n",
    "\n",
    "# Periodo de tiempo\n",
    "start_date = \"2022-12-10\"\n",
    "end_date = \"2022-12-15\""
   ]
  },
  {
   "cell_type": "code",
   "execution_count": 6,
   "metadata": {},
   "outputs": [
    {
     "name": "stdout",
     "output_type": "stream",
     "text": [
      "Total images: 2\n"
     ]
    }
   ],
   "source": [
    "# Image collection\n",
    "ags_collection = ee.ImageCollection(\"COPERNICUS/S2_SR_HARMONIZED\")\\\n",
    "                          .filterBounds(poi)\\\n",
    "                          .filterDate(ee.Date(start_date), ee.Date(end_date))\n",
    "print(\"Total images:\", ags_collection.size().getInfo())\n",
    "\n",
    "# Add latitude and longitude to the collection\n",
    "# ags_collection = ags_collection.addBands(ee.Image.pixelLonLat())\n",
    "ags_list = ags_collection.toList(ags_collection.size())"
   ]
  },
  {
   "cell_type": "code",
   "execution_count": 22,
   "metadata": {},
   "outputs": [
    {
     "data": {
      "text/html": [
       "<img src=\"https://earthengine.googleapis.com/v1alpha/projects/earthengine-legacy/thumbnails/a1c2edea4b1147cb0af6f13cb1a9e9fe-24a49c8cba0dff34d9470168cf58e1a8:getPixels\"/>"
      ],
      "text/plain": [
       "<IPython.core.display.Image object>"
      ]
     },
     "metadata": {},
     "output_type": "display_data"
    }
   ],
   "source": [
    "display(Image(url = ee.Image(ags_list.get(0)).clip(poi.buffer(buff_size).bounds(proj = \"EPSG:32613\", maxError = 0.1)).getThumbURL({\"min\": 0,\n",
    "                                                \"max\": 3000,\n",
    "                                                \"dimensions\": 800,\n",
    "                                                \"bands\": [\"B4\", \"B3\", \"B2\"]})))\n"
   ]
  },
  {
   "cell_type": "code",
   "execution_count": 34,
   "metadata": {},
   "outputs": [],
   "source": [
    "# Define bands and buffer\n",
    "bands = [\"B4\", \"B3\", \"B2\"]\n",
    "buff_size = 1000"
   ]
  },
  {
   "cell_type": "code",
   "execution_count": 37,
   "metadata": {},
   "outputs": [],
   "source": [
    "# Save first image and clip with a rectangle buffer\n",
    "img0 = ee.Image(ags_list.get(0)) # Raw image\n",
    "# img0 = img0.addBands(ee.Image.pixelLonLat())\n",
    "img0 = img0.select(bands) # Select bands\n",
    "img0 = img0.clip(poi.buffer(buff_size).bounds(proj = \"EPSG:32613\", maxError = 0.1)) # Rectangle buffer"
   ]
  },
  {
   "cell_type": "code",
   "execution_count": 39,
   "metadata": {},
   "outputs": [
    {
     "name": "stdout",
     "output_type": "stream",
     "text": [
      "https://earthengine.googleapis.com/v1alpha/projects/earthengine-legacy/thumbnails/680bfa8072c7ecb2806faf62aa4b6359-5edab17fa6a96f6400750f302accc532:getPixels\n"
     ]
    }
   ],
   "source": [
    "# Download link\n",
    "link = img0.getDownloadURL(\n",
    "    {\n",
    "    \"scale\": 10,\n",
    "    \"crs\": \"EPSG:32613\",\n",
    "    \"fileFormat\": \"GeoTIFF\",\n",
    "    \"maxPixels\": 1e13\n",
    "    }\n",
    ")\n",
    "\n",
    "print(link)"
   ]
  },
  {
   "cell_type": "markdown",
   "metadata": {},
   "source": [
    "## Download GeoTIFFs"
   ]
  },
  {
   "cell_type": "code",
   "execution_count": 40,
   "metadata": {},
   "outputs": [],
   "source": [
    "# Bands to download\n",
    "bands = [\"B4\", \"B3\", \"B2\", \"B1\", \"B5\", \"B6\", \"B7\", \"B8\", \"B8A\", \"B9\", \"B11\", \"B12\", \"WVP\"]"
   ]
  },
  {
   "cell_type": "code",
   "execution_count": 10,
   "metadata": {},
   "outputs": [
    {
     "data": {
      "application/vnd.jupyter.widget-view+json": {
       "model_id": "50411cef491545b5860c056d05273024",
       "version_major": 2,
       "version_minor": 0
      },
      "text/plain": [
       "Map(center=[23, -102.4], controls=(WidgetControl(options=['position', 'transparent_bg'], widget=HBox(children=…"
      ]
     },
     "metadata": {},
     "output_type": "display_data"
    }
   ],
   "source": [
    "import geemap\n",
    "import ee\n",
    "from geeS2downloader import GEES2Downloader\n",
    "\n",
    "# If it is not yet authenticated, uncomment the line below\n",
    "# ee.Authenticate()\n",
    "\n",
    "ee.Initialize()\n",
    "\n",
    "img = ags_collection\n",
    "\n",
    "Map = geemap.Map(center=(23, -102.4), zoom=9)\n",
    "Map.addLayer(img, {'min': 0, 'max': 3000, 'bands': ['B4', 'B3', \"B2\"], \"region\": poi.buffer(10000)}, 'Cloud Probability', True, 1)\n",
    "Map"
   ]
  },
  {
   "cell_type": "code",
   "execution_count": 15,
   "metadata": {},
   "outputs": [
    {
     "name": "stdout",
     "output_type": "stream",
     "text": [
      "Generating URL ...\n",
      "An error occurred while downloading.\n",
      "Total request size (241208648 bytes) must be less than or equal to 50331648 bytes.\n"
     ]
    }
   ],
   "source": [
    "# Export with geemap\n",
    "geemap.ee_export_image(cld, \"../data/images/clouds.tif\", scale=10)"
   ]
  },
  {
   "cell_type": "code",
   "execution_count": 6,
   "metadata": {},
   "outputs": [
    {
     "name": "stdout",
     "output_type": "stream",
     "text": [
      "Retrieving band info\n",
      "Dividing band in 16 tiles\n"
     ]
    },
    {
     "data": {
      "application/vnd.jupyter.widget-view+json": {
       "model_id": "4334a7f36d1b465fa448830bd852ab55",
       "version_major": 2,
       "version_minor": 0
      },
      "text/plain": [
       "Tiles:   0%|          | 0/16 [00:00<?, ?tile/s]"
      ]
     },
     "metadata": {},
     "output_type": "display_data"
    },
    {
     "data": {
      "application/vnd.jupyter.widget-view+json": {
       "model_id": "b53c3f1e7bf04df6bd5e257bc7e0a81e",
       "version_major": 2,
       "version_minor": 0
      },
      "text/plain": [
       "Tile[0:2896,8688:10980]:   0%|          | 0.00/8.63M [00:00<?, ?b/s]"
      ]
     },
     "metadata": {},
     "output_type": "display_data"
    },
    {
     "data": {
      "application/vnd.jupyter.widget-view+json": {
       "model_id": "9ea1a63ba24240f6b3084276807beac2",
       "version_major": 2,
       "version_minor": 0
      },
      "text/plain": [
       "Tile[0:2896,2896:5792]:   0%|          | 0.00/10.9M [00:00<?, ?b/s]"
      ]
     },
     "metadata": {},
     "output_type": "display_data"
    },
    {
     "data": {
      "application/vnd.jupyter.widget-view+json": {
       "model_id": "1b0c48a79e834b1f89fdcf252662aaa0",
       "version_major": 2,
       "version_minor": 0
      },
      "text/plain": [
       "Tile[0:2896,5792:8688]:   0%|          | 0.00/10.9M [00:00<?, ?b/s]"
      ]
     },
     "metadata": {},
     "output_type": "display_data"
    },
    {
     "data": {
      "application/vnd.jupyter.widget-view+json": {
       "model_id": "31b42f2440f848579afd4f3a29488403",
       "version_major": 2,
       "version_minor": 0
      },
      "text/plain": [
       "Tile[0:2896,0:2896]:   0%|          | 0.00/10.9M [00:00<?, ?b/s]"
      ]
     },
     "metadata": {},
     "output_type": "display_data"
    },
    {
     "data": {
      "application/vnd.jupyter.widget-view+json": {
       "model_id": "d3bbe3afa27e4593ae742f5db87b9d89",
       "version_major": 2,
       "version_minor": 0
      },
      "text/plain": [
       "Tile[2896:5792,0:2896]:   0%|          | 0.00/10.9M [00:00<?, ?b/s]"
      ]
     },
     "metadata": {},
     "output_type": "display_data"
    },
    {
     "data": {
      "application/vnd.jupyter.widget-view+json": {
       "model_id": "57654d52172842659b507edb7421b006",
       "version_major": 2,
       "version_minor": 0
      },
      "text/plain": [
       "Tile[2896:5792,2896:5792]:   0%|          | 0.00/10.9M [00:00<?, ?b/s]"
      ]
     },
     "metadata": {},
     "output_type": "display_data"
    },
    {
     "data": {
      "application/vnd.jupyter.widget-view+json": {
       "model_id": "079450404a314edc8c538103650cbc96",
       "version_major": 2,
       "version_minor": 0
      },
      "text/plain": [
       "Tile[2896:5792,5792:8688]:   0%|          | 0.00/10.9M [00:00<?, ?b/s]"
      ]
     },
     "metadata": {},
     "output_type": "display_data"
    },
    {
     "data": {
      "application/vnd.jupyter.widget-view+json": {
       "model_id": "67a7f6d3d00f499ca7602aa368776100",
       "version_major": 2,
       "version_minor": 0
      },
      "text/plain": [
       "Tile[2896:5792,8688:10980]:   0%|          | 0.00/8.63M [00:00<?, ?b/s]"
      ]
     },
     "metadata": {},
     "output_type": "display_data"
    },
    {
     "data": {
      "application/vnd.jupyter.widget-view+json": {
       "model_id": "3bbd59fb65ff427a8710773ed3ff1fc3",
       "version_major": 2,
       "version_minor": 0
      },
      "text/plain": [
       "Tile[5792:8688,0:2896]:   0%|          | 0.00/10.9M [00:00<?, ?b/s]"
      ]
     },
     "metadata": {},
     "output_type": "display_data"
    },
    {
     "data": {
      "application/vnd.jupyter.widget-view+json": {
       "model_id": "4a761a46b84645d394970e3a00379447",
       "version_major": 2,
       "version_minor": 0
      },
      "text/plain": [
       "Tile[5792:8688,2896:5792]:   0%|          | 0.00/10.9M [00:00<?, ?b/s]"
      ]
     },
     "metadata": {},
     "output_type": "display_data"
    },
    {
     "data": {
      "application/vnd.jupyter.widget-view+json": {
       "model_id": "5a05f713d9544c75b3869e7e1a337fee",
       "version_major": 2,
       "version_minor": 0
      },
      "text/plain": [
       "Tile[5792:8688,5792:8688]:   0%|          | 0.00/10.9M [00:00<?, ?b/s]"
      ]
     },
     "metadata": {},
     "output_type": "display_data"
    },
    {
     "data": {
      "application/vnd.jupyter.widget-view+json": {
       "model_id": "50ec95a6cb29495ca0999a4edbf1efdb",
       "version_major": 2,
       "version_minor": 0
      },
      "text/plain": [
       "Tile[5792:8688,8688:10980]:   0%|          | 0.00/8.63M [00:00<?, ?b/s]"
      ]
     },
     "metadata": {},
     "output_type": "display_data"
    },
    {
     "data": {
      "application/vnd.jupyter.widget-view+json": {
       "model_id": "0316962fcfb54144b0d4d073064d8794",
       "version_major": 2,
       "version_minor": 0
      },
      "text/plain": [
       "Tile[8688:10980,0:2896]:   0%|          | 0.00/8.63M [00:00<?, ?b/s]"
      ]
     },
     "metadata": {},
     "output_type": "display_data"
    },
    {
     "data": {
      "application/vnd.jupyter.widget-view+json": {
       "model_id": "259462778c3d42f0bec8310082a89268",
       "version_major": 2,
       "version_minor": 0
      },
      "text/plain": [
       "Tile[8688:10980,2896:5792]:   0%|          | 0.00/8.63M [00:00<?, ?b/s]"
      ]
     },
     "metadata": {},
     "output_type": "display_data"
    },
    {
     "data": {
      "application/vnd.jupyter.widget-view+json": {
       "model_id": "797bc3eb546d4e7c8fb542a16586ba64",
       "version_major": 2,
       "version_minor": 0
      },
      "text/plain": [
       "Tile[8688:10980,8688:10980]:   0%|          | 0.00/6.83M [00:00<?, ?b/s]"
      ]
     },
     "metadata": {},
     "output_type": "display_data"
    },
    {
     "data": {
      "application/vnd.jupyter.widget-view+json": {
       "model_id": "eed9c83fbf7b401eba1d9b71d2080a5d",
       "version_major": 2,
       "version_minor": 0
      },
      "text/plain": [
       "Tile[8688:10980,5792:8688]:   0%|          | 0.00/8.63M [00:00<?, ?b/s]"
      ]
     },
     "metadata": {},
     "output_type": "display_data"
    },
    {
     "name": "stdout",
     "output_type": "stream",
     "text": [
      "Unexpected exception formatting exception. Falling back to standard exception\n"
     ]
    },
    {
     "name": "stderr",
     "output_type": "stream",
     "text": [
      "Traceback (most recent call last):\n",
      "  File \"rasterio\\_io.pyx\", line 701, in rasterio._io.DatasetReaderBase._read\n",
      "  File \"rasterio\\shim_rasterioex.pxi\", line 162, in rasterio._shim.io_multi_band\n",
      "  File \"rasterio\\_err.pyx\", line 193, in rasterio._err.exc_wrap_int\n",
      "rasterio._err.CPLE_AppDefinedError: /vsimem/f6cf55cb-2618-41a3-a054-318784b6d071/f6cf55cb-2618-41a3-a054-318784b6d071.tif, band 1: IReadBlock failed at X offset 0, Y offset 0: TIFFReadEncodedTile() failed.\n",
      "\n",
      "During handling of the above exception, another exception occurred:\n",
      "\n",
      "Traceback (most recent call last):\n",
      "  File \"c:\\Users\\Erick\\anaconda3\\envs\\rs_leaks_env\\lib\\site-packages\\IPython\\core\\interactiveshell.py\", line 3460, in run_code\n",
      "    exec(code_obj, self.user_global_ns, self.user_ns)\n",
      "  File \"C:\\Users\\Erick\\AppData\\Local\\Temp\\ipykernel_3656\\2843627139.py\", line 4, in <module>\n",
      "    downloader.download(img = cld, band = \"probability\")\n",
      "  File \"c:\\Users\\Erick\\anaconda3\\envs\\rs_leaks_env\\lib\\site-packages\\geeS2downloader\\gee.py\", line 217, in download\n",
      "    self.array = self._download_band()\n",
      "  File \"c:\\Users\\Erick\\anaconda3\\envs\\rs_leaks_env\\lib\\site-packages\\geeS2downloader\\gee.py\", line 201, in _download_band\n",
      "    img_array[tile.slices] = worker.result()\n",
      "  File \"c:\\Users\\Erick\\anaconda3\\envs\\rs_leaks_env\\lib\\concurrent\\futures\\_base.py\", line 439, in result\n",
      "    return self.__get_result()\n",
      "  File \"c:\\Users\\Erick\\anaconda3\\envs\\rs_leaks_env\\lib\\concurrent\\futures\\_base.py\", line 391, in __get_result\n",
      "    raise self._exception\n",
      "  File \"c:\\Users\\Erick\\anaconda3\\envs\\rs_leaks_env\\lib\\concurrent\\futures\\thread.py\", line 58, in run\n",
      "    result = self.fn(*self.args, **self.kwargs)\n",
      "  File \"c:\\Users\\Erick\\anaconda3\\envs\\rs_leaks_env\\lib\\site-packages\\geeS2downloader\\gee.py\", line 64, in download\n",
      "    ds = open_url_dataset(url, session, pbar)\n",
      "  File \"c:\\Users\\Erick\\anaconda3\\envs\\rs_leaks_env\\lib\\site-packages\\geeS2downloader\\common.py\", line 55, in open_url_dataset\n",
      "    ds.read()\n",
      "  File \"rasterio\\_io.pyx\", line 367, in rasterio._io.DatasetReaderBase.read\n",
      "  File \"rasterio\\_io.pyx\", line 704, in rasterio._io.DatasetReaderBase._read\n",
      "rasterio.errors.RasterioIOError: Read or write failed. /vsimem/f6cf55cb-2618-41a3-a054-318784b6d071/f6cf55cb-2618-41a3-a054-318784b6d071.tif, band 1: IReadBlock failed at X offset 0, Y offset 0: TIFFReadEncodedTile() failed.\n",
      "\n",
      "During handling of the above exception, another exception occurred:\n",
      "\n",
      "Traceback (most recent call last):\n",
      "  File \"c:\\Users\\Erick\\anaconda3\\envs\\rs_leaks_env\\lib\\site-packages\\IPython\\core\\interactiveshell.py\", line 2057, in showtraceback\n",
      "    stb = self.InteractiveTB.structured_traceback(\n",
      "  File \"c:\\Users\\Erick\\anaconda3\\envs\\rs_leaks_env\\lib\\site-packages\\IPython\\core\\ultratb.py\", line 1288, in structured_traceback\n",
      "    return FormattedTB.structured_traceback(\n",
      "  File \"c:\\Users\\Erick\\anaconda3\\envs\\rs_leaks_env\\lib\\site-packages\\IPython\\core\\ultratb.py\", line 1177, in structured_traceback\n",
      "    return VerboseTB.structured_traceback(\n",
      "  File \"c:\\Users\\Erick\\anaconda3\\envs\\rs_leaks_env\\lib\\site-packages\\IPython\\core\\ultratb.py\", line 1049, in structured_traceback\n",
      "    formatted_exceptions += self.format_exception_as_a_whole(etype, evalue, etb, lines_of_context,\n",
      "  File \"c:\\Users\\Erick\\anaconda3\\envs\\rs_leaks_env\\lib\\site-packages\\IPython\\core\\ultratb.py\", line 935, in format_exception_as_a_whole\n",
      "    self.get_records(etb, number_of_lines_of_context, tb_offset) if etb else []\n",
      "  File \"c:\\Users\\Erick\\anaconda3\\envs\\rs_leaks_env\\lib\\site-packages\\IPython\\core\\ultratb.py\", line 1003, in get_records\n",
      "    lines, first = inspect.getsourcelines(etb.tb_frame)\n",
      "  File \"c:\\Users\\Erick\\anaconda3\\envs\\rs_leaks_env\\lib\\inspect.py\", line 1006, in getsourcelines\n",
      "    lines, lnum = findsource(object)\n",
      "  File \"c:\\Users\\Erick\\anaconda3\\envs\\rs_leaks_env\\lib\\inspect.py\", line 835, in findsource\n",
      "    raise OSError('could not get source code')\n",
      "OSError: could not get source code\n"
     ]
    }
   ],
   "source": [
    "# Export with GEE2Downloader\n",
    "downloader = GEES2Downloader()\n",
    "\n",
    "downloader.download(img = cld, band = \"probability\")"
   ]
  },
  {
   "cell_type": "code",
   "execution_count": 18,
   "metadata": {},
   "outputs": [
    {
     "name": "stdout",
     "output_type": "stream",
     "text": [
      "None\n"
     ]
    }
   ],
   "source": [
    "print(downloader.array)"
   ]
  }
 ],
 "metadata": {
  "kernelspec": {
   "display_name": "rs_leaks_env",
   "language": "python",
   "name": "python3"
  },
  "language_info": {
   "codemirror_mode": {
    "name": "ipython",
    "version": 3
   },
   "file_extension": ".py",
   "mimetype": "text/x-python",
   "name": "python",
   "nbconvert_exporter": "python",
   "pygments_lexer": "ipython3",
   "version": "3.9.16"
  },
  "orig_nbformat": 4
 },
 "nbformat": 4,
 "nbformat_minor": 2
}
