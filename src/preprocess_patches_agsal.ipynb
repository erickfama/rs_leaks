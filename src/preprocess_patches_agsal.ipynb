{
 "cells": [
  {
   "attachments": {},
   "cell_type": "markdown",
   "metadata": {},
   "source": [
    "# Patch preprocessing"
   ]
  },
  {
   "attachments": {},
   "cell_type": "markdown",
   "metadata": {},
   "source": [
    "This notebook contains the code to preprocess every patch file. The steps are the following:\n",
    "1. Unzip all the tiff files for every patch (one per band).\n",
    "2. Stack all bands together in order to create a unique image.\n",
    "3. Write the stacked tiff images in the folder patches_clean."
   ]
  },
  {
   "cell_type": "code",
   "execution_count": 1,
   "metadata": {},
   "outputs": [],
   "source": [
    "import os\n",
    "import zipfile\n",
    "from glob import glob\n",
    "import rasterio as rio\n",
    "import numpy as np\n",
    "import re\n",
    "import tifffile\n",
    "from skimage.io import imread"
   ]
  },
  {
   "cell_type": "markdown",
   "metadata": {},
   "source": [
    "## Variables"
   ]
  },
  {
   "cell_type": "code",
   "execution_count": 2,
   "metadata": {},
   "outputs": [],
   "source": [
    "leak_path = \"../data/patches_raw_agsal/leak/FL\"\n",
    "nonleak_path = \"../data/patches_raw_agsal/nonleak/FL\""
   ]
  },
  {
   "attachments": {},
   "cell_type": "markdown",
   "metadata": {},
   "source": [
    "## Unzip files"
   ]
  },
  {
   "cell_type": "code",
   "execution_count": 4,
   "metadata": {},
   "outputs": [],
   "source": [
    "# Get names of all the zips\n",
    "zips_dirs = os.listdir(leak_path)\n",
    "\n",
    "# Remove .zip extension from the name\n",
    "patch_dir_names = [re.search(\"S2_i\\d+d_[A-Z]+_\\d+-\\d+-\\d+_\\d+\", name).group() for name in zips_dirs]\n",
    "\n",
    "parent_dir = leak_path\n",
    "\n",
    "for dir, patch_dir in zip(zips_dirs, patch_dir_names):\n",
    "    path_zip = os.path.join(parent_dir, dir)\n",
    "    if zipfile.is_zipfile(path_zip):\n",
    "        with zipfile.ZipFile(path_zip) as item:\n",
    "            item.extractall(os.path.join(parent_dir, patch_dir))"
   ]
  },
  {
   "cell_type": "code",
   "execution_count": 17,
   "metadata": {},
   "outputs": [],
   "source": [
    "# Get names of all the zips\n",
    "zips_dirs = os.listdir(nonleak_path)\n",
    "\n",
    "# Remove .zip extension from the name\n",
    "patch_dir_names = [re.search(\"S2_i\\d+d_[A-Z]+_\\d+-\\d+-\\d+_\\d+\", name).group() for name in zips_dirs]\n",
    "\n",
    "parent_dir = nonleak_path\n",
    "\n",
    "for dir, patch_dir in zip(zips_dirs, patch_dir_names):\n",
    "    path_zip = os.path.join(parent_dir, dir)\n",
    "    if zipfile.is_zipfile(path_zip):\n",
    "        with zipfile.ZipFile(path_zip) as item:\n",
    "            item.extractall(os.path.join(parent_dir, patch_dir))"
   ]
  },
  {
   "attachments": {},
   "cell_type": "markdown",
   "metadata": {},
   "source": [
    "## Stack bands"
   ]
  },
  {
   "cell_type": "code",
   "execution_count": 6,
   "metadata": {},
   "outputs": [
    {
     "data": {
      "text/plain": [
       "['../data/patches_raw_agsal/leak/FL/S2_i1020063d_FL_26-07-2022_0\\\\20220713T170901_20220713T172008_T14RKP.B1.tif',\n",
       " '../data/patches_raw_agsal/leak/FL/S2_i1020063d_FL_26-07-2022_0\\\\20220713T170901_20220713T172008_T14RKP.B2.tif',\n",
       " '../data/patches_raw_agsal/leak/FL/S2_i1020063d_FL_26-07-2022_0\\\\20220713T170901_20220713T172008_T14RKP.B3.tif',\n",
       " '../data/patches_raw_agsal/leak/FL/S2_i1020063d_FL_26-07-2022_0\\\\20220713T170901_20220713T172008_T14RKP.B4.tif',\n",
       " '../data/patches_raw_agsal/leak/FL/S2_i1020063d_FL_26-07-2022_0\\\\20220713T170901_20220713T172008_T14RKP.B5.tif',\n",
       " '../data/patches_raw_agsal/leak/FL/S2_i1020063d_FL_26-07-2022_0\\\\20220713T170901_20220713T172008_T14RKP.B6.tif',\n",
       " '../data/patches_raw_agsal/leak/FL/S2_i1020063d_FL_26-07-2022_0\\\\20220713T170901_20220713T172008_T14RKP.B7.tif',\n",
       " '../data/patches_raw_agsal/leak/FL/S2_i1020063d_FL_26-07-2022_0\\\\20220713T170901_20220713T172008_T14RKP.B8.tif',\n",
       " '../data/patches_raw_agsal/leak/FL/S2_i1020063d_FL_26-07-2022_0\\\\20220713T170901_20220713T172008_T14RKP.B8A.tif',\n",
       " '../data/patches_raw_agsal/leak/FL/S2_i1020063d_FL_26-07-2022_0\\\\20220713T170901_20220713T172008_T14RKP.B9.tif',\n",
       " '../data/patches_raw_agsal/leak/FL/S2_i1020063d_FL_26-07-2022_0\\\\20220713T170901_20220713T172008_T14RKP.B11.tif',\n",
       " '../data/patches_raw_agsal/leak/FL/S2_i1020063d_FL_26-07-2022_0\\\\20220713T170901_20220713T172008_T14RKP.B12.tif',\n",
       " '../data/patches_raw_agsal/leak/FL/S2_i1020063d_FL_26-07-2022_0\\\\20220713T170901_20220713T172008_T14RKP.WVP.tif',\n",
       " '../data/patches_raw_agsal/leak/FL/S2_i1020063d_FL_26-07-2022_0\\\\20220713T170901_20220713T172008_T14RKP.LST_10m.tif']"
      ]
     },
     "execution_count": 6,
     "metadata": {},
     "output_type": "execute_result"
    }
   ],
   "source": [
    "patches_bands = glob(f\"{parent_dir}/S2_i1020063d_FL_26-07-2022_0/*B*.tif\")\n",
    "\n",
    "def my_digit_sort(my_list):\n",
    "   return list(map(int, re.findall(r'(?<=.B)\\d+(?=A?.tif)', my_list)))[0]\n",
    "\n",
    "patches_bands.sort(key = my_digit_sort)\n",
    "patches_bands.append(glob(f\"{parent_dir}/S2_i1020063d_FL_26-07-2022_0/*WVP*.tif\")[0])\n",
    "patches_bands.append(glob(f\"{parent_dir}/S2_i1020063d_FL_26-07-2022_0/*LST*.tif\")[0])\n",
    "patches_bands"
   ]
  },
  {
   "cell_type": "code",
   "execution_count": 7,
   "metadata": {},
   "outputs": [
    {
     "name": "stdout",
     "output_type": "stream",
     "text": [
      "{'driver': 'GTiff', 'dtype': 'uint16', 'nodata': 0.0, 'width': 21, 'height': 21, 'count': 1, 'crs': CRS.from_epsg(32613), 'transform': Affine(10.0, 0.0, 904520.0,\n",
      "       0.0, -10.0, 2813300.0), 'blockxsize': 256, 'blockysize': 256, 'tiled': True, 'compress': 'deflate', 'interleave': 'band'}\n",
      "{'driver': 'GTiff', 'dtype': 'uint16', 'nodata': 0.0, 'width': 21, 'height': 21, 'count': 1, 'crs': CRS.from_epsg(32613), 'transform': Affine(10.0, 0.0, 904520.0,\n",
      "       0.0, -10.0, 2813300.0), 'blockxsize': 256, 'blockysize': 256, 'tiled': True, 'compress': 'deflate', 'interleave': 'band'}\n",
      "{'driver': 'GTiff', 'dtype': 'uint16', 'nodata': 0.0, 'width': 21, 'height': 21, 'count': 1, 'crs': CRS.from_epsg(32613), 'transform': Affine(10.0, 0.0, 904520.0,\n",
      "       0.0, -10.0, 2813300.0), 'blockxsize': 256, 'blockysize': 256, 'tiled': True, 'compress': 'deflate', 'interleave': 'band'}\n",
      "{'driver': 'GTiff', 'dtype': 'uint16', 'nodata': 0.0, 'width': 21, 'height': 21, 'count': 1, 'crs': CRS.from_epsg(32613), 'transform': Affine(10.0, 0.0, 904520.0,\n",
      "       0.0, -10.0, 2813300.0), 'blockxsize': 256, 'blockysize': 256, 'tiled': True, 'compress': 'deflate', 'interleave': 'band'}\n",
      "{'driver': 'GTiff', 'dtype': 'uint16', 'nodata': 0.0, 'width': 21, 'height': 21, 'count': 1, 'crs': CRS.from_epsg(32613), 'transform': Affine(10.0, 0.0, 904520.0,\n",
      "       0.0, -10.0, 2813300.0), 'blockxsize': 256, 'blockysize': 256, 'tiled': True, 'compress': 'deflate', 'interleave': 'band'}\n",
      "{'driver': 'GTiff', 'dtype': 'uint16', 'nodata': 0.0, 'width': 21, 'height': 21, 'count': 1, 'crs': CRS.from_epsg(32613), 'transform': Affine(10.0, 0.0, 904520.0,\n",
      "       0.0, -10.0, 2813300.0), 'blockxsize': 256, 'blockysize': 256, 'tiled': True, 'compress': 'deflate', 'interleave': 'band'}\n",
      "{'driver': 'GTiff', 'dtype': 'uint16', 'nodata': 0.0, 'width': 21, 'height': 21, 'count': 1, 'crs': CRS.from_epsg(32613), 'transform': Affine(10.0, 0.0, 904520.0,\n",
      "       0.0, -10.0, 2813300.0), 'blockxsize': 256, 'blockysize': 256, 'tiled': True, 'compress': 'deflate', 'interleave': 'band'}\n",
      "{'driver': 'GTiff', 'dtype': 'uint16', 'nodata': 0.0, 'width': 21, 'height': 21, 'count': 1, 'crs': CRS.from_epsg(32613), 'transform': Affine(10.0, 0.0, 904520.0,\n",
      "       0.0, -10.0, 2813300.0), 'blockxsize': 256, 'blockysize': 256, 'tiled': True, 'compress': 'deflate', 'interleave': 'band'}\n",
      "{'driver': 'GTiff', 'dtype': 'uint16', 'nodata': 0.0, 'width': 21, 'height': 21, 'count': 1, 'crs': CRS.from_epsg(32613), 'transform': Affine(10.0, 0.0, 904520.0,\n",
      "       0.0, -10.0, 2813300.0), 'blockxsize': 256, 'blockysize': 256, 'tiled': True, 'compress': 'deflate', 'interleave': 'band'}\n",
      "{'driver': 'GTiff', 'dtype': 'uint16', 'nodata': 0.0, 'width': 21, 'height': 21, 'count': 1, 'crs': CRS.from_epsg(32613), 'transform': Affine(10.0, 0.0, 904520.0,\n",
      "       0.0, -10.0, 2813300.0), 'blockxsize': 256, 'blockysize': 256, 'tiled': True, 'compress': 'deflate', 'interleave': 'band'}\n",
      "{'driver': 'GTiff', 'dtype': 'uint16', 'nodata': 0.0, 'width': 21, 'height': 21, 'count': 1, 'crs': CRS.from_epsg(32613), 'transform': Affine(10.0, 0.0, 904520.0,\n",
      "       0.0, -10.0, 2813300.0), 'blockxsize': 256, 'blockysize': 256, 'tiled': True, 'compress': 'deflate', 'interleave': 'band'}\n",
      "{'driver': 'GTiff', 'dtype': 'uint16', 'nodata': 0.0, 'width': 21, 'height': 21, 'count': 1, 'crs': CRS.from_epsg(32613), 'transform': Affine(10.0, 0.0, 904520.0,\n",
      "       0.0, -10.0, 2813300.0), 'blockxsize': 256, 'blockysize': 256, 'tiled': True, 'compress': 'deflate', 'interleave': 'band'}\n",
      "{'driver': 'GTiff', 'dtype': 'uint16', 'nodata': 0.0, 'width': 21, 'height': 21, 'count': 1, 'crs': CRS.from_epsg(32613), 'transform': Affine(10.0, 0.0, 904520.0,\n",
      "       0.0, -10.0, 2813300.0), 'blockxsize': 256, 'blockysize': 256, 'tiled': True, 'compress': 'deflate', 'interleave': 'band'}\n",
      "{'driver': 'GTiff', 'dtype': 'float64', 'nodata': 40937.05954422989, 'width': 21, 'height': 21, 'count': 1, 'crs': CRS.from_epsg(32613), 'transform': Affine(10.0, 0.0, 904520.0,\n",
      "       0.0, -10.0, 2813300.0), 'blockxsize': 256, 'blockysize': 256, 'tiled': True, 'compress': 'deflate', 'interleave': 'band'}\n"
     ]
    }
   ],
   "source": [
    "stacked_patches = []\n",
    "for patch in patches_bands:\n",
    "    with rio.open(patch, \"r\") as f:\n",
    "        stacked_patches.append(f.read(1))\n",
    "        print(f.profile)"
   ]
  },
  {
   "cell_type": "code",
   "execution_count": 8,
   "metadata": {},
   "outputs": [
    {
     "data": {
      "text/plain": [
       "(14, 21, 21)"
      ]
     },
     "execution_count": 8,
     "metadata": {},
     "output_type": "execute_result"
    }
   ],
   "source": [
    "# stack bands into an nd array\n",
    "stacked_patch = np.stack(stacked_patches)\n",
    "stacked_patch.shape"
   ]
  },
  {
   "cell_type": "code",
   "execution_count": 9,
   "metadata": {},
   "outputs": [
    {
     "data": {
      "text/plain": [
       "(21, 21, 14)"
      ]
     },
     "execution_count": 9,
     "metadata": {},
     "output_type": "execute_result"
    }
   ],
   "source": [
    "np.transpose(stacked_patch).shape"
   ]
  },
  {
   "cell_type": "code",
   "execution_count": 10,
   "metadata": {},
   "outputs": [
    {
     "data": {
      "text/plain": [
       "(14, 21, 21)"
      ]
     },
     "execution_count": 10,
     "metadata": {},
     "output_type": "execute_result"
    }
   ],
   "source": [
    "# Save stacked tif image\n",
    "image_name = re.search(r\"(?<=\\\\)(.*?)(?=.B)\", patches_bands[0]).group()\n",
    "tifffile.imwrite(f\"{parent_dir}/\" + image_name + \".tif\", stacked_patch)\n",
    "stacked_image = tifffile.imread(f\"{parent_dir}/\" + image_name + \".tif\")\n",
    "stacked_image.shape"
   ]
  },
  {
   "cell_type": "code",
   "execution_count": 11,
   "metadata": {},
   "outputs": [
    {
     "data": {
      "text/plain": [
       "'20220713T170901_20220713T172008_T14RKP'"
      ]
     },
     "execution_count": 11,
     "metadata": {},
     "output_type": "execute_result"
    }
   ],
   "source": [
    "image_name"
   ]
  },
  {
   "attachments": {},
   "cell_type": "markdown",
   "metadata": {},
   "source": [
    "### Generalize stacking for all images (leak)"
   ]
  },
  {
   "cell_type": "code",
   "execution_count": 15,
   "metadata": {},
   "outputs": [],
   "source": [
    "# Variables\n",
    "parent_dir = leak_path\n",
    "suffix = \"_leak\""
   ]
  },
  {
   "cell_type": "code",
   "execution_count": 13,
   "metadata": {},
   "outputs": [],
   "source": [
    "# Function to order tif files by their band name\n",
    "def my_digit_sort(my_list):\n",
    "   return list(map(int, re.findall(r'(?<=.B)\\d+(?=A?.tif)', my_list)))[0]"
   ]
  },
  {
   "cell_type": "code",
   "execution_count": 14,
   "metadata": {},
   "outputs": [],
   "source": [
    "# Get list of all patch directories\n",
    "image_directories = os.listdir(parent_dir)\n",
    "\n",
    "# Remove zip files from list\n",
    "pattern = re.compile(\"^S.*\\d$\")\n",
    "image_directories_nozips = list(filter(pattern.match, image_directories))\n",
    "\n",
    "# Get band path for each patch\n",
    "id = 0\n",
    "for image_dir in image_directories_nozips:\n",
    "    id_leak = re.search(r\"(?<=i)(.*?)(?=d)\", image_dir).group()\n",
    "    patches_bands = glob(f\"{parent_dir}/\" + image_dir + \"/*B*.tif\")\n",
    "    patches_bands.sort(key = my_digit_sort)\n",
    "    patches_bands.append(glob(f\"{parent_dir}/\" + image_dir + \"/*WVP*.tif\")[0])\n",
    "    patches_bands.append(glob(f\"{parent_dir}/\" + image_dir + \"/*LST*.tif\")[0])\n",
    "\n",
    "    stacked_patches = []\n",
    "    for patch in patches_bands:\n",
    "        with rio.open(patch, \"r\") as f:\n",
    "            stacked_patches.append(f.read(1))\n",
    "    \n",
    "    stacked_patch = np.transpose(np.stack(stacked_patches))\n",
    "\n",
    "    # Crop patch\n",
    "    if stacked_patch.shape == (21, 21, 14):\n",
    "        stacked_patch = stacked_patch[1:21, 1:21, :]\n",
    "    if stacked_patch.shape == (20, 21, 14):\n",
    "        stacked_patch = stacked_patch[:, 1:21, :]\n",
    "    if stacked_patch.shape == (21, 20, 14):\n",
    "        stacked_patch = stacked_patch[1:21, :, :]\n",
    "    \n",
    "    image_name = re.search(r\"(?<=\\\\)(.*?)(?=.B)\", patches_bands[0]).group()\n",
    "    # Add id\n",
    "    image_name = image_name + f\"{suffix}\" + str(id) + \"_idLeak_\" + id_leak\n",
    "\n",
    "    # Create stacked image save directory in patches_clean\n",
    "#    save_path = \"../data/patches_clean/leak/\" + image_dir\n",
    "\n",
    "#    if os.path.exists(save_path) == False:\n",
    "#        os.mkdir(save_path)\n",
    "\n",
    "    # Write stacked patch\n",
    "    tifffile.imwrite(f\"{parent_dir}/\" + image_name + \".tif\", stacked_patch)\n",
    "    id += 1 "
   ]
  },
  {
   "attachments": {},
   "cell_type": "markdown",
   "metadata": {},
   "source": [
    "### Generalize for non leak images"
   ]
  },
  {
   "cell_type": "code",
   "execution_count": 16,
   "metadata": {},
   "outputs": [],
   "source": [
    "# Variables\n",
    "parent_dir = nonleak_path\n",
    "suffix = \"_nonleak\""
   ]
  },
  {
   "cell_type": "code",
   "execution_count": 18,
   "metadata": {},
   "outputs": [],
   "source": [
    "# Get list of all patch directories\n",
    "image_directories = os.listdir(parent_dir)\n",
    "\n",
    "# Remove zip files from list\n",
    "pattern = re.compile(\"^S.*\\d$\")\n",
    "image_directories_nozips = list(filter(pattern.match, image_directories))\n",
    "\n",
    "# Get band path for each patch\n",
    "id = 0\n",
    "for image_dir in image_directories_nozips:\n",
    "    id_leak = re.search(r\"(?<=i)(.*?)(?=d)\", image_dir).group()\n",
    "    patches_bands = glob(f\"{parent_dir}/\" + image_dir + \"/*B*.tif\")\n",
    "    patches_bands.sort(key = my_digit_sort)\n",
    "    patches_bands.append(glob(f\"{parent_dir}/\" + image_dir + \"/*WVP*.tif\")[0])\n",
    "    patches_bands.append(glob(f\"{parent_dir}/\" + image_dir + \"/*LST*.tif\")[0])\n",
    "\n",
    "    stacked_patches = []\n",
    "    for patch in patches_bands:\n",
    "        with rio.open(patch, \"r\") as f:\n",
    "            stacked_patches.append(f.read(1))\n",
    "    \n",
    "    stacked_patch = np.transpose(np.stack(stacked_patches))\n",
    "\n",
    "    # Crop patch\n",
    "    if stacked_patch.shape == (21, 21, 14):\n",
    "        stacked_patch = stacked_patch[1:21, 1:21, :]\n",
    "    if stacked_patch.shape == (20, 21, 14):\n",
    "        stacked_patch = stacked_patch[:, 1:21, :]\n",
    "    if stacked_patch.shape == (21, 20, 14):\n",
    "        stacked_patch = stacked_patch[1:21, :, :]\n",
    "    \n",
    "    image_name = re.search(r\"(?<=\\\\)(.*?)(?=.B)\", patches_bands[0]).group()\n",
    "    # Add id\n",
    "    image_name = image_name + f\"{suffix}\" + str(id) + \"_idLeak_\" + id_leak\n",
    "\n",
    "    # Create stacked image save directory in patches_clean\n",
    "#    save_path = \"../data/patches_clean/leak/\" + image_dir\n",
    "\n",
    "#    if os.path.exists(save_path) == False:\n",
    "#        os.mkdir(save_path)\n",
    "\n",
    "    # Write stacked patch\n",
    "    tifffile.imwrite(f\"{parent_dir}/\" + image_name + \".tif\", stacked_patch)\n",
    "    id += 1 "
   ]
  },
  {
   "cell_type": "markdown",
   "metadata": {},
   "source": [
    "## Create image set"
   ]
  },
  {
   "cell_type": "code",
   "execution_count": 19,
   "metadata": {},
   "outputs": [
    {
     "data": {
      "text/plain": [
       "['../data/patches_raw_agsal/leak/FL\\\\20220713T170901_20220713T172008_T14RKP_leak0_idLeak_1007139.tif',\n",
       " '../data/patches_raw_agsal/leak/FL\\\\20220713T170901_20220713T172008_T14RKP_leak1_idLeak_1013099.tif',\n",
       " '../data/patches_raw_agsal/leak/FL\\\\20220713T170901_20220713T172008_T14RKP_leak2_idLeak_1020055.tif',\n",
       " '../data/patches_raw_agsal/leak/FL\\\\20220713T170901_20220713T172008_T14RKP_leak3_idLeak_1020062.tif',\n",
       " '../data/patches_raw_agsal/leak/FL\\\\20220713T170901_20220713T172008_T14RKP_leak4_idLeak_1020063.tif',\n",
       " '../data/patches_raw_agsal/nonleak/FL\\\\20220812T170901_20220812T171652_T13RHJ_nonleak0_idLeak_1007139.tif',\n",
       " '../data/patches_raw_agsal/nonleak/FL\\\\20220812T170901_20220812T171652_T13RHJ_nonleak1_idLeak_1013099.tif',\n",
       " '../data/patches_raw_agsal/nonleak/FL\\\\20220812T170901_20220812T171652_T13RHJ_nonleak2_idLeak_1020055.tif',\n",
       " '../data/patches_raw_agsal/nonleak/FL\\\\20220812T170901_20220812T171652_T13RHJ_nonleak3_idLeak_1020062.tif',\n",
       " '../data/patches_raw_agsal/nonleak/FL\\\\20220812T170901_20220812T171652_T13RHJ_nonleak4_idLeak_1020063.tif']"
      ]
     },
     "execution_count": 19,
     "metadata": {},
     "output_type": "execute_result"
    }
   ],
   "source": [
    "# Paths of .tif images\n",
    "files_leak = glob(f\"{leak_path}/*.tif\")\n",
    "files_nonleak = glob(f\"{nonleak_path}/*.tif\")\n",
    "files = files_leak + files_nonleak"
   ]
  },
  {
   "cell_type": "code",
   "execution_count": 20,
   "metadata": {},
   "outputs": [
    {
     "name": "stdout",
     "output_type": "stream",
     "text": [
      "Data without augmentation:  (5, 20, 20, 14)\n"
     ]
    }
   ],
   "source": [
    "# Read and perform augmentation\n",
    "X_leaks = []\n",
    "for file in files_leak:\n",
    "    image = imread(file)\n",
    "    if image.shape == (20, 20, 14):\n",
    "        X_leaks.append(image)\n",
    "    else: \n",
    "        next\n",
    "\n",
    "print(\"Data without augmentation: \", np.array(X_leaks).shape)"
   ]
  },
  {
   "cell_type": "code",
   "execution_count": 21,
   "metadata": {},
   "outputs": [
    {
     "name": "stdout",
     "output_type": "stream",
     "text": [
      "Data without augmentation:  (5, 20, 20, 14)\n"
     ]
    }
   ],
   "source": [
    "# Read and perform augmentation\n",
    "X_nonleaks = []\n",
    "for file in files_nonleak:\n",
    "    image = imread(file)\n",
    "    if image.shape == (20, 20, 14):\n",
    "        X_nonleaks.append(image)\n",
    "    else: \n",
    "        next\n",
    "\n",
    "print(\"Data without augmentation: \", np.array(X_nonleaks).shape)"
   ]
  },
  {
   "cell_type": "code",
   "execution_count": 22,
   "metadata": {},
   "outputs": [
    {
     "data": {
      "text/plain": [
       "(10, 20, 20, 14)"
      ]
     },
     "execution_count": 22,
     "metadata": {},
     "output_type": "execute_result"
    }
   ],
   "source": [
    "X = np.vstack([X_leaks, X_nonleaks])\n",
    "X.shape"
   ]
  },
  {
   "cell_type": "code",
   "execution_count": 24,
   "metadata": {},
   "outputs": [
    {
     "data": {
      "text/plain": [
       "(10, 1)"
      ]
     },
     "execution_count": 24,
     "metadata": {},
     "output_type": "execute_result"
    }
   ],
   "source": [
    "Y = [1 for i in range(0, len(X_leaks))] + [0 for i in range(0, len(X_nonleaks))]\n",
    "Y = np.array(Y).reshape(X.shape[0], 1)\n",
    "Y.shape"
   ]
  },
  {
   "cell_type": "code",
   "execution_count": 27,
   "metadata": {},
   "outputs": [
    {
     "data": {
      "text/plain": [
       "array([[1],\n",
       "       [1],\n",
       "       [1],\n",
       "       [1],\n",
       "       [1],\n",
       "       [0],\n",
       "       [0],\n",
       "       [0],\n",
       "       [0],\n",
       "       [0]])"
      ]
     },
     "execution_count": 27,
     "metadata": {},
     "output_type": "execute_result"
    }
   ],
   "source": [
    "Y"
   ]
  },
  {
   "cell_type": "code",
   "execution_count": 26,
   "metadata": {},
   "outputs": [],
   "source": [
    "# Write full sets\n",
    "np.save(\"../data/clean/X_agsal.npy\", X)\n",
    "np.save(\"../data/clean/Y_agsal.npy\", Y)"
   ]
  }
 ],
 "metadata": {
  "kernelspec": {
   "display_name": "Python 3",
   "language": "python",
   "name": "python3"
  },
  "language_info": {
   "codemirror_mode": {
    "name": "ipython",
    "version": 3
   },
   "file_extension": ".py",
   "mimetype": "text/x-python",
   "name": "python",
   "nbconvert_exporter": "python",
   "pygments_lexer": "ipython3",
   "version": "3.9.16"
  },
  "orig_nbformat": 4
 },
 "nbformat": 4,
 "nbformat_minor": 2
}
