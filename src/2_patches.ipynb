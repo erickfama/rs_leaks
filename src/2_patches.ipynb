{
 "cells": [
  {
   "cell_type": "code",
   "execution_count": 1,
   "metadata": {},
   "outputs": [],
   "source": [
    "import ee\n",
    "import geemap\n",
    "import pandas as pd\n",
    "import geopandas as gpd\n",
    "import rasterio as rio\n",
    "import matplotlib.pyplot as plt\n",
    "import datetime\n",
    "import pyproj"
   ]
  },
  {
   "cell_type": "code",
   "execution_count": 2,
   "metadata": {},
   "outputs": [],
   "source": [
    "# Read pipe network and leaks loc\n",
    "pipes_raw = gpd.read_file(\"../data/shp/Tuberias.shp\")\n",
    "leaks_raw = pd.read_excel(\"../data/raw/Ordenes Fugas Ejecutadas Dic2022 XY.xlsx\")"
   ]
  },
  {
   "cell_type": "code",
   "execution_count": 3,
   "metadata": {},
   "outputs": [],
   "source": [
    "# Define geometry from coords in leaks dataset\n",
    "leaks_clean = leaks_raw.copy()\n",
    "leaks_clean[\"geometry\"] = gpd.points_from_xy(leaks_clean[\"X\"], leaks_clean[\"Y\"])\n",
    "\n",
    "# Create gepandas gpd \n",
    "leaks_clean = gpd.GeoDataFrame(leaks_clean, geometry = \"geometry\")\n",
    "pipes_clean = pipes_raw.copy()"
   ]
  },
  {
   "cell_type": "code",
   "execution_count": 4,
   "metadata": {},
   "outputs": [
    {
     "data": {
      "text/plain": [
       "<Compound CRS: COMPD_CS[\"WGS 84 / UTM zone 13N + NAVD88 height\",P ...>\n",
       "Name: WGS 84 / UTM zone 13N + NAVD88 height\n",
       "Axis Info [cartesian|vertical]:\n",
       "- [east]: Easting (metre)\n",
       "- [north]: Northing (metre)\n",
       "- [up]: Gravity-related height (metre)\n",
       "Area of Use:\n",
       "- undefined\n",
       "Datum: World Geodetic System 1984\n",
       "- Ellipsoid: WGS 84\n",
       "- Prime Meridian: Greenwich\n",
       "Sub CRS:\n",
       "- WGS 84 / UTM zone 13N\n",
       "- NAVD88 height"
      ]
     },
     "execution_count": 4,
     "metadata": {},
     "output_type": "execute_result"
    }
   ],
   "source": [
    "pipes_clean.crs"
   ]
  },
  {
   "cell_type": "code",
   "execution_count": 5,
   "metadata": {},
   "outputs": [],
   "source": [
    "# leaks_clean = leaks_clean.set_crs(\"WGS 84\")\n",
    "leaks_clean.crs"
   ]
  },
  {
   "cell_type": "code",
   "execution_count": null,
   "metadata": {},
   "outputs": [],
   "source": [
    "#pipes_clean.to_crs(4326)\n",
    "#leaks_clean.to_crs(4326)"
   ]
  },
  {
   "cell_type": "markdown",
   "metadata": {},
   "source": [
    "# Download 10x10 patch from GEE"
   ]
  },
  {
   "cell_type": "code",
   "execution_count": 6,
   "metadata": {},
   "outputs": [],
   "source": [
    "ee.Initialize()\n",
    "Map = geemap.Map()"
   ]
  },
  {
   "cell_type": "code",
   "execution_count": 7,
   "metadata": {},
   "outputs": [
    {
     "name": "stdout",
     "output_type": "stream",
     "text": [
      "('2022-11-27', '2022-12-07')\n",
      "(-102.27943290775767, 21.935910837898607)\n"
     ]
    }
   ],
   "source": [
    "# Coords of leaks\n",
    "leak_lat = leaks_clean[\"Y\"][0]\n",
    "leak_lon = leaks_clean[\"X\"][0]\n",
    "\n",
    "# Transform to degrees\n",
    "transformer = pyproj.Transformer.from_crs(\"epsg:32613\", \"epsg:4326\")\n",
    "leak_lon, leak_lat = transformer.transform(leak_lon, leak_lat)\n",
    "\n",
    "# Point of leak\n",
    "leak_poi = ee.Geometry.Point([leak_lat, leak_lon])\n",
    "\n",
    "# Date of leak\n",
    "end_date = leaks_clean[\"FECHALEGALIZACION\"][0]\n",
    "start_date = end_date - datetime.timedelta(10)\n",
    "\n",
    "end_date = str(end_date)[:10]\n",
    "start_date = str(start_date)[:10]\n",
    "\n",
    "print((start_date, end_date))\n",
    "print((leak_lat, leak_lon))"
   ]
  },
  {
   "cell_type": "code",
   "execution_count": 8,
   "metadata": {},
   "outputs": [
    {
     "name": "stdout",
     "output_type": "stream",
     "text": [
      "Images:  4\n"
     ]
    }
   ],
   "source": [
    "collection = ee.ImageCollection(\"COPERNICUS/S2_SR\")\\\n",
    "                .filterBounds(leak_poi)\\\n",
    "                .filterDate(ee.Date(start_date), ee.Date(end_date))\n",
    "\n",
    "print(\"Images: \", collection.size().getInfo())\n",
    "\n",
    "collection_list = collection.toList(collection.size())"
   ]
  },
  {
   "cell_type": "code",
   "execution_count": 10,
   "metadata": {},
   "outputs": [
    {
     "data": {
      "application/vnd.jupyter.widget-view+json": {
       "model_id": "c544a8a7d75c4d7fb3639ca5194447f9",
       "version_major": 2,
       "version_minor": 0
      },
      "text/plain": [
       "Map(bottom=3670659.0, center=[21.929391291441927, -102.28211402893068], controls=(WidgetControl(options=['posi…"
      ]
     },
     "metadata": {},
     "output_type": "display_data"
    }
   ],
   "source": [
    "bands = [\"B4\", \"B3\", \"B2\"]\n",
    "\n",
    "img0 = ee.Image(collection_list.get(0))\n",
    "img0 = img0.select(bands)\n",
    "\n",
    "# Clip patch size\n",
    "img0 = img0.clip(leak_poi.buffer(200).bounds())\n",
    "\n",
    "\n",
    "viz_params = {\n",
    "    \"bands\": [\"B4\", \"B3\", \"B2\"],\n",
    "    \"min\": 0,\n",
    "    \"max\": 3000\n",
    "}\n",
    "\n",
    "# Map.setCenter(leak_lat, leak_lon)\n",
    "Map.addLayer(img0, viz_params, \"img0\")\n",
    "Map.centerObject(img0)\n",
    "Map"
   ]
  }
 ],
 "metadata": {
  "kernelspec": {
   "display_name": "Python 3",
   "language": "python",
   "name": "python3"
  },
  "language_info": {
   "codemirror_mode": {
    "name": "ipython",
    "version": 3
   },
   "file_extension": ".py",
   "mimetype": "text/x-python",
   "name": "python",
   "nbconvert_exporter": "python",
   "pygments_lexer": "ipython3",
   "version": "3.11.2"
  },
  "orig_nbformat": 4
 },
 "nbformat": 4,
 "nbformat_minor": 2
}
